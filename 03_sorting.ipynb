{
 "cells": [
  {
   "cell_type": "markdown",
   "metadata": {},
   "source": [
    "# Bubble Sort"
   ]
  },
  {
   "cell_type": "code",
   "execution_count": null,
   "metadata": {},
   "outputs": [],
   "source": [
    "def swap(i,j):\n",
    "    return (j,i)\n",
    "def bubble_sort(arr,n):\n",
    "    for i in range(n-1):\n",
    "        for j in range(n-i-1):\n",
    "            if (arr[j] > arr[j+1]):\n",
    "                swap(arr[j],arr[i])\n",
    "    return arr"
   ]
  },
  {
   "cell_type": "markdown",
   "metadata": {},
   "source": [
    "## Efficient solution"
   ]
  },
  {
   "cell_type": "code",
   "execution_count": 1,
   "metadata": {},
   "outputs": [],
   "source": [
    "def bubble_sort_eff(arr,n):\n",
    "    for i in range(n-1):\n",
    "        swapped = false\n",
    "        for j in range(n-i-1):\n",
    "            if (arr[j] > arr[j+1]):\n",
    "                swap(arr[j],arr[j+1])\n",
    "                swapped = true\n",
    "        if (swapped== false):\n",
    "            break\n",
    "    return arr"
   ]
  },
  {
   "cell_type": "markdown",
   "metadata": {},
   "source": [
    "# Selection Sort Naive"
   ]
  },
  {
   "cell_type": "code",
   "execution_count": null,
   "metadata": {},
   "outputs": [],
   "source": [
    "def selection_sort_naive(arr):\n",
    "    n = len(arr)\n",
    "    temp = [0] * n\n",
    "    for i in range(n):\n",
    "        min_ind = 0\n",
    "        for j in range(1,n):\n",
    "            if (arr[j] < arr[min_ind]):\n",
    "                min_ind = j\n",
    "        temp[i] = arr[min_ind]\n",
    "        arr[min_ind] = float(inf)\n",
    "    for i in range(n):\n",
    "        arr[i] = temp[i]\n",
    "    return arr"
   ]
  },
  {
   "cell_type": "markdown",
   "metadata": {},
   "source": [
    "# Selection Sort Efficient"
   ]
  },
  {
   "cell_type": "code",
   "execution_count": 6,
   "metadata": {},
   "outputs": [],
   "source": [
    "def selection_sort_eff(arr):\n",
    "    n = len(arr)\n",
    "    for i in range(n):\n",
    "        min_ind = i\n",
    "        for j in range(i+1,n):\n",
    "            if (arr[j] < arr[min_ind]):\n",
    "                min_ind = j\n",
    "        temp = arr[i]\n",
    "        arr[i] = arr[min_ind]\n",
    "        arr[min_ind] = temp\n",
    "    return arr"
   ]
  },
  {
   "cell_type": "code",
   "execution_count": 7,
   "metadata": {},
   "outputs": [
    {
     "data": {
      "text/plain": [
       "[2, 5, 8, 10, 18, 20]"
      ]
     },
     "execution_count": 7,
     "metadata": {},
     "output_type": "execute_result"
    }
   ],
   "source": [
    "selection_sort_eff([10,5,8,20,2,18])"
   ]
  },
  {
   "cell_type": "markdown",
   "metadata": {},
   "source": [
    "# Insertion Sort "
   ]
  },
  {
   "cell_type": "code",
   "execution_count": 11,
   "metadata": {},
   "outputs": [],
   "source": [
    "def insertion_sort(arr):\n",
    "    n = len(arr)\n",
    "    for i in range(1,n):\n",
    "        key = arr[i]\n",
    "        j = i-1\n",
    "        while (j>=0 and arr[j] > key):\n",
    "            arr[j+1] = arr[j]\n",
    "            j-=1\n",
    "        arr[j+1] = key\n",
    "    return arr"
   ]
  },
  {
   "cell_type": "code",
   "execution_count": 12,
   "metadata": {},
   "outputs": [
    {
     "data": {
      "text/plain": [
       "[2, 5, 8, 10, 18, 20]"
      ]
     },
     "execution_count": 12,
     "metadata": {},
     "output_type": "execute_result"
    }
   ],
   "source": [
    "insertion_sort([10,5,8,20,2,18])"
   ]
  },
  {
   "cell_type": "markdown",
   "metadata": {},
   "source": [
    "# Merge Sort"
   ]
  },
  {
   "cell_type": "code",
   "execution_count": null,
   "metadata": {},
   "outputs": [],
   "source": [
    "def merge(arr1,arr2):\n",
    "    m = len(arr1)\n",
    "    n = len(arr2)\n",
    "    i = 0\n",
    "    j = 0\n",
    "    while (i<m and j<n):\n",
    "        if (arr1[i] <=arr2[j]):\n",
    "            print(arr1[i])\n",
    "            i+=1\n",
    "        else:\n",
    "            print(arr2[j])\n",
    "            j+=1\n",
    "    while (i<m):\n",
    "        print(arr1[i])\n",
    "        i+=1\n",
    "    while (j<n):\n",
    "        print(arr2[j])\n",
    "        j+=1\n"
   ]
  },
  {
   "cell_type": "markdown",
   "metadata": {},
   "source": [
    "# Merge Function of merge Sort"
   ]
  },
  {
   "cell_type": "code",
   "execution_count": 20,
   "metadata": {},
   "outputs": [],
   "source": [
    "def merge_function(arr,low,mid,high):\n",
    "    n1 = mid - low + 1\n",
    "    n2 = high - mid\n",
    "    left = [0] * n1\n",
    "    right = [0] * n2\n",
    "    for i in range(n1):\n",
    "        left[i] = arr[low + i]\n",
    "    for i in range(n2):\n",
    "        right[i] = arr[mid +i+1]\n",
    "\n",
    "    i = 0\n",
    "    j = 0\n",
    "    k = low\n",
    "    while (i<n1 and j < n2):\n",
    "        if (left[i] <= right[j]):\n",
    "            arr[k] = left[i]\n",
    "            i+=1\n",
    "            k+=1\n",
    "        else:\n",
    "            arr[k] = right[j]\n",
    "            j+=1\n",
    "            k+=1\n",
    "    while (i<n1):\n",
    "        arr[k] = left[i]\n",
    "        i+=1\n",
    "        k+=1\n",
    "    while (j<n2):\n",
    "        arr[k] = right[j]\n",
    "        j+=1\n",
    "        k+=1\n",
    "    return arr"
   ]
  },
  {
   "cell_type": "code",
   "execution_count": 21,
   "metadata": {},
   "outputs": [
    {
     "data": {
      "text/plain": [
       "[10, 20, 20, 30, 40]"
      ]
     },
     "execution_count": 21,
     "metadata": {},
     "output_type": "execute_result"
    }
   ],
   "source": [
    "merge_function([10,20,40,20,30],0,2,4)"
   ]
  },
  {
   "cell_type": "markdown",
   "metadata": {},
   "source": [
    "# Merge Sort Without any Extra Space"
   ]
  },
  {
   "cell_type": "markdown",
   "metadata": {},
   "source": [
    "## Brute Force"
   ]
  },
  {
   "cell_type": "code",
   "execution_count": 3,
   "metadata": {},
   "outputs": [],
   "source": [
    "def merge_sort_brute_force(arr1,arr2,n,m):\n",
    "    arr3 = [0] * (m+n)\n",
    "    left = 0\n",
    "    right = 0\n",
    "    index = 0\n",
    "    while (left < n and right < m):\n",
    "        if (arr1[left] <=arr2[right]):\n",
    "            arr3[index] = arr1[left]\n",
    "            left+=1\n",
    "            index+=1\n",
    "        else:\n",
    "            arr3[index] = arr2[right]\n",
    "            right+=1\n",
    "            index+=1\n",
    "    while (left < n):\n",
    "        arr3[index] = arr1[left]\n",
    "        left+=1\n",
    "        index+=1\n",
    "    while (right < m):\n",
    "        arr3[index] = arr2[right]\n",
    "        right+=1\n",
    "        index+=1\n",
    "    return arr3"
   ]
  },
  {
   "cell_type": "code",
   "execution_count": 4,
   "metadata": {},
   "outputs": [
    {
     "data": {
      "text/plain": [
       "[1, 2, 3, 4, 8, 9, 10]"
      ]
     },
     "execution_count": 4,
     "metadata": {},
     "output_type": "execute_result"
    }
   ],
   "source": [
    "merge_sort_brute_force([1, 4, 8, 10],[2, 3, 9],4,3)"
   ]
  },
  {
   "cell_type": "markdown",
   "metadata": {},
   "source": [
    "## Optimal Approach"
   ]
  },
  {
   "cell_type": "code",
   "execution_count": 23,
   "metadata": {},
   "outputs": [],
   "source": [
    "def swap_if_greater(arr1,arr2,ind1,ind2):\n",
    "        if arr1[ind1] > arr2[ind2]:\n",
    "            arr1[ind1], arr2[ind2] = arr2[ind2],arr1[ind1]\n",
    "def merge_sort_without_extra_space_optimal(arr1,arr2,n,m):\n",
    "    len = n + m\n",
    "    gap = (len//2) + (len%2)\n",
    "    while (gap>0):\n",
    "        left = 0\n",
    "        right = left + gap\n",
    "        print(gap,left,right,sep=\" \")\n",
    "        while right < len:\n",
    "            if left < n and right >=n:\n",
    "                swap_if_greater(arr1,arr2,left,right-n)\n",
    "            elif left >= n :\n",
    "                swap_if_greater(arr2,arr2,left-n,right-n)\n",
    "            else:\n",
    "                swap_if_greater(arr1,arr1,left,right)\n",
    "            left+=1\n",
    "            right+=1\n",
    "        if gap==1:\n",
    "            break\n",
    "        gap = (gap//2) + (gap%2)\n",
    "    for i in range(n):\n",
    "        print(arr1[i],end=\" \")\n",
    "    print(\"\\n\")\n",
    "    for i in range(m):\n",
    "        print(arr2[i],end=\" \")"
   ]
  },
  {
   "cell_type": "code",
   "execution_count": 24,
   "metadata": {},
   "outputs": [
    {
     "name": "stdout",
     "output_type": "stream",
     "text": [
      "5 0 5\n",
      "3 0 3\n",
      "2 0 2\n",
      "1 0 1\n",
      "0 1 2 3 \n",
      "\n",
      "5 6 7 8 9 "
     ]
    }
   ],
   "source": [
    "merge_sort_without_extra_space_optimal([1, 3,5,7],[0,2,6,8,9],4,5)"
   ]
  },
  {
   "cell_type": "code",
   "execution_count": 36,
   "metadata": {},
   "outputs": [],
   "source": [
    "def merge(a,b):\n",
    "    def swap_if_greater(a,b,ind1,ind2):\n",
    "        if a[ind1] > b[ind2]:\n",
    "            a[ind1],b[ind2] = b[ind2],a[ind1]\n",
    "    # code here\n",
    "    n = len(a)\n",
    "    m = len(b)\n",
    "    l = n + m\n",
    "    gap = (l//2) + (l%2)\n",
    "    while (gap>0):\n",
    "        left = 0\n",
    "        right = left + gap\n",
    "        while right < l:\n",
    "            if left < n and right >= n:\n",
    "                swap_if_greater(a,b,left,right-n)\n",
    "            elif left >=n :\n",
    "                swap_if_greater(b,b,left-n,right-n)\n",
    "            else:\n",
    "                swap_if_greater(a,a,left,right)\n",
    "            left+=1\n",
    "            right+=1\n",
    "        if gap==1:\n",
    "            break\n",
    "        gap = (gap//2) + (gap%2)\n",
    "    for i in range(n):\n",
    "        print(a[i],sep=\" \")\n",
    "    for i in range(m):\n",
    "        print(b[i],sep=\" \")"
   ]
  },
  {
   "cell_type": "code",
   "execution_count": 37,
   "metadata": {},
   "outputs": [
    {
     "name": "stdout",
     "output_type": "stream",
     "text": [
      "0\n",
      "1\n",
      "2\n",
      "3\n",
      "5\n",
      "6\n",
      "7\n",
      "8\n",
      "9\n"
     ]
    }
   ],
   "source": [
    "merge([1,3,5,7],[0,2,6,8,9])"
   ]
  },
  {
   "cell_type": "markdown",
   "metadata": {},
   "source": [
    "# Merge K Sorted Arrays"
   ]
  },
  {
   "cell_type": "code",
   "execution_count": null,
   "metadata": {},
   "outputs": [],
   "source": [
    "def mergeArrays(arr1,arr2,N1,N2):\n"
   ]
  },
  {
   "cell_type": "markdown",
   "metadata": {},
   "source": [
    "# Finding Triplets with Zero Sum"
   ]
  },
  {
   "cell_type": "markdown",
   "metadata": {},
   "source": [
    "## Better Approach"
   ]
  },
  {
   "cell_type": "code",
   "execution_count": 12,
   "metadata": {},
   "outputs": [],
   "source": [
    "def find_triplets_better(arr,n):\n",
    "    st = set()\n",
    "    for i in range(n):\n",
    "        hashset = set()\n",
    "        for j in range(i+1,n):\n",
    "            third = -(arr[i] + arr[j])\n",
    "            if third in hashset:\n",
    "                temp = [arr[i],arr[j],third]\n",
    "                temp.sort()\n",
    "                st.add(tuple(temp))\n",
    "            hashset.add(arr[j])\n",
    "    ans = list(st)\n",
    "    return ans\n"
   ]
  },
  {
   "cell_type": "code",
   "execution_count": null,
   "metadata": {},
   "outputs": [],
   "source": [
    "find_triplets_better( [-1, 0, 1, 2, -1, -4], 6)"
   ]
  },
  {
   "cell_type": "markdown",
   "metadata": {},
   "source": [
    "## Optimal approach"
   ]
  },
  {
   "cell_type": "code",
   "execution_count": 20,
   "metadata": {},
   "outputs": [],
   "source": [
    "def find_triplets_optimal(arr,n):\n",
    "    # Sort the array\n",
    "    ans=[]\n",
    "    for i in range(1,n):\n",
    "        key = arr[i]\n",
    "        j = i-1\n",
    "        while (j>=0 and arr[j]> key):\n",
    "            arr[j+1] = arr[j]\n",
    "            j-=1\n",
    "        arr[j+1] = key\n",
    "    print(arr)\n",
    "    for i in range(n):\n",
    "        if i!=0 and arr[i]==arr[i-1]:\n",
    "            continue\n",
    "        j = i + 1\n",
    "        k = n - 1\n",
    "        while (j<k):\n",
    "            sum_arr = arr[i] + arr[j] + arr[k]\n",
    "            if sum_arr < 0 :\n",
    "                j+=1\n",
    "            elif sum_arr > 0:\n",
    "                k-=1\n",
    "            else:\n",
    "                temp = [arr[i],arr[j],arr[k]]\n",
    "                ans.append(temp)\n",
    "                j+=1\n",
    "                k-=1\n",
    "                while (j<k and arr[j]==arr[j-1]):\n",
    "                    j+=1\n",
    "                while (j<k and arr[k]==arr[k+1]):\n",
    "                    k-=1\n",
    "    return ans"
   ]
  },
  {
   "cell_type": "code",
   "execution_count": 31,
   "metadata": {},
   "outputs": [],
   "source": [
    "def test_find_triplets_optimal(arr,n):\n",
    "    # Sort the array\n",
    "    ans=[]\n",
    "    for i in range(1,n):\n",
    "        key = arr[i]\n",
    "        j = i-1\n",
    "        while (j>=0 and arr[j]> key):\n",
    "            arr[j+1] = arr[j]\n",
    "            j-=1\n",
    "        arr[j+1] = key\n",
    "    print(arr)\n",
    "    for i in range(n):\n",
    "        if i!=0 and arr[i]==arr[i-1]:\n",
    "            continue\n",
    "        j = i + 1\n",
    "        k = n - 1\n",
    "        while (j<k):\n",
    "            sum_arr = arr[i] + arr[j] + arr[k]\n",
    "            if (sum_arr < 0 ):\n",
    "                j+=1\n",
    "            elif (sum_arr > 0):\n",
    "                k-=1\n",
    "            else:\n",
    "                j+=1\n",
    "                k-=1\n",
    "                while (j<k and arr[j]==arr[j-1]):\n",
    "                    j+=1\n",
    "                while (j<k and arr[k]==arr[k+1]):\n",
    "                    k-=1\n",
    "                return True\n",
    "    return False"
   ]
  },
  {
   "cell_type": "code",
   "execution_count": 32,
   "metadata": {},
   "outputs": [
    {
     "name": "stdout",
     "output_type": "stream",
     "text": [
      "[-3, -1, 0, 1, 2]\n"
     ]
    },
    {
     "data": {
      "text/plain": [
       "True"
      ]
     },
     "execution_count": 32,
     "metadata": {},
     "output_type": "execute_result"
    }
   ],
   "source": [
    "test_find_triplets_optimal( [0 ,-1 ,2 ,-3 ,1], 5)"
   ]
  },
  {
   "cell_type": "code",
   "execution_count": 21,
   "metadata": {},
   "outputs": [
    {
     "name": "stdout",
     "output_type": "stream",
     "text": [
      "[-4, -1, -1, 0, 1, 2]\n"
     ]
    },
    {
     "data": {
      "text/plain": [
       "[[-1, -1, 2], [-1, 0, 1]]"
      ]
     },
     "execution_count": 21,
     "metadata": {},
     "output_type": "execute_result"
    }
   ],
   "source": [
    "find_triplets_optimal( [-1, 0, 1, 2, -1, -4], 6)"
   ]
  },
  {
   "cell_type": "code",
   "execution_count": 10,
   "metadata": {},
   "outputs": [],
   "source": [
    "def find_triplets(arr, n):\n",
    "    for i in range(1,n):\n",
    "        key = arr[i]\n",
    "        j = i-1\n",
    "        while (j>=0 and arr[j]>key):\n",
    "            arr[j+1] = arr[j]\n",
    "            j-=1\n",
    "        arr[j+1] = key\n",
    "    left_index = 0\n",
    "    right_index = n - 1\n",
    "    while (left_index<right_index):\n",
    "        sum_arr = arr[left_index] + arr[right_index]\n",
    "        for i in range(left_index+1,right_index):\n",
    "            if (sum_arr + arr[i] == 0):\n",
    "                return True\n",
    "        left_index += 1\n",
    "        right_index -=1\n",
    "    return False"
   ]
  },
  {
   "cell_type": "code",
   "execution_count": 14,
   "metadata": {},
   "outputs": [
    {
     "data": {
      "text/plain": [
       "True"
      ]
     },
     "execution_count": 14,
     "metadata": {},
     "output_type": "execute_result"
    }
   ],
   "source": [
    "find_triplets( [-1, 0, 1, 2, -1, -4], 5)"
   ]
  },
  {
   "cell_type": "markdown",
   "metadata": {},
   "source": [
    "# Intersection of Two Sorted Arrays"
   ]
  },
  {
   "cell_type": "markdown",
   "metadata": {},
   "source": [
    "## Naive Solution"
   ]
  },
  {
   "cell_type": "code",
   "execution_count": null,
   "metadata": {},
   "outputs": [],
   "source": [
    "def intersection_naive(arr1,arr2,m,n):\n",
    "    for i in range(m):\n",
    "        if (i>0 and arr1[i]==arr1[i-1]):\n",
    "            continue\n",
    "        for j in range(n):\n",
    "            if arr1[i]==arr2[j]:\n",
    "                print(arr1[i],sep=\" \")\n",
    "                break\n"
   ]
  },
  {
   "cell_type": "code",
   "execution_count": 2,
   "metadata": {},
   "outputs": [
    {
     "name": "stdout",
     "output_type": "stream",
     "text": [
      "20\n"
     ]
    }
   ],
   "source": [
    "intersection_naive([1,20,20,40,60],[2,20,20,20],5,4)"
   ]
  },
  {
   "cell_type": "markdown",
   "metadata": {},
   "source": [
    "## Efficient Solution"
   ]
  },
  {
   "cell_type": "code",
   "execution_count": 3,
   "metadata": {},
   "outputs": [],
   "source": [
    "def intersection_eff(arr1,arr2,m,n):\n",
    "    i = 0\n",
    "    j = 0\n",
    "    while (i<m and j<n):\n",
    "        if (i>0 and arr1[i]==arr1[i-1]):\n",
    "            i+=1\n",
    "            continue\n",
    "        if (arr1[i] < arr2[j]):\n",
    "            i+=1\n",
    "        elif (arr1[i] > arr2[j]):\n",
    "            j+=1\n",
    "        else:\n",
    "            print(arr1[i],sep=\" \")\n",
    "            i+=1\n",
    "            j+=1"
   ]
  },
  {
   "cell_type": "code",
   "execution_count": 4,
   "metadata": {},
   "outputs": [
    {
     "name": "stdout",
     "output_type": "stream",
     "text": [
      "10\n",
      "20\n"
     ]
    }
   ],
   "source": [
    "intersection_eff([10,20,20,20],[5,10,20,30],4,4)"
   ]
  },
  {
   "cell_type": "markdown",
   "metadata": {},
   "source": [
    "# Union of two sorted Arrays"
   ]
  },
  {
   "cell_type": "code",
   "execution_count": 8,
   "metadata": {},
   "outputs": [],
   "source": [
    "def union_of_arrays(arr1,arr2,m,n):\n",
    "    i = 0\n",
    "    j = 0\n",
    "    while (i<m and j<n):\n",
    "        if (i>0 and arr1[i]==arr1[i-1]):\n",
    "            i+=1\n",
    "            continue\n",
    "        if (arr1[i] < arr2[j]):\n",
    "            print(arr1[i],sep=\" \")\n",
    "            i+=1\n",
    "        elif (arr1[i] > arr2[j]):\n",
    "            print(arr2[j],sep=\" \")\n",
    "            j+=1\n",
    "        else:\n",
    "            print(arr1[i],sep=\" \")\n",
    "            i+=1\n",
    "            j+=1\n",
    "    while (i<m):\n",
    "        if (i>0 and arr1[i]!=arr1[i-1]):\n",
    "            print(arr1[i],sep=\" \")\n",
    "        i+=1\n",
    "    while (j<n):\n",
    "        if (j>0 and arr2[j]!=arr2[j-1]):\n",
    "            print(arr2[j],sep=\" \")\n",
    "        j+=1"
   ]
  },
  {
   "cell_type": "code",
   "execution_count": 9,
   "metadata": {},
   "outputs": [
    {
     "name": "stdout",
     "output_type": "stream",
     "text": [
      "2\n",
      "3\n",
      "10\n",
      "20\n",
      "40\n"
     ]
    }
   ],
   "source": [
    "union_of_arrays([2,10,20,20],[3,20,40],4,3)"
   ]
  },
  {
   "cell_type": "markdown",
   "metadata": {},
   "source": [
    "# Count Inversions in an array"
   ]
  },
  {
   "cell_type": "markdown",
   "metadata": {},
   "source": [
    "## Naive Solution"
   ]
  },
  {
   "cell_type": "code",
   "execution_count": null,
   "metadata": {},
   "outputs": [],
   "source": [
    "def count_inversion_naive(arr,n):\n",
    "    res = 0\n",
    "    for i in range(n):\n",
    "        for j in range(i+1,n):\n",
    "            if (arr[i] > arr[j]):\n",
    "                res+=1\n",
    "    return res"
   ]
  },
  {
   "cell_type": "markdown",
   "metadata": {},
   "source": [
    "## Effective Solution"
   ]
  },
  {
   "cell_type": "code",
   "execution_count": 4,
   "metadata": {},
   "outputs": [],
   "source": [
    "def merge(arr,l,m,r):\n",
    "    n1 = m-l+1\n",
    "    n2 = r-m\n",
    "    left =[]\n",
    "    right = []\n",
    "    for i in range(n1):\n",
    "        left.append(arr[l+i])\n",
    "    for i in range(n2):\n",
    "        right.append(arr[m+1+i])\n",
    "    res = 0\n",
    "    i = 0\n",
    "    j = 0\n",
    "    k = l\n",
    "    while (i<n1 and j<n2):\n",
    "        if (left[i]<=right[j]):\n",
    "            arr[k] = left[i]\n",
    "            i+=1\n",
    "        else:\n",
    "            arr[k] = right[j]\n",
    "            j+=1\n",
    "            res += (n1-i)\n",
    "        k+=1\n",
    "    while (i<n1):\n",
    "        arr[k] = left[i]\n",
    "        i+=1\n",
    "        k+=1\n",
    "    while (j<n2):\n",
    "        arr[k] = right[j]\n",
    "        j+=1\n",
    "        k+=1\n",
    "    return res\n",
    "def count_inverse(arr,l,r):\n",
    "    res = 0\n",
    "    if (l<r):\n",
    "        m = int(l+ ((r-l)/2))\n",
    "        res += count_inverse(arr,l,m) # count inversion in the left half\n",
    "        res += count_inverse(arr,m+1,r) # count inversion in the right half\n",
    "        res += merge(arr,l,m,r) # count the inversion in the main array\n",
    "    return res # return the result"
   ]
  },
  {
   "cell_type": "code",
   "execution_count": 5,
   "metadata": {},
   "outputs": [
    {
     "data": {
      "text/plain": [
       "3"
      ]
     },
     "execution_count": 5,
     "metadata": {},
     "output_type": "execute_result"
    }
   ],
   "source": [
    "count_inverse([2,4,1,3,5],0,4)"
   ]
  },
  {
   "cell_type": "markdown",
   "metadata": {},
   "source": [
    "# Naive Partition"
   ]
  },
  {
   "cell_type": "markdown",
   "metadata": {},
   "source": [
    "## Naive Solution"
   ]
  },
  {
   "cell_type": "code",
   "execution_count": 19,
   "metadata": {},
   "outputs": [],
   "source": [
    "def partition_naive(arr,l,h,p):\n",
    "    temp = [0] * (h-l+1);\n",
    "    index = 0;\n",
    "    for i in range(l,h+1):\n",
    "        if (arr[i] <= arr[p]) and (i!=p):\n",
    "            temp[index] = arr[i]\n",
    "            index+=1\n",
    "        temp[index] = arr[p]\n",
    "    for i in range(l,h+1):\n",
    "        if (arr[i] > arr[p]):\n",
    "            temp[index] = arr[i]\n",
    "            index+=1\n",
    "    for i in range(l,h+1):\n",
    "        arr[i] = temp[i-l]\n",
    "    print(arr)\n"
   ]
  },
  {
   "cell_type": "code",
   "execution_count": 20,
   "metadata": {},
   "outputs": [
    {
     "name": "stdout",
     "output_type": "stream",
     "text": [
      "[5, 6, 13, 9, 12, 11, 0]\n"
     ]
    }
   ],
   "source": [
    "partition_naive([5,13,6,9,12,11,8],0,6,6)"
   ]
  },
  {
   "cell_type": "markdown",
   "metadata": {},
   "source": [
    "## Lometo Partition"
   ]
  },
  {
   "cell_type": "code",
   "execution_count": 27,
   "metadata": {},
   "outputs": [],
   "source": [
    "def lometo_parttition(arr,l,h):\n",
    "    pivot = arr[h]\n",
    "    i = l-1\n",
    "    for j in range(l,h-1):\n",
    "        if (arr[j]< pivot):\n",
    "            i+=1\n",
    "            arr[i],arr[j] = arr[j],arr[i]\n",
    "    arr[i+1],arr[h] = arr[h],arr[i+1]\n",
    "    return arr"
   ]
  },
  {
   "cell_type": "code",
   "execution_count": 28,
   "metadata": {},
   "outputs": [
    {
     "data": {
      "text/plain": [
       "[10, 30, 40, 70, 80, 50, 90]"
      ]
     },
     "execution_count": 28,
     "metadata": {},
     "output_type": "execute_result"
    }
   ],
   "source": [
    "lometo_parttition([10,80,30,90,40,50,70],0,6)"
   ]
  },
  {
   "cell_type": "code",
   "execution_count": null,
   "metadata": {},
   "outputs": [],
   "source": [
    "def lometo_parttition_p(arr,l,h,p):\n",
    "    arr[p],arr[h] = arr[h],arr[p]\n",
    "    pivot = arr[h]\n",
    "    i = l-1\n",
    "    for j in range(l,h-1):\n",
    "        if (arr[j]< pivot):\n",
    "            i+=1\n",
    "            arr[i],arr[j] = arr[j],arr[i]\n",
    "    arr[i+1],arr[h] = arr[h],arr[i+1]\n",
    "    return arr"
   ]
  },
  {
   "cell_type": "markdown",
   "metadata": {},
   "source": [
    "## Hoare's Partition"
   ]
  },
  {
   "cell_type": "code",
   "execution_count": 34,
   "metadata": {},
   "outputs": [],
   "source": [
    "def hoares_partition(arr,low,high):\n",
    "    pivot = arr[low]\n",
    "    i = low - 1\n",
    "    j = high + 1\n",
    "    while True:\n",
    "        do = True\n",
    "        while do or (arr[i]<pivot):\n",
    "            do = False\n",
    "            i+=1\n",
    "        do_two = True\n",
    "        while do_two or (arr[j] > pivot):\n",
    "            do_two = False\n",
    "            j-=1\n",
    "        if (i>=j):\n",
    "            break\n",
    "        arr[i],arr[j] = arr[j],arr[i]\n",
    "    return arr"
   ]
  },
  {
   "cell_type": "code",
   "execution_count": 35,
   "metadata": {},
   "outputs": [
    {
     "data": {
      "text/plain": [
       "[1, 3, 2, 4, 8, 7, 5, 10]"
      ]
     },
     "execution_count": 35,
     "metadata": {},
     "output_type": "execute_result"
    }
   ],
   "source": [
    "hoares_partition([5,3,8,4,2,7,1,10],0,7)"
   ]
  },
  {
   "cell_type": "markdown",
   "metadata": {},
   "source": [
    "# Quick Sort"
   ]
  },
  {
   "cell_type": "code",
   "execution_count": 36,
   "metadata": {},
   "outputs": [],
   "source": [
    "def partition(arr,low,high):\n",
    "    pivot = arr[high]\n",
    "    i = low-1\n",
    "    for j in range(low,high):\n",
    "        if (arr[j]<=pivot):\n",
    "            i+=1\n",
    "            arr[i],arr[j] = arr[j],arr[i]\n",
    "    arr[i+1],arr[high] = arr[high],arr[i+1]\n",
    "    return (i+1)\n",
    "def quick_sort(arr,low,high):\n",
    "    if (low < high):\n",
    "        pi = partition(arr,low,high)\n",
    "        quick_sort(arr,low,pi-1)\n",
    "        quick_sort(arr,pi+1,high)\n",
    "    return arr"
   ]
  },
  {
   "cell_type": "code",
   "execution_count": 38,
   "metadata": {},
   "outputs": [
    {
     "data": {
      "text/plain": [
       "[1, 3, 4, 7, 9]"
      ]
     },
     "execution_count": 38,
     "metadata": {},
     "output_type": "execute_result"
    }
   ],
   "source": [
    "quick_sort([4,1,3,9,7],0,4)"
   ]
  },
  {
   "cell_type": "code",
   "execution_count": null,
   "metadata": {},
   "outputs": [],
   "source": []
  }
 ],
 "metadata": {
  "kernelspec": {
   "display_name": "Python 3",
   "language": "python",
   "name": "python3"
  },
  "language_info": {
   "codemirror_mode": {
    "name": "ipython",
    "version": 3
   },
   "file_extension": ".py",
   "mimetype": "text/x-python",
   "name": "python",
   "nbconvert_exporter": "python",
   "pygments_lexer": "ipython3",
   "version": "3.13.2"
  }
 },
 "nbformat": 4,
 "nbformat_minor": 2
}
