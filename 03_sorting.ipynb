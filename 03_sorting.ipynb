{
 "cells": [
  {
   "cell_type": "markdown",
   "metadata": {},
   "source": [
    "# Bubble Sort"
   ]
  },
  {
   "cell_type": "code",
   "execution_count": null,
   "metadata": {},
   "outputs": [],
   "source": [
    "def swap(i,j):\n",
    "    return (j,i)\n",
    "def bubble_sort(arr,n):\n",
    "    for i in range(n-1):\n",
    "        for j in range(n-i-1):\n",
    "            if (arr[j] > arr[j+1]):\n",
    "                swap(arr[j],arr[i])\n",
    "    return arr"
   ]
  },
  {
   "cell_type": "markdown",
   "metadata": {},
   "source": [
    "## Efficient solution"
   ]
  },
  {
   "cell_type": "code",
   "execution_count": 1,
   "metadata": {},
   "outputs": [],
   "source": [
    "def bubble_sort_eff(arr,n):\n",
    "    for i in range(n-1):\n",
    "        swapped = false\n",
    "        for j in range(n-i-1):\n",
    "            if (arr[j] > arr[j+1]):\n",
    "                swap(arr[j],arr[j+1])\n",
    "                swapped = true\n",
    "        if (swapped== false):\n",
    "            break\n",
    "    return arr"
   ]
  },
  {
   "cell_type": "markdown",
   "metadata": {},
   "source": [
    "# Selection Sort Naive"
   ]
  },
  {
   "cell_type": "code",
   "execution_count": null,
   "metadata": {},
   "outputs": [],
   "source": [
    "def selection_sort_naive(arr):\n",
    "    n = len(arr)\n",
    "    temp = [0] * n\n",
    "    for i in range(n):\n",
    "        min_ind = 0\n",
    "        for j in range(1,n):\n",
    "            if (arr[j] < arr[min_ind]):\n",
    "                min_ind = j\n",
    "        temp[i] = arr[min_ind]\n",
    "        arr[min_ind] = float(inf)\n",
    "    for i in range(n):\n",
    "        arr[i] = temp[i]\n",
    "    return arr"
   ]
  },
  {
   "cell_type": "markdown",
   "metadata": {},
   "source": [
    "# Selection Sort Efficient"
   ]
  },
  {
   "cell_type": "code",
   "execution_count": 6,
   "metadata": {},
   "outputs": [],
   "source": [
    "def selection_sort_eff(arr):\n",
    "    n = len(arr)\n",
    "    for i in range(n):\n",
    "        min_ind = i\n",
    "        for j in range(i+1,n):\n",
    "            if (arr[j] < arr[min_ind]):\n",
    "                min_ind = j\n",
    "        temp = arr[i]\n",
    "        arr[i] = arr[min_ind]\n",
    "        arr[min_ind] = temp\n",
    "    return arr"
   ]
  },
  {
   "cell_type": "code",
   "execution_count": 7,
   "metadata": {},
   "outputs": [
    {
     "data": {
      "text/plain": [
       "[2, 5, 8, 10, 18, 20]"
      ]
     },
     "execution_count": 7,
     "metadata": {},
     "output_type": "execute_result"
    }
   ],
   "source": [
    "selection_sort_eff([10,5,8,20,2,18])"
   ]
  },
  {
   "cell_type": "markdown",
   "metadata": {},
   "source": [
    "# Insertion Sort "
   ]
  },
  {
   "cell_type": "code",
   "execution_count": 11,
   "metadata": {},
   "outputs": [],
   "source": [
    "def insertion_sort(arr):\n",
    "    n = len(arr)\n",
    "    for i in range(1,n):\n",
    "        key = arr[i]\n",
    "        j = i-1\n",
    "        while (j>=0 and arr[j] > key):\n",
    "            arr[j+1] = arr[j]\n",
    "            j-=1\n",
    "        arr[j+1] = key\n",
    "    return arr"
   ]
  },
  {
   "cell_type": "code",
   "execution_count": 12,
   "metadata": {},
   "outputs": [
    {
     "data": {
      "text/plain": [
       "[2, 5, 8, 10, 18, 20]"
      ]
     },
     "execution_count": 12,
     "metadata": {},
     "output_type": "execute_result"
    }
   ],
   "source": [
    "insertion_sort([10,5,8,20,2,18])"
   ]
  },
  {
   "cell_type": "markdown",
   "metadata": {},
   "source": [
    "# Merge Sort"
   ]
  },
  {
   "cell_type": "code",
   "execution_count": null,
   "metadata": {},
   "outputs": [],
   "source": [
    "def merge(arr1,arr2):\n",
    "    m = len(arr1)\n",
    "    n = len(arr2)\n",
    "    i = 0\n",
    "    j = 0\n",
    "    while (i<m and j<n):\n",
    "        if (arr1[i] <=arr2[j]):\n",
    "            print(arr1[i])\n",
    "            i+=1\n",
    "        else:\n",
    "            print(arr2[j])\n",
    "            j+=1\n",
    "    while (i<m):\n",
    "        print(arr1[i])\n",
    "        i+=1\n",
    "    while (j<n):\n",
    "        print(arr2[j])\n",
    "        j+=1\n"
   ]
  },
  {
   "cell_type": "markdown",
   "metadata": {},
   "source": [
    "# Merge Function of merge Sort"
   ]
  },
  {
   "cell_type": "code",
   "execution_count": 20,
   "metadata": {},
   "outputs": [],
   "source": [
    "def merge_function(arr,low,mid,high):\n",
    "    n1 = mid - low + 1\n",
    "    n2 = high - mid\n",
    "    left = [0] * n1\n",
    "    right = [0] * n2\n",
    "    for i in range(n1):\n",
    "        left[i] = arr[low + i]\n",
    "    for i in range(n2):\n",
    "        right[i] = arr[mid +i+1]\n",
    "\n",
    "    i = 0\n",
    "    j = 0\n",
    "    k = low\n",
    "    while (i<n1 and j < n2):\n",
    "        if (left[i] <= right[j]):\n",
    "            arr[k] = left[i]\n",
    "            i+=1\n",
    "            k+=1\n",
    "        else:\n",
    "            arr[k] = right[j]\n",
    "            j+=1\n",
    "            k+=1\n",
    "    while (i<n1):\n",
    "        arr[k] = left[i]\n",
    "        i+=1\n",
    "        k+=1\n",
    "    while (j<n2):\n",
    "        arr[k] = right[j]\n",
    "        j+=1\n",
    "        k+=1\n",
    "    return arr"
   ]
  },
  {
   "cell_type": "code",
   "execution_count": 21,
   "metadata": {},
   "outputs": [
    {
     "data": {
      "text/plain": [
       "[10, 20, 20, 30, 40]"
      ]
     },
     "execution_count": 21,
     "metadata": {},
     "output_type": "execute_result"
    }
   ],
   "source": [
    "merge_function([10,20,40,20,30],0,2,4)"
   ]
  },
  {
   "cell_type": "markdown",
   "metadata": {},
   "source": [
    "# Merge Sort Without any Extra Space"
   ]
  },
  {
   "cell_type": "markdown",
   "metadata": {},
   "source": [
    "## Brute Force"
   ]
  },
  {
   "cell_type": "code",
   "execution_count": 3,
   "metadata": {},
   "outputs": [],
   "source": [
    "def merge_sort_brute_force(arr1,arr2,n,m):\n",
    "    arr3 = [0] * (m+n)\n",
    "    left = 0\n",
    "    right = 0\n",
    "    index = 0\n",
    "    while (left < n and right < m):\n",
    "        if (arr1[left] <=arr2[right]):\n",
    "            arr3[index] = arr1[left]\n",
    "            left+=1\n",
    "            index+=1\n",
    "        else:\n",
    "            arr3[index] = arr2[right]\n",
    "            right+=1\n",
    "            index+=1\n",
    "    while (left < n):\n",
    "        arr3[index] = arr1[left]\n",
    "        left+=1\n",
    "        index+=1\n",
    "    while (right < m):\n",
    "        arr3[index] = arr2[right]\n",
    "        right+=1\n",
    "        index+=1\n",
    "    return arr3"
   ]
  },
  {
   "cell_type": "code",
   "execution_count": 4,
   "metadata": {},
   "outputs": [
    {
     "data": {
      "text/plain": [
       "[1, 2, 3, 4, 8, 9, 10]"
      ]
     },
     "execution_count": 4,
     "metadata": {},
     "output_type": "execute_result"
    }
   ],
   "source": [
    "merge_sort_brute_force([1, 4, 8, 10],[2, 3, 9],4,3)"
   ]
  },
  {
   "cell_type": "markdown",
   "metadata": {},
   "source": [
    "## Optimal Approach"
   ]
  },
  {
   "cell_type": "code",
   "execution_count": 23,
   "metadata": {},
   "outputs": [],
   "source": [
    "def swap_if_greater(arr1,arr2,ind1,ind2):\n",
    "        if arr1[ind1] > arr2[ind2]:\n",
    "            arr1[ind1], arr2[ind2] = arr2[ind2],arr1[ind1]\n",
    "def merge_sort_without_extra_space_optimal(arr1,arr2,n,m):\n",
    "    len = n + m\n",
    "    gap = (len//2) + (len%2)\n",
    "    while (gap>0):\n",
    "        left = 0\n",
    "        right = left + gap\n",
    "        print(gap,left,right,sep=\" \")\n",
    "        while right < len:\n",
    "            if left < n and right >=n:\n",
    "                swap_if_greater(arr1,arr2,left,right-n)\n",
    "            elif left >= n :\n",
    "                swap_if_greater(arr2,arr2,left-n,right-n)\n",
    "            else:\n",
    "                swap_if_greater(arr1,arr1,left,right)\n",
    "            left+=1\n",
    "            right+=1\n",
    "        if gap==1:\n",
    "            break\n",
    "        gap = (gap//2) + (gap%2)\n",
    "    for i in range(n):\n",
    "        print(arr1[i],end=\" \")\n",
    "    print(\"\\n\")\n",
    "    for i in range(m):\n",
    "        print(arr2[i],end=\" \")"
   ]
  },
  {
   "cell_type": "code",
   "execution_count": 24,
   "metadata": {},
   "outputs": [
    {
     "name": "stdout",
     "output_type": "stream",
     "text": [
      "5 0 5\n",
      "3 0 3\n",
      "2 0 2\n",
      "1 0 1\n",
      "0 1 2 3 \n",
      "\n",
      "5 6 7 8 9 "
     ]
    }
   ],
   "source": [
    "merge_sort_without_extra_space_optimal([1, 3,5,7],[0,2,6,8,9],4,5)"
   ]
  },
  {
   "cell_type": "code",
   "execution_count": 36,
   "metadata": {},
   "outputs": [],
   "source": [
    "def merge(a,b):\n",
    "    def swap_if_greater(a,b,ind1,ind2):\n",
    "        if a[ind1] > b[ind2]:\n",
    "            a[ind1],b[ind2] = b[ind2],a[ind1]\n",
    "    # code here\n",
    "    n = len(a)\n",
    "    m = len(b)\n",
    "    l = n + m\n",
    "    gap = (l//2) + (l%2)\n",
    "    while (gap>0):\n",
    "        left = 0\n",
    "        right = left + gap\n",
    "        while right < l:\n",
    "            if left < n and right >= n:\n",
    "                swap_if_greater(a,b,left,right-n)\n",
    "            elif left >=n :\n",
    "                swap_if_greater(b,b,left-n,right-n)\n",
    "            else:\n",
    "                swap_if_greater(a,a,left,right)\n",
    "            left+=1\n",
    "            right+=1\n",
    "        if gap==1:\n",
    "            break\n",
    "        gap = (gap//2) + (gap%2)\n",
    "    for i in range(n):\n",
    "        print(a[i],sep=\" \")\n",
    "    for i in range(m):\n",
    "        print(b[i],sep=\" \")"
   ]
  },
  {
   "cell_type": "code",
   "execution_count": 37,
   "metadata": {},
   "outputs": [
    {
     "name": "stdout",
     "output_type": "stream",
     "text": [
      "0\n",
      "1\n",
      "2\n",
      "3\n",
      "5\n",
      "6\n",
      "7\n",
      "8\n",
      "9\n"
     ]
    }
   ],
   "source": [
    "merge([1,3,5,7],[0,2,6,8,9])"
   ]
  },
  {
   "cell_type": "code",
   "execution_count": null,
   "metadata": {},
   "outputs": [],
   "source": []
  },
  {
   "cell_type": "code",
   "execution_count": null,
   "metadata": {},
   "outputs": [],
   "source": []
  },
  {
   "cell_type": "code",
   "execution_count": null,
   "metadata": {},
   "outputs": [],
   "source": []
  }
 ],
 "metadata": {
  "kernelspec": {
   "display_name": "Python 3",
   "language": "python",
   "name": "python3"
  },
  "language_info": {
   "codemirror_mode": {
    "name": "ipython",
    "version": 3
   },
   "file_extension": ".py",
   "mimetype": "text/x-python",
   "name": "python",
   "nbconvert_exporter": "python",
   "pygments_lexer": "ipython3",
   "version": "3.13.2"
  }
 },
 "nbformat": 4,
 "nbformat_minor": 2
}
