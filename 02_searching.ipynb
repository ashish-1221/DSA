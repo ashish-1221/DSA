{
 "cells": [
  {
   "cell_type": "code",
   "execution_count": 29,
   "metadata": {},
   "outputs": [],
   "source": [
    "import math"
   ]
  },
  {
   "cell_type": "markdown",
   "metadata": {},
   "source": [
    "# Binary Search (Iterative)"
   ]
  },
  {
   "cell_type": "markdown",
   "metadata": {},
   "source": [
    "## Simple Method"
   ]
  },
  {
   "cell_type": "code",
   "execution_count": 24,
   "metadata": {},
   "outputs": [],
   "source": [
    "def binary_search_iter_simple(arr,x):\n",
    "    for i in range(len(arr)):\n",
    "        if (arr[i]==x):\n",
    "            return i\n",
    "    return -1\n",
    "            \n",
    "        "
   ]
  },
  {
   "cell_type": "code",
   "execution_count": 26,
   "metadata": {},
   "outputs": [
    {
     "data": {
      "text/plain": [
       "1"
      ]
     },
     "execution_count": 26,
     "metadata": {},
     "output_type": "execute_result"
    }
   ],
   "source": [
    "binary_search_iter_simple([2,15,15],15)"
   ]
  },
  {
   "cell_type": "markdown",
   "metadata": {},
   "source": [
    "## Binary Search method"
   ]
  },
  {
   "cell_type": "code",
   "execution_count": 18,
   "metadata": {},
   "outputs": [],
   "source": [
    "def binary_search(arr,x):\n",
    "    low = 0\n",
    "    high = len(arr)-1\n",
    "    while(low <= high):\n",
    "        mid = int((low+high)/2)\n",
    "        print(low,\"<<low\")\n",
    "        print(mid,\"<<mid\")\n",
    "        print(high,\"<<high\")\n",
    "        print(\"\\n\\n\")\n",
    "        if (x==arr[mid]):\n",
    "            return mid\n",
    "        if ( arr[mid] > x):\n",
    "            high = mid -1\n",
    "        else:\n",
    "            low = mid + 1\n",
    "        \n",
    "        \n",
    "    return -1\n",
    "        "
   ]
  },
  {
   "cell_type": "code",
   "execution_count": 20,
   "metadata": {},
   "outputs": [
    {
     "name": "stdout",
     "output_type": "stream",
     "text": [
      "0 <<low\n",
      "4 <<mid\n",
      "8 <<high\n",
      "\n",
      "\n",
      "\n",
      "5 <<low\n",
      "6 <<mid\n",
      "8 <<high\n",
      "\n",
      "\n",
      "\n",
      "5 <<low\n",
      "5 <<mid\n",
      "5 <<high\n",
      "\n",
      "\n",
      "\n"
     ]
    },
    {
     "data": {
      "text/plain": [
       "-1"
      ]
     },
     "execution_count": 20,
     "metadata": {},
     "output_type": "execute_result"
    }
   ],
   "source": [
    "binary_search([2,3,6,7,8,10,12,13,14],9)"
   ]
  },
  {
   "cell_type": "markdown",
   "metadata": {},
   "source": [
    "# Array Search"
   ]
  },
  {
   "cell_type": "markdown",
   "metadata": {},
   "source": [
    "## Simple Method"
   ]
  },
  {
   "cell_type": "code",
   "execution_count": 57,
   "metadata": {},
   "outputs": [],
   "source": [
    "def array_search(arr,x):\n",
    "    for i in range(len(arr)):\n",
    "        if (arr[i]==x):\n",
    "            return i\n",
    "    return -1"
   ]
  },
  {
   "cell_type": "markdown",
   "metadata": {},
   "source": [
    "# Binary Search (Recusrive)"
   ]
  },
  {
   "cell_type": "code",
   "execution_count": 1,
   "metadata": {},
   "outputs": [],
   "source": [
    "def binary_search_recursive(arr,low,high,x):\n",
    "    if (low>high):\n",
    "        return -1\n",
    "    mid = int((low+high)/2)\n",
    "    if (arr[mid]==x):\n",
    "        return mid\n",
    "    elif (arr[mid] > x):\n",
    "        return binary_search_recursive(arr,low,mid-1,x)\n",
    "    else:\n",
    "        return binary_search_recursive(arr,mid+1,high,x)"
   ]
  },
  {
   "cell_type": "code",
   "execution_count": 2,
   "metadata": {},
   "outputs": [
    {
     "data": {
      "text/plain": [
       "5"
      ]
     },
     "execution_count": 2,
     "metadata": {},
     "output_type": "execute_result"
    }
   ],
   "source": [
    "binary_search_recursive([2,3,4,5,6,7,8,9,10],0,8,7)"
   ]
  },
  {
   "cell_type": "markdown",
   "metadata": {},
   "source": [
    "# Sorted Array Search"
   ]
  },
  {
   "cell_type": "code",
   "execution_count": 7,
   "metadata": {},
   "outputs": [],
   "source": [
    "def sorted_arr_search(arr,x):\n",
    "    low = 0\n",
    "    high = len(arr)-1\n",
    "    while (low<=high):\n",
    "        mid = int((high+low)/2)\n",
    "        if (arr[mid]==x):\n",
    "            return True\n",
    "        if (arr[mid] > x):\n",
    "            high = mid-1\n",
    "        else:\n",
    "            low = mid+1\n",
    "        print(mid,\"<<mid\")\n",
    "    return False\n",
    "        "
   ]
  },
  {
   "cell_type": "code",
   "execution_count": 9,
   "metadata": {},
   "outputs": [
    {
     "name": "stdout",
     "output_type": "stream",
     "text": [
      "4 <<mid\n"
     ]
    },
    {
     "data": {
      "text/plain": [
       "True"
      ]
     },
     "execution_count": 9,
     "metadata": {},
     "output_type": "execute_result"
    }
   ],
   "source": [
    "sorted_arr_search([2,3,4,5,6,7,8,9,10],8)"
   ]
  },
  {
   "cell_type": "markdown",
   "metadata": {},
   "source": [
    "# Floor in sorted array"
   ]
  },
  {
   "cell_type": "code",
   "execution_count": 31,
   "metadata": {},
   "outputs": [],
   "source": [
    "def floor_sorted_array(arr,k):\n",
    "    low = 0\n",
    "    high = len(arr)-1\n",
    "    if (k>=arr[high]):\n",
    "        return high\n",
    "    while (low <= high):\n",
    "        mid = int((high+low)/2)\n",
    "        if (mid > 0 and arr[mid]>k and k>=arr[mid-1]):\n",
    "            return mid-1\n",
    "        \n",
    "        if (arr[mid]==k):\n",
    "            return mid\n",
    "        if (arr[mid] > k):\n",
    "            high = mid-1\n",
    "        else:\n",
    "            low = mid + 1\n",
    "    return -1"
   ]
  },
  {
   "cell_type": "code",
   "execution_count": 32,
   "metadata": {},
   "outputs": [
    {
     "data": {
      "text/plain": [
       "1"
      ]
     },
     "execution_count": 32,
     "metadata": {},
     "output_type": "execute_result"
    }
   ],
   "source": [
    "floor_sorted_array( [1, 2, 8, 10, 11, 12, 19],5)"
   ]
  },
  {
   "cell_type": "markdown",
   "metadata": {},
   "source": [
    "# Majority Element"
   ]
  },
  {
   "cell_type": "code",
   "execution_count": 38,
   "metadata": {},
   "outputs": [],
   "source": [
    "def majority_element(arr):\n",
    "    n = len(arr)\n",
    "    candidate = -1\n",
    "    count = 0\n",
    "    # find the candidate\n",
    "    for num in arr:\n",
    "        if count == 0:\n",
    "            candidate = num\n",
    "            count=1\n",
    "        elif num==candidate:\n",
    "            count+=1\n",
    "        else:\n",
    "            count-=1\n",
    "    # validate the candidate\n",
    "    count = 0\n",
    "    for num in arr:\n",
    "        if num==candidate:\n",
    "            count+=1\n",
    "            \n",
    "    #if the candidate count is greater than n/2 then return the candidate\n",
    "    # else return -1\n",
    "    if count > n/2:\n",
    "        return candidate\n",
    "    else:\n",
    "        return -1\n",
    "        "
   ]
  },
  {
   "cell_type": "code",
   "execution_count": 39,
   "metadata": {},
   "outputs": [
    {
     "data": {
      "text/plain": [
       "999"
      ]
     },
     "execution_count": 39,
     "metadata": {},
     "output_type": "execute_result"
    }
   ],
   "source": [
    "majority_element([999,999,1000,999,1000,999,1000,1000,999,1000,999,1000,999,1000,1000,1000,1000,999,1000,999,999,999,1000,999,999,1000,1000,999,999,999,1000,999,999,1000,999,1000,1000,1000,999,1000,999,1000,999,999,999,1000,999,1000,1000,1000,1000,999,999,1000,999,999,999,999,1000,1000,999,999,999,999,1000,1000,999,1000,1000,999,999,1000,1000,999,999,1000,1000,1000,1000,1000,1000,1000,1000,1000,1000,1000,999,999,999,999,1000,1000,999,999,999,999,1000,1000,1000,1000,999,1000,1000,1000,1000,999,1000,999,999,999,999,1000,999,1000,1000,999,999,999,999,1000,1000,999,1000,999,1000,1000,999,999,1000,999,999,1000,1000,1000,1000,1000,999,1000,1000,999,999,999,1000,999,999,999,1000,999,1000,999,1000,1000,1000,1000,999,999,999,1000,999,999,999,999,999,999,1000,1000,999,999,999,1000,1000,999,999,1000,999,999,1000,999,1000,1000,1000,1000,1000,1000,999,999,1000,1000,1000,999,999,1000,999,1000,1000,999,999,1000,999,999,1000,999,1000,999,999,999,1000,999,1000,999,1000,999,999,999,999,1000,1000,1000,999,1000,1000,999,999,1000,1000,1000,1000,999,999,1000,999,999,1000,1000,999,999,1000,1000,1000,1000,1000,999,1000,1000,999,999,1000,999,1000,1000,999,1000,999,1000,999,999,999,999,999,999,1000,1000,999,999,999,1000,1000,1000,1000,1000,999,1000,1000,999,999,999,1000,1000,1000,1000,1000,999,1000,1000,999,999,1000,999,1000,1000,1000,1000,1000,1000,999,1000,999,1000,999,1000,999,999,999,1000,1000,999,1000,999,1000,999,1000,999,999,1000,999,999,999,999,1000,999,1000,1000,999,1000,999,999,1000,999,999,999,999,1000,1000,1000,1000,999,999,999,1000,999,999,999,1000,1000,999,999,1000,999,999,1000,999,999,1000,1000,999,999,999,999,1000,999,1000,999,999,1000,1000,1000,1000,1000,999,1000,1000,1000,1000,1000,1000,999,999,1000,1000,999,999,1000,999,999,1000,999,999,999,999,1000,1000,1000,1000,999,1000,1000,1000,1000,999,1000,1000,999,999,999,1000,999,1000,999,999,1000,999,1000,1000,999,999,999,999,1000,999,1000,999,999,1000,1000,1000,999,1000,1000,1000,1000,999,999,999,1000,1000,999,1000,999,999,1000,1000,999,1000,999,999,999,1000,999,1000,1000,999,1000,999,999,999,999,999,999,999,999,1000,1000,999,1000,1000,999,1000,999,1000,999,999,999,1000,1000,999,999,999,1000,999,999,999,1000,999,999,999,999,999,999,1000,1000,999,999,999,1000,999,999,1000,1000,1000,1000,999,1000,999,1000,999,999,999,1000,999,999,999,999,1000,999,999,999,1000,999,1000,999,1000,999,999,1000,999,1000,1000,1000,1000,1000,999,1000,1000,999,1000,999,1000,1000,999,1000,1000,999,999,999,1000,1000,1000,999,999,1000,999,1000,1000,1000,999,999,999,999,999,1000,999,999,1000,999,999,999,1000,999,1000,999,1000,1000,1000,1000,1000,1000,999,999,1000,999,999,1000,999,1000,1000,1000,999,1000,1000,999,1000,1000,1000,999,1000,1000,999,1000,1000,1000,1000,999,1000,1000,999,1000,999,1000,999,1000,1000,1000,999,999,1000,999,1000,1000,999,999,1000,999,999,1000,999,1000,999,1000,1000,999,1000,999,1000,999,1000,999,1000,1000,1000,1000,1000,999,999,1000,999,999,1000,1000,999,1000,999,1000,1000,1000,1000,999,999,1000,999,999,999,1000,1000,999,1000,999,1000,999,1000,1000,1000,999,999,1000,1000,1000,999,999,1000,1000,999,1000,999,1000,1000,999,1000,1000,1000,1000,1000,999,1000,1000,999,1000,999,999,1000,1000,1000,999,999,999,999,1000,999,1000,999,1000,1000,1000,999,999,999,1000,999,1000,1000,1000,999,1000,999,1000,1000,999,999,999,1000,1000,1000,999,999,999,999,1000,1000,1000,1000,999,999,1000,1000,1000,1000,1000,999,1000,999,1000,1000,999,1000,1000,999,1000,999,999,999,999,1000,999,1000,999,999,1000,999,1000,999,999,999,999,999,1000,999,999,1000,1000,999,999,1000,999,999,1000,1000,999,999,1000,1000,999,1000,1000,1000,999,1000,999,1000,1000,1000,999,999,1000,999,999,999,1000,999,1000,999,1000,1000,999,999,1000,1000,999,999,1000,1000,1000,999,1000,1000,1000,999,1000,1000,999,999,1000,1000,1000,1000,999,999,1000,999,1000,1000,999,1000,999,1000,999,1000,1000,999,1000,1000,1000,999,999,1000,1000,1000,999,999,999,999,999,1000,999,1000,999,1000,1000,999,1000,1000,1000,1000,999,1000,999,1000,999,999,999,1000,999,999,999,999,1000,999,1000,999,999,999,999,999,1000,1000,999,999,999,1000,1000,999,999,999,999,1000,999,999,1000,999,999,1000,999,999,999,1000,1000,999,999,999,999,999,1000,999,1000,999,1000,999,999,1000,999,1000,1000,1000,1000,999,999,1000,999,1000,999,999,1000,999,999,999,999,999,1000,1000,1000,1000,999,1000,1000,999,999,1000,1000,1000,1000,999,999,999,999,999,999,1000,1000,999,1000,999,1000])"
   ]
  },
  {
   "cell_type": "code",
   "execution_count": 36,
   "metadata": {},
   "outputs": [],
   "source": [
    "tem=\"999 999 1000 999 1000 999 1000 1000 999 1000 999 1000 999 1000 1000 1000 1000 999 1000 999 999 999 1000 999 999 1000 1000 999 999 999 1000 999 999 1000 999 1000 1000 1000 999 1000 999 1000 999 999 999 1000 999 1000 1000 1000 1000 999 999 1000 999 999 999 999 1000 1000 999 999 999 999 1000 1000 999 1000 1000 999 999 1000 1000 999 999 1000 1000 1000 1000 1000 1000 1000 1000 1000 1000 1000 999 999 999 999 1000 1000 999 999 999 999 1000 1000 1000 1000 999 1000 1000 1000 1000 999 1000 999 999 999 999 1000 999 1000 1000 999 999 999 999 1000 1000 999 1000 999 1000 1000 999 999 1000 999 999 1000 1000 1000 1000 1000 999 1000 1000 999 999 999 1000 999 999 999 1000 999 1000 999 1000 1000 1000 1000 999 999 999 1000 999 999 999 999 999 999 1000 1000 999 999 999 1000 1000 999 999 1000 999 999 1000 999 1000 1000 1000 1000 1000 1000 999 999 1000 1000 1000 999 999 1000 999 1000 1000 999 999 1000 999 999 1000 999 1000 999 999 999 1000 999 1000 999 1000 999 999 999 999 1000 1000 1000 999 1000 1000 999 999 1000 1000 1000 1000 999 999 1000 999 999 1000 1000 999 999 1000 1000 1000 1000 1000 999 1000 1000 999 999 1000 999 1000 1000 999 1000 999 1000 999 999 999 999 999 999 1000 1000 999 999 999 1000 1000 1000 1000 1000 999 1000 1000 999 999 999 1000 1000 1000 1000 1000 999 1000 1000 999 999 1000 999 1000 1000 1000 1000 1000 1000 999 1000 999 1000 999 1000 999 999 999 1000 1000 999 1000 999 1000 999 1000 999 999 1000 999 999 999 999 1000 999 1000 1000 999 1000 999 999 1000 999 999 999 999 1000 1000 1000 1000 999 999 999 1000 999 999 999 1000 1000 999 999 1000 999 999 1000 999 999 1000 1000 999 999 999 999 1000 999 1000 999 999 1000 1000 1000 1000 1000 999 1000 1000 1000 1000 1000 1000 999 999 1000 1000 999 999 1000 999 999 1000 999 999 999 999 1000 1000 1000 1000 999 1000 1000 1000 1000 999 1000 1000 999 999 999 1000 999 1000 999 999 1000 999 1000 1000 999 999 999 999 1000 999 1000 999 999 1000 1000 1000 999 1000 1000 1000 1000 999 999 999 1000 1000 999 1000 999 999 1000 1000 999 1000 999 999 999 1000 999 1000 1000 999 1000 999 999 999 999 999 999 999 999 1000 1000 999 1000 1000 999 1000 999 1000 999 999 999 1000 1000 999 999 999 1000 999 999 999 1000 999 999 999 999 999 999 1000 1000 999 999 999 1000 999 999 1000 1000 1000 1000 999 1000 999 1000 999 999 999 1000 999 999 999 999 1000 999 999 999 1000 999 1000 999 1000 999 999 1000 999 1000 1000 1000 1000 1000 999 1000 1000 999 1000 999 1000 1000 999 1000 1000 999 999 999 1000 1000 1000 999 999 1000 999 1000 1000 1000 999 999 999 999 999 1000 999 999 1000 999 999 999 1000 999 1000 999 1000 1000 1000 1000 1000 1000 999 999 1000 999 999 1000 999 1000 1000 1000 999 1000 1000 999 1000 1000 1000 999 1000 1000 999 1000 1000 1000 1000 999 1000 1000 999 1000 999 1000 999 1000 1000 1000 999 999 1000 999 1000 1000 999 999 1000 999 999 1000 999 1000 999 1000 1000 999 1000 999 1000 999 1000 999 1000 1000 1000 1000 1000 999 999 1000 999 999 1000 1000 999 1000 999 1000 1000 1000 1000 999 999 1000 999 999 999 1000 1000 999 1000 999 1000 999 1000 1000 1000 999 999 1000 1000 1000 999 999 1000 1000 999 1000 999 1000 1000 999 1000 1000 1000 1000 1000 999 1000 1000 999 1000 999 999 1000 1000 1000 999 999 999 999 1000 999 1000 999 1000 1000 1000 999 999 999 1000 999 1000 1000 1000 999 1000 999 1000 1000 999 999 999 1000 1000 1000 999 999 999 999 1000 1000 1000 1000 999 999 1000 1000 1000 1000 1000 999 1000 999 1000 1000 999 1000 1000 999 1000 999 999 999 999 1000 999 1000 999 999 1000 999 1000 999 999 999 999 999 1000 999 999 1000 1000 999 999 1000 999 999 1000 1000 999 999 1000 1000 999 1000 1000 1000 999 1000 999 1000 1000 1000 999 999 1000 999 999 999 1000 999 1000 999 1000 1000 999 999 1000 1000 999 999 1000 1000 1000 999 1000 1000 1000 999 1000 1000 999 999 1000 1000 1000 1000 999 999 1000 999 1000 1000 999 1000 999 1000 999 1000 1000 999 1000 1000 1000 999 999 1000 1000 1000 999 999 999 999 999 1000 999 1000 999 1000 1000 999 1000 1000 1000 1000 999 1000 999 1000 999 999 999 1000 999 999 999 999 1000 999 1000 999 999 999 999 999 1000 1000 999 999 999 1000 1000 999 999 999 999 1000 999 999 1000 999 999 1000 999 999 999 1000 1000 999 999 999 999 999 1000 999 1000 999 1000 999 999 1000 999 1000 1000 1000 1000 999 999 1000 999 1000 999 999 1000 999 999 999 999 999 1000 1000 1000 1000 999 1000 1000 999 999 1000 1000 1000 1000 999 999 999 999 999 999 1000 1000 999 1000 999 1000\"\n",
    "temp_1 = tem.replace(\" \",\",\")"
   ]
  },
  {
   "cell_type": "markdown",
   "metadata": {},
   "source": [
    "# Ternary Search"
   ]
  },
  {
   "cell_type": "code",
   "execution_count": 37,
   "metadata": {},
   "outputs": [
    {
     "data": {
      "text/plain": [
       "'999,999,1000,999,1000,999,1000,1000,999,1000,999,1000,999,1000,1000,1000,1000,999,1000,999,999,999,1000,999,999,1000,1000,999,999,999,1000,999,999,1000,999,1000,1000,1000,999,1000,999,1000,999,999,999,1000,999,1000,1000,1000,1000,999,999,1000,999,999,999,999,1000,1000,999,999,999,999,1000,1000,999,1000,1000,999,999,1000,1000,999,999,1000,1000,1000,1000,1000,1000,1000,1000,1000,1000,1000,999,999,999,999,1000,1000,999,999,999,999,1000,1000,1000,1000,999,1000,1000,1000,1000,999,1000,999,999,999,999,1000,999,1000,1000,999,999,999,999,1000,1000,999,1000,999,1000,1000,999,999,1000,999,999,1000,1000,1000,1000,1000,999,1000,1000,999,999,999,1000,999,999,999,1000,999,1000,999,1000,1000,1000,1000,999,999,999,1000,999,999,999,999,999,999,1000,1000,999,999,999,1000,1000,999,999,1000,999,999,1000,999,1000,1000,1000,1000,1000,1000,999,999,1000,1000,1000,999,999,1000,999,1000,1000,999,999,1000,999,999,1000,999,1000,999,999,999,1000,999,1000,999,1000,999,999,999,999,1000,1000,1000,999,1000,1000,999,999,1000,1000,1000,1000,999,999,1000,999,999,1000,1000,999,999,1000,1000,1000,1000,1000,999,1000,1000,999,999,1000,999,1000,1000,999,1000,999,1000,999,999,999,999,999,999,1000,1000,999,999,999,1000,1000,1000,1000,1000,999,1000,1000,999,999,999,1000,1000,1000,1000,1000,999,1000,1000,999,999,1000,999,1000,1000,1000,1000,1000,1000,999,1000,999,1000,999,1000,999,999,999,1000,1000,999,1000,999,1000,999,1000,999,999,1000,999,999,999,999,1000,999,1000,1000,999,1000,999,999,1000,999,999,999,999,1000,1000,1000,1000,999,999,999,1000,999,999,999,1000,1000,999,999,1000,999,999,1000,999,999,1000,1000,999,999,999,999,1000,999,1000,999,999,1000,1000,1000,1000,1000,999,1000,1000,1000,1000,1000,1000,999,999,1000,1000,999,999,1000,999,999,1000,999,999,999,999,1000,1000,1000,1000,999,1000,1000,1000,1000,999,1000,1000,999,999,999,1000,999,1000,999,999,1000,999,1000,1000,999,999,999,999,1000,999,1000,999,999,1000,1000,1000,999,1000,1000,1000,1000,999,999,999,1000,1000,999,1000,999,999,1000,1000,999,1000,999,999,999,1000,999,1000,1000,999,1000,999,999,999,999,999,999,999,999,1000,1000,999,1000,1000,999,1000,999,1000,999,999,999,1000,1000,999,999,999,1000,999,999,999,1000,999,999,999,999,999,999,1000,1000,999,999,999,1000,999,999,1000,1000,1000,1000,999,1000,999,1000,999,999,999,1000,999,999,999,999,1000,999,999,999,1000,999,1000,999,1000,999,999,1000,999,1000,1000,1000,1000,1000,999,1000,1000,999,1000,999,1000,1000,999,1000,1000,999,999,999,1000,1000,1000,999,999,1000,999,1000,1000,1000,999,999,999,999,999,1000,999,999,1000,999,999,999,1000,999,1000,999,1000,1000,1000,1000,1000,1000,999,999,1000,999,999,1000,999,1000,1000,1000,999,1000,1000,999,1000,1000,1000,999,1000,1000,999,1000,1000,1000,1000,999,1000,1000,999,1000,999,1000,999,1000,1000,1000,999,999,1000,999,1000,1000,999,999,1000,999,999,1000,999,1000,999,1000,1000,999,1000,999,1000,999,1000,999,1000,1000,1000,1000,1000,999,999,1000,999,999,1000,1000,999,1000,999,1000,1000,1000,1000,999,999,1000,999,999,999,1000,1000,999,1000,999,1000,999,1000,1000,1000,999,999,1000,1000,1000,999,999,1000,1000,999,1000,999,1000,1000,999,1000,1000,1000,1000,1000,999,1000,1000,999,1000,999,999,1000,1000,1000,999,999,999,999,1000,999,1000,999,1000,1000,1000,999,999,999,1000,999,1000,1000,1000,999,1000,999,1000,1000,999,999,999,1000,1000,1000,999,999,999,999,1000,1000,1000,1000,999,999,1000,1000,1000,1000,1000,999,1000,999,1000,1000,999,1000,1000,999,1000,999,999,999,999,1000,999,1000,999,999,1000,999,1000,999,999,999,999,999,1000,999,999,1000,1000,999,999,1000,999,999,1000,1000,999,999,1000,1000,999,1000,1000,1000,999,1000,999,1000,1000,1000,999,999,1000,999,999,999,1000,999,1000,999,1000,1000,999,999,1000,1000,999,999,1000,1000,1000,999,1000,1000,1000,999,1000,1000,999,999,1000,1000,1000,1000,999,999,1000,999,1000,1000,999,1000,999,1000,999,1000,1000,999,1000,1000,1000,999,999,1000,1000,1000,999,999,999,999,999,1000,999,1000,999,1000,1000,999,1000,1000,1000,1000,999,1000,999,1000,999,999,999,1000,999,999,999,999,1000,999,1000,999,999,999,999,999,1000,1000,999,999,999,1000,1000,999,999,999,999,1000,999,999,1000,999,999,1000,999,999,999,1000,1000,999,999,999,999,999,1000,999,1000,999,1000,999,999,1000,999,1000,1000,1000,1000,999,999,1000,999,1000,999,999,1000,999,999,999,999,999,1000,1000,1000,1000,999,1000,1000,999,999,1000,1000,1000,1000,999,999,999,999,999,999,1000,1000,999,1000,999,1000'"
      ]
     },
     "execution_count": 37,
     "metadata": {},
     "output_type": "execute_result"
    }
   ],
   "source": [
    "def ternary_search(l,r,key,arr):\n",
    "    if (r>=1):\n",
    "        mid1 = l + (r-1)/3\n",
    "        mid2 = r - (r-1)/3\n",
    "        if (arr[mid1]==key):\n",
    "            return mid1\n",
    "        if (arr[mid2]==key):\n",
    "            return mid2\n",
    "        if (key < arr[mid1]):\n",
    "            return ternary_search(l,mid1-1,key,arr)\n",
    "        elif (key > arr[mid2]):\n",
    "            return ternary_search(mid2+1,r, key,arr)\n",
    "        else:\n",
    "            return ternary_search(mid1+1,mid2-1,key,arr)\n",
    "    return -1"
   ]
  },
  {
   "cell_type": "markdown",
   "metadata": {},
   "source": [
    "# Missing and Repeating NUmber"
   ]
  },
  {
   "cell_type": "markdown",
   "metadata": {},
   "source": [
    "## Naive Method"
   ]
  },
  {
   "cell_type": "code",
   "execution_count": null,
   "metadata": {},
   "outputs": [],
   "source": [
    "def missing_repeating (arr):\n",
    "    miss_num = 0\n",
    "    rep_num = 0\n",
    "    for i in range(1,n):\n",
    "        count = 0\n",
    "        for j in range(n):\n",
    "            if (arr[j]==i):\n",
    "                count +=1\n",
    "        if count ==0:\n",
    "            miss_num = i\n",
    "        if count>0:\n",
    "            rep_num = i\n",
    "    return miss_num,rep_num\n",
    "        "
   ]
  },
  {
   "cell_type": "markdown",
   "metadata": {},
   "source": [
    "## Negative Indexing"
   ]
  },
  {
   "cell_type": "code",
   "execution_count": 18,
   "metadata": {},
   "outputs": [],
   "source": [
    "def miss_rep_num(arr):\n",
    "    rep_num = -1\n",
    "    miss_num = -1\n",
    "    # Traversing the array\n",
    "    for i in range(len(arr)-1):\n",
    "        # using the absolute value of the element as index\n",
    "        temp = arr[abs(arr[i])-1]\n",
    "        print(temp,\"<<temp\")\n",
    "        # If the term is already visited, then it is a repeating number\n",
    "        if(temp<0):\n",
    "            rep_num = abs(arr[i])\n",
    "            break\n",
    "        # Make the term at temp index to negative of this number\n",
    "        arr[abs(arr[i])-1] = -arr[abs(arr[i])-1]\n",
    "    # Traversing through the array again and look for positive \n",
    "    # value. If found that is the missing number\n",
    "    for i in range(len(arr)):\n",
    "        if (arr[i]>0):\n",
    "            miss_num = i+1\n",
    "    print(rep_num,miss_num)"
   ]
  },
  {
   "cell_type": "code",
   "execution_count": 19,
   "metadata": {},
   "outputs": [
    {
     "name": "stdout",
     "output_type": "stream",
     "text": [
      "3 <<temp\n",
      "2 <<temp\n",
      "-3 <<temp\n",
      "2 5\n"
     ]
    }
   ],
   "source": [
    "miss_rep_num([2, 3, 2, 1, 5])"
   ]
  },
  {
   "cell_type": "markdown",
   "metadata": {},
   "source": [
    "# Count the occurences of a number in a array"
   ]
  },
  {
   "cell_type": "markdown",
   "metadata": {},
   "source": [
    "## Naive Method"
   ]
  },
  {
   "cell_type": "code",
   "execution_count": 20,
   "metadata": {},
   "outputs": [],
   "source": [
    "def count_x_occur_naive(arr,x):\n",
    "    cnt = 0\n",
    "    for i in range(len(arr)):\n",
    "        if x==arr[i]:\n",
    "            cnt+=1\n",
    "    return cnt"
   ]
  },
  {
   "cell_type": "code",
   "execution_count": 21,
   "metadata": {},
   "outputs": [
    {
     "data": {
      "text/plain": [
       "4"
      ]
     },
     "execution_count": 21,
     "metadata": {},
     "output_type": "execute_result"
    }
   ],
   "source": [
    "count_x_occur_naive([1, 1, 2, 2, 2, 2, 3],2)"
   ]
  },
  {
   "cell_type": "markdown",
   "metadata": {},
   "source": [
    "## Binary Search"
   ]
  },
  {
   "cell_type": "code",
   "execution_count": 37,
   "metadata": {},
   "outputs": [],
   "source": [
    "def first_index(arr,x):\n",
    "    low = 0\n",
    "    high = len(arr)-1\n",
    "    while (low <= high):\n",
    "        mid = int((low+high)/2)\n",
    "        print(high,\"<<high\")\n",
    "        print(mid,\"<<mid\")\n",
    "        print(low,\"<<low\")\n",
    "        print(\"\\n\\n\")\n",
    "        if (arr[mid]==x and (x > arr[mid-1] or mid==0)):\n",
    "            return mid\n",
    "        if (arr[mid] >= x):\n",
    "            high = mid -1\n",
    "        else:\n",
    "            low = mid + 1\n",
    "\n",
    "def last_index(arr,x):\n",
    "    low = 0\n",
    "    high = len(arr)-1\n",
    "    while (low <=high):\n",
    "        mid = int((low+high)/2)\n",
    "        if (arr[mid]==x and (x < arr[mid+1] or mid==len(arr)-1)):\n",
    "            return mid\n",
    "        if (arr[mid] > x):\n",
    "            high = mid -1\n",
    "        else:\n",
    "            low = mid + 1\n",
    "def count_occurences(arr,x):\n",
    "    i = first_index(arr,x)\n",
    "    j = last_index(arr,x)\n",
    "    count = j-i+1\n",
    "    return count"
   ]
  },
  {
   "cell_type": "code",
   "execution_count": 40,
   "metadata": {},
   "outputs": [
    {
     "name": "stdout",
     "output_type": "stream",
     "text": [
      "6 <<high\n",
      "3 <<mid\n",
      "0 <<low\n",
      "\n",
      "\n",
      "\n",
      "2 <<high\n",
      "1 <<mid\n",
      "0 <<low\n",
      "\n",
      "\n",
      "\n",
      "2 <<high\n",
      "2 <<mid\n",
      "2 <<low\n",
      "\n",
      "\n",
      "\n"
     ]
    },
    {
     "data": {
      "text/plain": [
       "4"
      ]
     },
     "execution_count": 40,
     "metadata": {},
     "output_type": "execute_result"
    }
   ],
   "source": [
    "count_occurences([1, 1, 2, 2, 2, 2, 3],2)"
   ]
  },
  {
   "cell_type": "markdown",
   "metadata": {},
   "source": [
    "# Peak Elements"
   ]
  },
  {
   "cell_type": "markdown",
   "metadata": {},
   "source": [
    "## Naive Methos"
   ]
  },
  {
   "cell_type": "code",
   "execution_count": 41,
   "metadata": {},
   "outputs": [],
   "source": [
    "def peak_els_naive(arr,n):\n",
    "    if (n==1):\n",
    "        return 0\n",
    "    if (arr[0]>=arr[1]):\n",
    "        print(arr[0])\n",
    "    if (arr[n-1]>arr[n-2]):\n",
    "        print(arr[n-1])\n",
    "    for i in range(1,n-1):\n",
    "        if (arr[i]>arr[i-1] and arr[i]>arr[i+1]):\n",
    "            print(arr[i])\n",
    "    return\n",
    "        "
   ]
  },
  {
   "cell_type": "code",
   "execution_count": 43,
   "metadata": {},
   "outputs": [
    {
     "name": "stdout",
     "output_type": "stream",
     "text": [
      "20\n"
     ]
    }
   ],
   "source": [
    "peak_els_naive([5, 10, 20, 15],4)"
   ]
  },
  {
   "cell_type": "markdown",
   "metadata": {},
   "source": [
    "## Effective Method"
   ]
  },
  {
   "cell_type": "code",
   "execution_count": 44,
   "metadata": {},
   "outputs": [],
   "source": [
    "def find_peak(arr,n):\n",
    "    l = 0\n",
    "    r = n-1\n",
    "    while (l<=r):\n",
    "        mid = int((l+r)/2)\n",
    "        if ((mid==0 or arr[mid] >=arr[mid-1]) and (mid == n-1 or arr[mid+1] <= arr[mid])):\n",
    "            break\n",
    "        if (mid > 0 and arr[mid-1] > arr[mid]):\n",
    "            r = mid -1\n",
    "        else:\n",
    "            l = mid + 1\n",
    "    return mid"
   ]
  },
  {
   "cell_type": "code",
   "execution_count": 45,
   "metadata": {},
   "outputs": [
    {
     "data": {
      "text/plain": [
       "2"
      ]
     },
     "execution_count": 45,
     "metadata": {},
     "output_type": "execute_result"
    }
   ],
   "source": [
    "find_peak([5, 10, 20, 15],4)"
   ]
  },
  {
   "cell_type": "markdown",
   "metadata": {},
   "source": [
    "# Peak Element"
   ]
  },
  {
   "cell_type": "code",
   "execution_count": 16,
   "metadata": {},
   "outputs": [],
   "source": [
    "def find_peak(arr):\n",
    "    n = len(arr)\n",
    "    low = 0\n",
    "    high = n - 1\n",
    "    while (low<=high):\n",
    "        mid = int((low+high)/2)\n",
    "        if ((mid==0 or arr[mid] >= arr[mid-1]) and (mid == n-1 or arr[mid+1] <= arr[mid])):\n",
    "            break\n",
    "        if ((arr[mid] < arr[mid-1]) and mid > 0):\n",
    "            high = mid -1\n",
    "        else:\n",
    "            low = mid + 1\n",
    "    return mid\n",
    "            \n",
    "        "
   ]
  },
  {
   "cell_type": "code",
   "execution_count": 17,
   "metadata": {},
   "outputs": [
    {
     "data": {
      "text/plain": [
       "5"
      ]
     },
     "execution_count": 17,
     "metadata": {},
     "output_type": "execute_result"
    }
   ],
   "source": [
    "find_peak([1, 2, 4, 5, 7, 8, 3])"
   ]
  },
  {
   "cell_type": "markdown",
   "metadata": {},
   "source": [
    "# Index of the first occurence"
   ]
  },
  {
   "cell_type": "code",
   "execution_count": 56,
   "metadata": {},
   "outputs": [],
   "source": [
    "def index_first_occurence(arr,x):\n",
    "    n = len(arr)\n",
    "    low = 0\n",
    "    high = n-1\n",
    "    while (low <= high):\n",
    "        mid = int((low+high)/2)\n",
    "        if (x > arr[mid]):\n",
    "            low = mid +1\n",
    "        elif (x < arr[mid]):\n",
    "            high = mid - 1\n",
    "        else:\n",
    "            if (mid==0 or (arr[mid-1]!=arr[mid])):\n",
    "                return mid\n",
    "            else:\n",
    "                high = mid - 1\n",
    "        \n",
    "    return -1\n",
    "            "
   ]
  },
  {
   "cell_type": "code",
   "execution_count": 57,
   "metadata": {},
   "outputs": [
    {
     "data": {
      "text/plain": [
       "0"
      ]
     },
     "execution_count": 57,
     "metadata": {},
     "output_type": "execute_result"
    }
   ],
   "source": [
    "index_first_occurence([5,5,5],5)"
   ]
  },
  {
   "cell_type": "markdown",
   "metadata": {},
   "source": [
    "# Index of the last Occurence"
   ]
  },
  {
   "cell_type": "code",
   "execution_count": 3,
   "metadata": {},
   "outputs": [],
   "source": [
    "def last_occurence_in_array(arr,x):\n",
    "    n = len(arr)\n",
    "    low = 0\n",
    "    high = n-1\n",
    "    \n",
    "    while (low <= high):\n",
    "        mid = int((low+high)/2) \n",
    "        if (arr[mid] >x):\n",
    "            high = mid -1\n",
    "        elif (arr[mid] < x) :\n",
    "            low = mid + 1\n",
    "        else:\n",
    "            if (mid == n-1 or arr[mid]!=arr[mid+1]):\n",
    "                return mid\n",
    "            else:\n",
    "                low = mid + 1  \n",
    "    return -1"
   ]
  },
  {
   "cell_type": "code",
   "execution_count": 4,
   "metadata": {},
   "outputs": [
    {
     "data": {
      "text/plain": [
       "4"
      ]
     },
     "execution_count": 4,
     "metadata": {},
     "output_type": "execute_result"
    }
   ],
   "source": [
    "last_occurence_in_array([5,10,10,10,10,20,20],10)"
   ]
  },
  {
   "cell_type": "markdown",
   "metadata": {},
   "source": [
    "# Count Occurences of a number"
   ]
  },
  {
   "cell_type": "code",
   "execution_count": 14,
   "metadata": {},
   "outputs": [],
   "source": [
    "def first_index(arr,x):\n",
    "    n = len(arr)\n",
    "    low = 0\n",
    "    high = n-1\n",
    "    while (low<=high):\n",
    "        mid = int((low+high)/2)\n",
    "        if (arr[mid] > x):\n",
    "            high = mid - 1\n",
    "        elif (arr[mid] < x):\n",
    "            low = mid + 1\n",
    "        else:\n",
    "            if(mid==0 or arr[mid-1]!=arr[mid]):\n",
    "                return mid\n",
    "            else:\n",
    "                high = mid - 1\n",
    "    return -1\n",
    "def last_index(arr,x):\n",
    "    n = len(arr)\n",
    "    low = 0\n",
    "    high = n-1\n",
    "    while (low<=high):\n",
    "        mid = int((low+high)/2)\n",
    "        if (arr[mid] > x):\n",
    "            high = mid - 1\n",
    "        elif (arr[mid] < x):\n",
    "            low = mid + 1\n",
    "        else:\n",
    "            if(mid==n-1 or arr[mid+1]!=arr[mid]):\n",
    "                return mid\n",
    "            else:\n",
    "                low = mid - 1\n",
    "    return -1\n",
    "\n",
    "def count_occurence(arr,x):\n",
    "    first_idx = first_index(arr,x)\n",
    "    last_idx = last_index(arr,x)\n",
    "    return last_idx-first_idx+1"
   ]
  },
  {
   "cell_type": "code",
   "execution_count": 15,
   "metadata": {},
   "outputs": [
    {
     "data": {
      "text/plain": [
       "1"
      ]
     },
     "execution_count": 15,
     "metadata": {},
     "output_type": "execute_result"
    }
   ],
   "source": [
    "count_occurence([10,20,20,20,20,30],30)"
   ]
  },
  {
   "cell_type": "markdown",
   "metadata": {},
   "source": [
    "# Find Peak Elements"
   ]
  },
  {
   "cell_type": "code",
   "execution_count": 24,
   "metadata": {},
   "outputs": [],
   "source": [
    "def array_peak_elements(arr):\n",
    "    n = len(arr)\n",
    "    low = 0\n",
    "    high = n - 1\n",
    "    while (low <= high):\n",
    "        mid = int((low+high)/2)\n",
    "        if ((mid==0 or arr[mid-1]<=arr[mid]) and (mid==n-1 or arr[mid]>=arr[mid+1])):\n",
    "            return True\n",
    "        if (arr[mid+1] > arr[mid]):\n",
    "            low = mid + 1\n",
    "        else:\n",
    "            high = mid - 1\n",
    "    return False       "
   ]
  },
  {
   "cell_type": "code",
   "execution_count": 27,
   "metadata": {},
   "outputs": [
    {
     "data": {
      "text/plain": [
       "True"
      ]
     },
     "execution_count": 27,
     "metadata": {},
     "output_type": "execute_result"
    }
   ],
   "source": [
    "array_peak_elements([1, 2, 3])"
   ]
  },
  {
   "cell_type": "markdown",
   "metadata": {},
   "source": [
    "# Count 1s in a sorted Binary Array"
   ]
  },
  {
   "cell_type": "markdown",
   "metadata": {},
   "source": [
    "## Naive Method"
   ]
  },
  {
   "cell_type": "code",
   "execution_count": 1,
   "metadata": {},
   "outputs": [],
   "source": [
    "def count_ones_naive(arr,n):\n",
    "    sum_one = 0\n",
    "    for i in range(n):\n",
    "        sum_one += arr[i]\n",
    "    return sum_one"
   ]
  },
  {
   "cell_type": "code",
   "execution_count": 2,
   "metadata": {},
   "outputs": [
    {
     "data": {
      "text/plain": [
       "4"
      ]
     },
     "execution_count": 2,
     "metadata": {},
     "output_type": "execute_result"
    }
   ],
   "source": [
    "count_ones_naive([0,0,0,1,1,1,1],7)"
   ]
  },
  {
   "cell_type": "markdown",
   "metadata": {},
   "source": [
    "## Using Binary Search"
   ]
  },
  {
   "cell_type": "code",
   "execution_count": 9,
   "metadata": {},
   "outputs": [],
   "source": [
    "def first_index(arr,n):\n",
    "    low = 0\n",
    "    high = n-1\n",
    "    while (low<=high):\n",
    "        mid = int((low+high)/2)\n",
    "        if (arr[mid]==1 and arr[mid-1] < arr[mid]):\n",
    "            return mid\n",
    "        if (arr[mid] > arr[mid-1]):\n",
    "            low = mid +1\n",
    "        else:\n",
    "            high = mid - 1\n",
    "    return -1 \n",
    "\n",
    "def count_ones_binary_search(arr,n):\n",
    "    first_idx = first_index(arr,n)\n",
    "    return (n-1) - first_idx + 1"
   ]
  },
  {
   "cell_type": "code",
   "execution_count": 10,
   "metadata": {},
   "outputs": [
    {
     "data": {
      "text/plain": [
       "4"
      ]
     },
     "execution_count": 10,
     "metadata": {},
     "output_type": "execute_result"
    }
   ],
   "source": [
    "count_ones_binary_search([0,0,0,1,1,1,1],7)"
   ]
  },
  {
   "cell_type": "markdown",
   "metadata": {},
   "source": [
    "# Square Root"
   ]
  },
  {
   "cell_type": "markdown",
   "metadata": {},
   "source": [
    "## Naive Solution"
   ]
  },
  {
   "cell_type": "code",
   "execution_count": 12,
   "metadata": {},
   "outputs": [],
   "source": [
    "def sqaure_root_naive(x):\n",
    "    for i in range(x,0,-1):\n",
    "        if (i**2<=x):\n",
    "            return i\n",
    "    "
   ]
  },
  {
   "cell_type": "code",
   "execution_count": 15,
   "metadata": {},
   "outputs": [
    {
     "data": {
      "text/plain": [
       "5"
      ]
     },
     "execution_count": 15,
     "metadata": {},
     "output_type": "execute_result"
    }
   ],
   "source": [
    "sqaure_root_naive(25)"
   ]
  },
  {
   "cell_type": "markdown",
   "metadata": {},
   "source": [
    "## Efficient Solution"
   ]
  },
  {
   "cell_type": "code",
   "execution_count": 25,
   "metadata": {},
   "outputs": [],
   "source": [
    "def square_rooot_binary(x):\n",
    "    low = 1\n",
    "    high = x\n",
    "    ans = -1\n",
    "    while (low<=high):\n",
    "        mid = int((low+high)/2)\n",
    "        if (mid**2 <=x and (mid+1)**2 >x ):\n",
    "            return mid\n",
    "        if (mid**2 > x):\n",
    "            high = mid-1\n",
    "        else:\n",
    "            low = mid+1\n",
    "            ans = mid\n",
    "    return ans\n",
    "            \n",
    "            "
   ]
  },
  {
   "cell_type": "code",
   "execution_count": 26,
   "metadata": {},
   "outputs": [
    {
     "data": {
      "text/plain": [
       "3"
      ]
     },
     "execution_count": 26,
     "metadata": {},
     "output_type": "execute_result"
    }
   ],
   "source": [
    "square_rooot_binary(15)"
   ]
  },
  {
   "cell_type": "markdown",
   "metadata": {},
   "source": [
    "# Search through an infinitely sized array"
   ]
  },
  {
   "cell_type": "code",
   "execution_count": null,
   "metadata": {},
   "outputs": [],
   "source": [
    "def search_through_infinte_array(arr,x):\n",
    "    if (arr[0]==x):\n",
    "        return 0\n",
    "    i = 1\n",
    "    while (arr[i] < x):\n",
    "        i = i**2\n",
    "        if (arr[i]==x):\n",
    "            return i\n",
    "    return binary_search(arr,x,i/2 + 1, i-1)"
   ]
  },
  {
   "cell_type": "markdown",
   "metadata": {},
   "source": [
    "# Search through a sorted and rotated array"
   ]
  },
  {
   "cell_type": "code",
   "execution_count": 27,
   "metadata": {},
   "outputs": [],
   "source": [
    "def search_through(arr,x):\n",
    "    low = 0\n",
    "    high = len(arr)-1\n",
    "    while (low<=high):\n",
    "        mid = int((low+high)/2)\n",
    "        if (arr[mid]==x):\n",
    "            return mid\n",
    "        if (arr[low]<=arr[mid]):\n",
    "            if (x>=arr[mid] and x<arr[mid]):\n",
    "                high = mid - 1\n",
    "            else:\n",
    "                low = mid + 1\n",
    "        else:\n",
    "            if (x>arr[mid] and x<=arr[high]):\n",
    "                low = mid + 1\n",
    "            else:\n",
    "                high = mid - 1\n",
    "    return -1\n",
    "    \n",
    "    "
   ]
  },
  {
   "cell_type": "code",
   "execution_count": 28,
   "metadata": {},
   "outputs": [],
   "source": [
    "def peak_element(arr):\n",
    "    low = 0\n",
    "    high  = len(arr) - 1\n",
    "    while (low <= high):\n",
    "        mid = int((low+high)/2)\n",
    "        if ((mid==0 or arr[mid-1] <= arr[mid]) and (mid==len(arr)-1 or arr[mid+1] <= arr[mid])):\n",
    "            return True\n",
    "        if (mid>0 and arr[mid-1] >= arr[mid]):\n",
    "            high = mid - 1\n",
    "        else:\n",
    "            low = mid + 1\n",
    "    return False"
   ]
  },
  {
   "cell_type": "code",
   "execution_count": 29,
   "metadata": {},
   "outputs": [
    {
     "data": {
      "text/plain": [
       "True"
      ]
     },
     "execution_count": 29,
     "metadata": {},
     "output_type": "execute_result"
    }
   ],
   "source": [
    "peak_element([1,2,4,5,7,8,3])"
   ]
  },
  {
   "cell_type": "code",
   "execution_count": null,
   "metadata": {},
   "outputs": [],
   "source": [
    "(((mid==0) or (arr[mid-1] <= arr[mid])) and \n",
    "            ((mid==(len(arr)-1)) or (arr[mid+1] <= arr[mid]) ))"
   ]
  },
  {
   "cell_type": "code",
   "execution_count": 36,
   "metadata": {},
   "outputs": [],
   "source": [
    "def lastIndex(arr,N):\n",
    "        low = 0\n",
    "        high = N-1\n",
    "        while (low<=high):\n",
    "            \n",
    "            mid = int((low+high)/2)\n",
    "            print(low,mid,high,\"\\n\")\n",
    "            if (arr[mid]!=arr[mid+1] ):\n",
    "                return mid\n",
    "            if (arr[mid+1] >= arr[mid]):\n",
    "                low = mid + 1\n",
    "            else:\n",
    "                high = mid -1\n",
    "        return -1"
   ]
  },
  {
   "cell_type": "code",
   "execution_count": 37,
   "metadata": {},
   "outputs": [
    {
     "name": "stdout",
     "output_type": "stream",
     "text": [
      "0 3 7 \n",
      "\n",
      "4 5 7 \n",
      "\n",
      "6 6 7 \n",
      "\n",
      "7 7 7 \n",
      "\n"
     ]
    },
    {
     "ename": "IndexError",
     "evalue": "list index out of range",
     "output_type": "error",
     "traceback": [
      "\u001b[1;31m---------------------------------------------------------------------------\u001b[0m",
      "\u001b[1;31mIndexError\u001b[0m                                Traceback (most recent call last)",
      "Cell \u001b[1;32mIn[37], line 1\u001b[0m\n\u001b[1;32m----> 1\u001b[0m \u001b[43mlastIndex\u001b[49m\u001b[43m(\u001b[49m\u001b[43m[\u001b[49m\u001b[38;5;241;43m1\u001b[39;49m\u001b[43m,\u001b[49m\u001b[38;5;241;43m1\u001b[39;49m\u001b[43m,\u001b[49m\u001b[38;5;241;43m1\u001b[39;49m\u001b[43m,\u001b[49m\u001b[38;5;241;43m1\u001b[39;49m\u001b[43m,\u001b[49m\u001b[38;5;241;43m1\u001b[39;49m\u001b[43m,\u001b[49m\u001b[38;5;241;43m0\u001b[39;49m\u001b[43m,\u001b[49m\u001b[38;5;241;43m0\u001b[39;49m\u001b[43m,\u001b[49m\u001b[38;5;241;43m0\u001b[39;49m\u001b[43m]\u001b[49m\u001b[43m,\u001b[49m\u001b[38;5;241;43m8\u001b[39;49m\u001b[43m)\u001b[49m\n",
      "Cell \u001b[1;32mIn[36], line 8\u001b[0m, in \u001b[0;36mlastIndex\u001b[1;34m(arr, N)\u001b[0m\n\u001b[0;32m      6\u001b[0m mid \u001b[38;5;241m=\u001b[39m \u001b[38;5;28mint\u001b[39m((low\u001b[38;5;241m+\u001b[39mhigh)\u001b[38;5;241m/\u001b[39m\u001b[38;5;241m2\u001b[39m)\n\u001b[0;32m      7\u001b[0m \u001b[38;5;28mprint\u001b[39m(low,mid,high,\u001b[38;5;124m\"\u001b[39m\u001b[38;5;130;01m\\n\u001b[39;00m\u001b[38;5;124m\"\u001b[39m)\n\u001b[1;32m----> 8\u001b[0m \u001b[38;5;28;01mif\u001b[39;00m (arr[mid]\u001b[38;5;241m!=\u001b[39m\u001b[43marr\u001b[49m\u001b[43m[\u001b[49m\u001b[43mmid\u001b[49m\u001b[38;5;241;43m+\u001b[39;49m\u001b[38;5;241;43m1\u001b[39;49m\u001b[43m]\u001b[49m ):\n\u001b[0;32m      9\u001b[0m     \u001b[38;5;28;01mreturn\u001b[39;00m mid\n\u001b[0;32m     10\u001b[0m \u001b[38;5;28;01mif\u001b[39;00m (arr[mid\u001b[38;5;241m+\u001b[39m\u001b[38;5;241m1\u001b[39m] \u001b[38;5;241m>\u001b[39m\u001b[38;5;241m=\u001b[39m arr[mid]):\n",
      "\u001b[1;31mIndexError\u001b[0m: list index out of range"
     ]
    }
   ],
   "source": [
    "lastIndex([1,1,1,1,1,0,0,0],8)"
   ]
  },
  {
   "cell_type": "markdown",
   "metadata": {},
   "source": [
    "# Find peak element of an array"
   ]
  },
  {
   "cell_type": "markdown",
   "metadata": {},
   "source": [
    "## Naive Solution"
   ]
  },
  {
   "cell_type": "code",
   "execution_count": null,
   "metadata": {},
   "outputs": [],
   "source": [
    "def "
   ]
  }
 ],
 "metadata": {
  "kernelspec": {
   "display_name": "Python 3",
   "language": "python",
   "name": "python3"
  },
  "language_info": {
   "codemirror_mode": {
    "name": "ipython",
    "version": 3
   },
   "file_extension": ".py",
   "mimetype": "text/x-python",
   "name": "python",
   "nbconvert_exporter": "python",
   "pygments_lexer": "ipython3",
   "version": "3.11.9"
  }
 },
 "nbformat": 4,
 "nbformat_minor": 2
}
