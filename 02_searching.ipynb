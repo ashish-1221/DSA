{
 "cells": [
  {
   "cell_type": "code",
   "execution_count": 29,
   "metadata": {},
   "outputs": [],
   "source": [
    "import math"
   ]
  },
  {
   "cell_type": "markdown",
   "metadata": {},
   "source": [
    "# Binary Search (Iterative)\n"
   ]
  },
  {
   "cell_type": "markdown",
   "metadata": {},
   "source": [
    "## Simple Method\n"
   ]
  },
  {
   "cell_type": "code",
   "execution_count": 24,
   "metadata": {},
   "outputs": [],
   "source": [
    "def binary_search_iter_simple(arr,x):\n",
    "    for i in range(len(arr)):\n",
    "        if (arr[i]==x):\n",
    "            return i\n",
    "    return -1\n",
    "            \n",
    "        "
   ]
  },
  {
   "cell_type": "code",
   "execution_count": 26,
   "metadata": {},
   "outputs": [
    {
     "data": {
      "text/plain": [
       "1"
      ]
     },
     "execution_count": 26,
     "metadata": {},
     "output_type": "execute_result"
    }
   ],
   "source": [
    "binary_search_iter_simple([2,15,15],15)"
   ]
  },
  {
   "cell_type": "markdown",
   "metadata": {},
   "source": [
    "## Binary Search method\n"
   ]
  },
  {
   "cell_type": "code",
   "execution_count": 18,
   "metadata": {},
   "outputs": [],
   "source": [
    "def binary_search(arr,x):\n",
    "    low = 0\n",
    "    high = len(arr)-1\n",
    "    while(low <= high):\n",
    "        mid = int((low+high)/2)\n",
    "        print(low,\"<<low\")\n",
    "        print(mid,\"<<mid\")\n",
    "        print(high,\"<<high\")\n",
    "        print(\"\\n\\n\")\n",
    "        if (x==arr[mid]):\n",
    "            return mid\n",
    "        if ( arr[mid] > x):\n",
    "            high = mid -1\n",
    "        else:\n",
    "            low = mid + 1\n",
    "        \n",
    "        \n",
    "    return -1\n",
    "        "
   ]
  },
  {
   "cell_type": "code",
   "execution_count": 20,
   "metadata": {},
   "outputs": [
    {
     "name": "stdout",
     "output_type": "stream",
     "text": [
      "0 <<low\n",
      "4 <<mid\n",
      "8 <<high\n",
      "\n",
      "\n",
      "\n",
      "5 <<low\n",
      "6 <<mid\n",
      "8 <<high\n",
      "\n",
      "\n",
      "\n",
      "5 <<low\n",
      "5 <<mid\n",
      "5 <<high\n",
      "\n",
      "\n",
      "\n"
     ]
    },
    {
     "data": {
      "text/plain": [
       "-1"
      ]
     },
     "execution_count": 20,
     "metadata": {},
     "output_type": "execute_result"
    }
   ],
   "source": [
    "binary_search([2,3,6,7,8,10,12,13,14],9)"
   ]
  },
  {
   "cell_type": "markdown",
   "metadata": {},
   "source": [
    "# Array Search\n"
   ]
  },
  {
   "cell_type": "markdown",
   "metadata": {},
   "source": [
    "## Simple Method\n"
   ]
  },
  {
   "cell_type": "code",
   "execution_count": 57,
   "metadata": {},
   "outputs": [],
   "source": [
    "def array_search(arr,x):\n",
    "    for i in range(len(arr)):\n",
    "        if (arr[i]==x):\n",
    "            return i\n",
    "    return -1"
   ]
  },
  {
   "cell_type": "markdown",
   "metadata": {},
   "source": [
    "# Binary Search (Recusrive)\n"
   ]
  },
  {
   "cell_type": "code",
   "execution_count": 1,
   "metadata": {},
   "outputs": [],
   "source": [
    "def binary_search_recursive(arr,low,high,x):\n",
    "    if (low>high):\n",
    "        return -1\n",
    "    mid = int((low+high)/2)\n",
    "    if (arr[mid]==x):\n",
    "        return mid\n",
    "    elif (arr[mid] > x):\n",
    "        return binary_search_recursive(arr,low,mid-1,x)\n",
    "    else:\n",
    "        return binary_search_recursive(arr,mid+1,high,x)"
   ]
  },
  {
   "cell_type": "code",
   "execution_count": 2,
   "metadata": {},
   "outputs": [
    {
     "data": {
      "text/plain": [
       "5"
      ]
     },
     "execution_count": 2,
     "metadata": {},
     "output_type": "execute_result"
    }
   ],
   "source": [
    "binary_search_recursive([2,3,4,5,6,7,8,9,10],0,8,7)"
   ]
  },
  {
   "cell_type": "markdown",
   "metadata": {},
   "source": [
    "# Sorted Array Search\n"
   ]
  },
  {
   "cell_type": "code",
   "execution_count": 7,
   "metadata": {},
   "outputs": [],
   "source": [
    "def sorted_arr_search(arr,x):\n",
    "    low = 0\n",
    "    high = len(arr)-1\n",
    "    while (low<=high):\n",
    "        mid = int((high+low)/2)\n",
    "        if (arr[mid]==x):\n",
    "            return True\n",
    "        if (arr[mid] > x):\n",
    "            high = mid-1\n",
    "        else:\n",
    "            low = mid+1\n",
    "        print(mid,\"<<mid\")\n",
    "    return False\n",
    "        "
   ]
  },
  {
   "cell_type": "code",
   "execution_count": 9,
   "metadata": {},
   "outputs": [
    {
     "name": "stdout",
     "output_type": "stream",
     "text": [
      "4 <<mid\n"
     ]
    },
    {
     "data": {
      "text/plain": [
       "True"
      ]
     },
     "execution_count": 9,
     "metadata": {},
     "output_type": "execute_result"
    }
   ],
   "source": [
    "sorted_arr_search([2,3,4,5,6,7,8,9,10],8)"
   ]
  },
  {
   "cell_type": "markdown",
   "metadata": {},
   "source": [
    "# Floor in sorted array\n"
   ]
  },
  {
   "cell_type": "code",
   "execution_count": 31,
   "metadata": {},
   "outputs": [],
   "source": [
    "def floor_sorted_array(arr,k):\n",
    "    low = 0\n",
    "    high = len(arr)-1\n",
    "    if (k>=arr[high]):\n",
    "        return high\n",
    "    while (low <= high):\n",
    "        mid = int((high+low)/2)\n",
    "        if (mid > 0 and arr[mid]>k and k>=arr[mid-1]):\n",
    "            return mid-1\n",
    "        \n",
    "        if (arr[mid]==k):\n",
    "            return mid\n",
    "        if (arr[mid] > k):\n",
    "            high = mid-1\n",
    "        else:\n",
    "            low = mid + 1\n",
    "    return -1"
   ]
  },
  {
   "cell_type": "code",
   "execution_count": 32,
   "metadata": {},
   "outputs": [
    {
     "data": {
      "text/plain": [
       "1"
      ]
     },
     "execution_count": 32,
     "metadata": {},
     "output_type": "execute_result"
    }
   ],
   "source": [
    "floor_sorted_array( [1, 2, 8, 10, 11, 12, 19],5)"
   ]
  },
  {
   "cell_type": "markdown",
   "metadata": {},
   "source": [
    "# Majority Element\n"
   ]
  },
  {
   "cell_type": "code",
   "execution_count": 38,
   "metadata": {},
   "outputs": [],
   "source": [
    "def majority_element(arr):\n",
    "    n = len(arr)\n",
    "    candidate = -1\n",
    "    count = 0\n",
    "    # find the candidate\n",
    "    for num in arr:\n",
    "        if count == 0:\n",
    "            candidate = num\n",
    "            count=1\n",
    "        elif num==candidate:\n",
    "            count+=1\n",
    "        else:\n",
    "            count-=1\n",
    "    # validate the candidate\n",
    "    count = 0\n",
    "    for num in arr:\n",
    "        if num==candidate:\n",
    "            count+=1\n",
    "            \n",
    "    #if the candidate count is greater than n/2 then return the candidate\n",
    "    # else return -1\n",
    "    if count > n/2:\n",
    "        return candidate\n",
    "    else:\n",
    "        return -1\n",
    "        "
   ]
  },
  {
   "cell_type": "code",
   "execution_count": 39,
   "metadata": {},
   "outputs": [
    {
     "data": {
      "text/plain": [
       "999"
      ]
     },
     "execution_count": 39,
     "metadata": {},
     "output_type": "execute_result"
    }
   ],
   "source": [
    "majority_element([999,999,1000,999,1000,999,1000,1000,999,1000,999,1000,999,1000,1000,1000,1000,999,1000,999,999,999,1000,999,999,1000,1000,999,999,999,1000,999,999,1000,999,1000,1000,1000,999,1000,999,1000,999,999,999,1000,999,1000,1000,1000,1000,999,999,1000,999,999,999,999,1000,1000,999,999,999,999,1000,1000,999,1000,1000,999,999,1000,1000,999,999,1000,1000,1000,1000,1000,1000,1000,1000,1000,1000,1000,999,999,999,999,1000,1000,999,999,999,999,1000,1000,1000,1000,999,1000,1000,1000,1000,999,1000,999,999,999,999,1000,999,1000,1000,999,999,999,999,1000,1000,999,1000,999,1000,1000,999,999,1000,999,999,1000,1000,1000,1000,1000,999,1000,1000,999,999,999,1000,999,999,999,1000,999,1000,999,1000,1000,1000,1000,999,999,999,1000,999,999,999,999,999,999,1000,1000,999,999,999,1000,1000,999,999,1000,999,999,1000,999,1000,1000,1000,1000,1000,1000,999,999,1000,1000,1000,999,999,1000,999,1000,1000,999,999,1000,999,999,1000,999,1000,999,999,999,1000,999,1000,999,1000,999,999,999,999,1000,1000,1000,999,1000,1000,999,999,1000,1000,1000,1000,999,999,1000,999,999,1000,1000,999,999,1000,1000,1000,1000,1000,999,1000,1000,999,999,1000,999,1000,1000,999,1000,999,1000,999,999,999,999,999,999,1000,1000,999,999,999,1000,1000,1000,1000,1000,999,1000,1000,999,999,999,1000,1000,1000,1000,1000,999,1000,1000,999,999,1000,999,1000,1000,1000,1000,1000,1000,999,1000,999,1000,999,1000,999,999,999,1000,1000,999,1000,999,1000,999,1000,999,999,1000,999,999,999,999,1000,999,1000,1000,999,1000,999,999,1000,999,999,999,999,1000,1000,1000,1000,999,999,999,1000,999,999,999,1000,1000,999,999,1000,999,999,1000,999,999,1000,1000,999,999,999,999,1000,999,1000,999,999,1000,1000,1000,1000,1000,999,1000,1000,1000,1000,1000,1000,999,999,1000,1000,999,999,1000,999,999,1000,999,999,999,999,1000,1000,1000,1000,999,1000,1000,1000,1000,999,1000,1000,999,999,999,1000,999,1000,999,999,1000,999,1000,1000,999,999,999,999,1000,999,1000,999,999,1000,1000,1000,999,1000,1000,1000,1000,999,999,999,1000,1000,999,1000,999,999,1000,1000,999,1000,999,999,999,1000,999,1000,1000,999,1000,999,999,999,999,999,999,999,999,1000,1000,999,1000,1000,999,1000,999,1000,999,999,999,1000,1000,999,999,999,1000,999,999,999,1000,999,999,999,999,999,999,1000,1000,999,999,999,1000,999,999,1000,1000,1000,1000,999,1000,999,1000,999,999,999,1000,999,999,999,999,1000,999,999,999,1000,999,1000,999,1000,999,999,1000,999,1000,1000,1000,1000,1000,999,1000,1000,999,1000,999,1000,1000,999,1000,1000,999,999,999,1000,1000,1000,999,999,1000,999,1000,1000,1000,999,999,999,999,999,1000,999,999,1000,999,999,999,1000,999,1000,999,1000,1000,1000,1000,1000,1000,999,999,1000,999,999,1000,999,1000,1000,1000,999,1000,1000,999,1000,1000,1000,999,1000,1000,999,1000,1000,1000,1000,999,1000,1000,999,1000,999,1000,999,1000,1000,1000,999,999,1000,999,1000,1000,999,999,1000,999,999,1000,999,1000,999,1000,1000,999,1000,999,1000,999,1000,999,1000,1000,1000,1000,1000,999,999,1000,999,999,1000,1000,999,1000,999,1000,1000,1000,1000,999,999,1000,999,999,999,1000,1000,999,1000,999,1000,999,1000,1000,1000,999,999,1000,1000,1000,999,999,1000,1000,999,1000,999,1000,1000,999,1000,1000,1000,1000,1000,999,1000,1000,999,1000,999,999,1000,1000,1000,999,999,999,999,1000,999,1000,999,1000,1000,1000,999,999,999,1000,999,1000,1000,1000,999,1000,999,1000,1000,999,999,999,1000,1000,1000,999,999,999,999,1000,1000,1000,1000,999,999,1000,1000,1000,1000,1000,999,1000,999,1000,1000,999,1000,1000,999,1000,999,999,999,999,1000,999,1000,999,999,1000,999,1000,999,999,999,999,999,1000,999,999,1000,1000,999,999,1000,999,999,1000,1000,999,999,1000,1000,999,1000,1000,1000,999,1000,999,1000,1000,1000,999,999,1000,999,999,999,1000,999,1000,999,1000,1000,999,999,1000,1000,999,999,1000,1000,1000,999,1000,1000,1000,999,1000,1000,999,999,1000,1000,1000,1000,999,999,1000,999,1000,1000,999,1000,999,1000,999,1000,1000,999,1000,1000,1000,999,999,1000,1000,1000,999,999,999,999,999,1000,999,1000,999,1000,1000,999,1000,1000,1000,1000,999,1000,999,1000,999,999,999,1000,999,999,999,999,1000,999,1000,999,999,999,999,999,1000,1000,999,999,999,1000,1000,999,999,999,999,1000,999,999,1000,999,999,1000,999,999,999,1000,1000,999,999,999,999,999,1000,999,1000,999,1000,999,999,1000,999,1000,1000,1000,1000,999,999,1000,999,1000,999,999,1000,999,999,999,999,999,1000,1000,1000,1000,999,1000,1000,999,999,1000,1000,1000,1000,999,999,999,999,999,999,1000,1000,999,1000,999,1000])"
   ]
  },
  {
   "cell_type": "code",
   "execution_count": 36,
   "metadata": {},
   "outputs": [],
   "source": [
    "tem=\"999 999 1000 999 1000 999 1000 1000 999 1000 999 1000 999 1000 1000 1000 1000 999 1000 999 999 999 1000 999 999 1000 1000 999 999 999 1000 999 999 1000 999 1000 1000 1000 999 1000 999 1000 999 999 999 1000 999 1000 1000 1000 1000 999 999 1000 999 999 999 999 1000 1000 999 999 999 999 1000 1000 999 1000 1000 999 999 1000 1000 999 999 1000 1000 1000 1000 1000 1000 1000 1000 1000 1000 1000 999 999 999 999 1000 1000 999 999 999 999 1000 1000 1000 1000 999 1000 1000 1000 1000 999 1000 999 999 999 999 1000 999 1000 1000 999 999 999 999 1000 1000 999 1000 999 1000 1000 999 999 1000 999 999 1000 1000 1000 1000 1000 999 1000 1000 999 999 999 1000 999 999 999 1000 999 1000 999 1000 1000 1000 1000 999 999 999 1000 999 999 999 999 999 999 1000 1000 999 999 999 1000 1000 999 999 1000 999 999 1000 999 1000 1000 1000 1000 1000 1000 999 999 1000 1000 1000 999 999 1000 999 1000 1000 999 999 1000 999 999 1000 999 1000 999 999 999 1000 999 1000 999 1000 999 999 999 999 1000 1000 1000 999 1000 1000 999 999 1000 1000 1000 1000 999 999 1000 999 999 1000 1000 999 999 1000 1000 1000 1000 1000 999 1000 1000 999 999 1000 999 1000 1000 999 1000 999 1000 999 999 999 999 999 999 1000 1000 999 999 999 1000 1000 1000 1000 1000 999 1000 1000 999 999 999 1000 1000 1000 1000 1000 999 1000 1000 999 999 1000 999 1000 1000 1000 1000 1000 1000 999 1000 999 1000 999 1000 999 999 999 1000 1000 999 1000 999 1000 999 1000 999 999 1000 999 999 999 999 1000 999 1000 1000 999 1000 999 999 1000 999 999 999 999 1000 1000 1000 1000 999 999 999 1000 999 999 999 1000 1000 999 999 1000 999 999 1000 999 999 1000 1000 999 999 999 999 1000 999 1000 999 999 1000 1000 1000 1000 1000 999 1000 1000 1000 1000 1000 1000 999 999 1000 1000 999 999 1000 999 999 1000 999 999 999 999 1000 1000 1000 1000 999 1000 1000 1000 1000 999 1000 1000 999 999 999 1000 999 1000 999 999 1000 999 1000 1000 999 999 999 999 1000 999 1000 999 999 1000 1000 1000 999 1000 1000 1000 1000 999 999 999 1000 1000 999 1000 999 999 1000 1000 999 1000 999 999 999 1000 999 1000 1000 999 1000 999 999 999 999 999 999 999 999 1000 1000 999 1000 1000 999 1000 999 1000 999 999 999 1000 1000 999 999 999 1000 999 999 999 1000 999 999 999 999 999 999 1000 1000 999 999 999 1000 999 999 1000 1000 1000 1000 999 1000 999 1000 999 999 999 1000 999 999 999 999 1000 999 999 999 1000 999 1000 999 1000 999 999 1000 999 1000 1000 1000 1000 1000 999 1000 1000 999 1000 999 1000 1000 999 1000 1000 999 999 999 1000 1000 1000 999 999 1000 999 1000 1000 1000 999 999 999 999 999 1000 999 999 1000 999 999 999 1000 999 1000 999 1000 1000 1000 1000 1000 1000 999 999 1000 999 999 1000 999 1000 1000 1000 999 1000 1000 999 1000 1000 1000 999 1000 1000 999 1000 1000 1000 1000 999 1000 1000 999 1000 999 1000 999 1000 1000 1000 999 999 1000 999 1000 1000 999 999 1000 999 999 1000 999 1000 999 1000 1000 999 1000 999 1000 999 1000 999 1000 1000 1000 1000 1000 999 999 1000 999 999 1000 1000 999 1000 999 1000 1000 1000 1000 999 999 1000 999 999 999 1000 1000 999 1000 999 1000 999 1000 1000 1000 999 999 1000 1000 1000 999 999 1000 1000 999 1000 999 1000 1000 999 1000 1000 1000 1000 1000 999 1000 1000 999 1000 999 999 1000 1000 1000 999 999 999 999 1000 999 1000 999 1000 1000 1000 999 999 999 1000 999 1000 1000 1000 999 1000 999 1000 1000 999 999 999 1000 1000 1000 999 999 999 999 1000 1000 1000 1000 999 999 1000 1000 1000 1000 1000 999 1000 999 1000 1000 999 1000 1000 999 1000 999 999 999 999 1000 999 1000 999 999 1000 999 1000 999 999 999 999 999 1000 999 999 1000 1000 999 999 1000 999 999 1000 1000 999 999 1000 1000 999 1000 1000 1000 999 1000 999 1000 1000 1000 999 999 1000 999 999 999 1000 999 1000 999 1000 1000 999 999 1000 1000 999 999 1000 1000 1000 999 1000 1000 1000 999 1000 1000 999 999 1000 1000 1000 1000 999 999 1000 999 1000 1000 999 1000 999 1000 999 1000 1000 999 1000 1000 1000 999 999 1000 1000 1000 999 999 999 999 999 1000 999 1000 999 1000 1000 999 1000 1000 1000 1000 999 1000 999 1000 999 999 999 1000 999 999 999 999 1000 999 1000 999 999 999 999 999 1000 1000 999 999 999 1000 1000 999 999 999 999 1000 999 999 1000 999 999 1000 999 999 999 1000 1000 999 999 999 999 999 1000 999 1000 999 1000 999 999 1000 999 1000 1000 1000 1000 999 999 1000 999 1000 999 999 1000 999 999 999 999 999 1000 1000 1000 1000 999 1000 1000 999 999 1000 1000 1000 1000 999 999 999 999 999 999 1000 1000 999 1000 999 1000\"\n",
    "temp_1 = tem.replace(\" \",\",\")"
   ]
  },
  {
   "cell_type": "markdown",
   "metadata": {},
   "source": [
    "# Ternary Search\n"
   ]
  },
  {
   "cell_type": "code",
   "execution_count": 37,
   "metadata": {},
   "outputs": [
    {
     "data": {
      "text/plain": [
       "'999,999,1000,999,1000,999,1000,1000,999,1000,999,1000,999,1000,1000,1000,1000,999,1000,999,999,999,1000,999,999,1000,1000,999,999,999,1000,999,999,1000,999,1000,1000,1000,999,1000,999,1000,999,999,999,1000,999,1000,1000,1000,1000,999,999,1000,999,999,999,999,1000,1000,999,999,999,999,1000,1000,999,1000,1000,999,999,1000,1000,999,999,1000,1000,1000,1000,1000,1000,1000,1000,1000,1000,1000,999,999,999,999,1000,1000,999,999,999,999,1000,1000,1000,1000,999,1000,1000,1000,1000,999,1000,999,999,999,999,1000,999,1000,1000,999,999,999,999,1000,1000,999,1000,999,1000,1000,999,999,1000,999,999,1000,1000,1000,1000,1000,999,1000,1000,999,999,999,1000,999,999,999,1000,999,1000,999,1000,1000,1000,1000,999,999,999,1000,999,999,999,999,999,999,1000,1000,999,999,999,1000,1000,999,999,1000,999,999,1000,999,1000,1000,1000,1000,1000,1000,999,999,1000,1000,1000,999,999,1000,999,1000,1000,999,999,1000,999,999,1000,999,1000,999,999,999,1000,999,1000,999,1000,999,999,999,999,1000,1000,1000,999,1000,1000,999,999,1000,1000,1000,1000,999,999,1000,999,999,1000,1000,999,999,1000,1000,1000,1000,1000,999,1000,1000,999,999,1000,999,1000,1000,999,1000,999,1000,999,999,999,999,999,999,1000,1000,999,999,999,1000,1000,1000,1000,1000,999,1000,1000,999,999,999,1000,1000,1000,1000,1000,999,1000,1000,999,999,1000,999,1000,1000,1000,1000,1000,1000,999,1000,999,1000,999,1000,999,999,999,1000,1000,999,1000,999,1000,999,1000,999,999,1000,999,999,999,999,1000,999,1000,1000,999,1000,999,999,1000,999,999,999,999,1000,1000,1000,1000,999,999,999,1000,999,999,999,1000,1000,999,999,1000,999,999,1000,999,999,1000,1000,999,999,999,999,1000,999,1000,999,999,1000,1000,1000,1000,1000,999,1000,1000,1000,1000,1000,1000,999,999,1000,1000,999,999,1000,999,999,1000,999,999,999,999,1000,1000,1000,1000,999,1000,1000,1000,1000,999,1000,1000,999,999,999,1000,999,1000,999,999,1000,999,1000,1000,999,999,999,999,1000,999,1000,999,999,1000,1000,1000,999,1000,1000,1000,1000,999,999,999,1000,1000,999,1000,999,999,1000,1000,999,1000,999,999,999,1000,999,1000,1000,999,1000,999,999,999,999,999,999,999,999,1000,1000,999,1000,1000,999,1000,999,1000,999,999,999,1000,1000,999,999,999,1000,999,999,999,1000,999,999,999,999,999,999,1000,1000,999,999,999,1000,999,999,1000,1000,1000,1000,999,1000,999,1000,999,999,999,1000,999,999,999,999,1000,999,999,999,1000,999,1000,999,1000,999,999,1000,999,1000,1000,1000,1000,1000,999,1000,1000,999,1000,999,1000,1000,999,1000,1000,999,999,999,1000,1000,1000,999,999,1000,999,1000,1000,1000,999,999,999,999,999,1000,999,999,1000,999,999,999,1000,999,1000,999,1000,1000,1000,1000,1000,1000,999,999,1000,999,999,1000,999,1000,1000,1000,999,1000,1000,999,1000,1000,1000,999,1000,1000,999,1000,1000,1000,1000,999,1000,1000,999,1000,999,1000,999,1000,1000,1000,999,999,1000,999,1000,1000,999,999,1000,999,999,1000,999,1000,999,1000,1000,999,1000,999,1000,999,1000,999,1000,1000,1000,1000,1000,999,999,1000,999,999,1000,1000,999,1000,999,1000,1000,1000,1000,999,999,1000,999,999,999,1000,1000,999,1000,999,1000,999,1000,1000,1000,999,999,1000,1000,1000,999,999,1000,1000,999,1000,999,1000,1000,999,1000,1000,1000,1000,1000,999,1000,1000,999,1000,999,999,1000,1000,1000,999,999,999,999,1000,999,1000,999,1000,1000,1000,999,999,999,1000,999,1000,1000,1000,999,1000,999,1000,1000,999,999,999,1000,1000,1000,999,999,999,999,1000,1000,1000,1000,999,999,1000,1000,1000,1000,1000,999,1000,999,1000,1000,999,1000,1000,999,1000,999,999,999,999,1000,999,1000,999,999,1000,999,1000,999,999,999,999,999,1000,999,999,1000,1000,999,999,1000,999,999,1000,1000,999,999,1000,1000,999,1000,1000,1000,999,1000,999,1000,1000,1000,999,999,1000,999,999,999,1000,999,1000,999,1000,1000,999,999,1000,1000,999,999,1000,1000,1000,999,1000,1000,1000,999,1000,1000,999,999,1000,1000,1000,1000,999,999,1000,999,1000,1000,999,1000,999,1000,999,1000,1000,999,1000,1000,1000,999,999,1000,1000,1000,999,999,999,999,999,1000,999,1000,999,1000,1000,999,1000,1000,1000,1000,999,1000,999,1000,999,999,999,1000,999,999,999,999,1000,999,1000,999,999,999,999,999,1000,1000,999,999,999,1000,1000,999,999,999,999,1000,999,999,1000,999,999,1000,999,999,999,1000,1000,999,999,999,999,999,1000,999,1000,999,1000,999,999,1000,999,1000,1000,1000,1000,999,999,1000,999,1000,999,999,1000,999,999,999,999,999,1000,1000,1000,1000,999,1000,1000,999,999,1000,1000,1000,1000,999,999,999,999,999,999,1000,1000,999,1000,999,1000'"
      ]
     },
     "execution_count": 37,
     "metadata": {},
     "output_type": "execute_result"
    }
   ],
   "source": [
    "def ternary_search(l,r,key,arr):\n",
    "    if (r>=1):\n",
    "        mid1 = l + (r-1)/3\n",
    "        mid2 = r - (r-1)/3\n",
    "        if (arr[mid1]==key):\n",
    "            return mid1\n",
    "        if (arr[mid2]==key):\n",
    "            return mid2\n",
    "        if (key < arr[mid1]):\n",
    "            return ternary_search(l,mid1-1,key,arr)\n",
    "        elif (key > arr[mid2]):\n",
    "            return ternary_search(mid2+1,r, key,arr)\n",
    "        else:\n",
    "            return ternary_search(mid1+1,mid2-1,key,arr)\n",
    "    return -1"
   ]
  },
  {
   "cell_type": "markdown",
   "metadata": {},
   "source": [
    "# Missing and Repeating NUmber\n"
   ]
  },
  {
   "cell_type": "markdown",
   "metadata": {},
   "source": [
    "## Naive Method\n"
   ]
  },
  {
   "cell_type": "code",
   "execution_count": null,
   "metadata": {},
   "outputs": [],
   "source": [
    "def missing_repeating (arr):\n",
    "    miss_num = 0\n",
    "    rep_num = 0\n",
    "    for i in range(1,n):\n",
    "        count = 0\n",
    "        for j in range(n):\n",
    "            if (arr[j]==i):\n",
    "                count +=1\n",
    "        if count ==0:\n",
    "            miss_num = i\n",
    "        if count>0:\n",
    "            rep_num = i\n",
    "    return miss_num,rep_num\n",
    "        "
   ]
  },
  {
   "cell_type": "markdown",
   "metadata": {},
   "source": [
    "## Negative Indexing\n"
   ]
  },
  {
   "cell_type": "code",
   "execution_count": 18,
   "metadata": {},
   "outputs": [],
   "source": [
    "def miss_rep_num(arr):\n",
    "    rep_num = -1\n",
    "    miss_num = -1\n",
    "    # Traversing the array\n",
    "    for i in range(len(arr)-1):\n",
    "        # using the absolute value of the element as index\n",
    "        temp = arr[abs(arr[i])-1]\n",
    "        print(temp,\"<<temp\")\n",
    "        # If the term is already visited, then it is a repeating number\n",
    "        if(temp<0):\n",
    "            rep_num = abs(arr[i])\n",
    "            break\n",
    "        # Make the term at temp index to negative of this number\n",
    "        arr[abs(arr[i])-1] = -arr[abs(arr[i])-1]\n",
    "    # Traversing through the array again and look for positive \n",
    "    # value. If found that is the missing number\n",
    "    for i in range(len(arr)):\n",
    "        if (arr[i]>0):\n",
    "            miss_num = i+1\n",
    "    print(rep_num,miss_num)"
   ]
  },
  {
   "cell_type": "code",
   "execution_count": 19,
   "metadata": {},
   "outputs": [
    {
     "name": "stdout",
     "output_type": "stream",
     "text": [
      "3 <<temp\n",
      "2 <<temp\n",
      "-3 <<temp\n",
      "2 5\n"
     ]
    }
   ],
   "source": [
    "miss_rep_num([2, 3, 2, 1, 5])"
   ]
  },
  {
   "cell_type": "markdown",
   "metadata": {},
   "source": [
    "# Count the occurences of a number in a array\n"
   ]
  },
  {
   "cell_type": "markdown",
   "metadata": {},
   "source": [
    "## Naive Method\n"
   ]
  },
  {
   "cell_type": "code",
   "execution_count": 20,
   "metadata": {},
   "outputs": [],
   "source": [
    "def count_x_occur_naive(arr,x):\n",
    "    cnt = 0\n",
    "    for i in range(len(arr)):\n",
    "        if x==arr[i]:\n",
    "            cnt+=1\n",
    "    return cnt"
   ]
  },
  {
   "cell_type": "code",
   "execution_count": 21,
   "metadata": {},
   "outputs": [
    {
     "data": {
      "text/plain": [
       "4"
      ]
     },
     "execution_count": 21,
     "metadata": {},
     "output_type": "execute_result"
    }
   ],
   "source": [
    "count_x_occur_naive([1, 1, 2, 2, 2, 2, 3],2)"
   ]
  },
  {
   "cell_type": "markdown",
   "metadata": {},
   "source": [
    "## Binary Search\n"
   ]
  },
  {
   "cell_type": "code",
   "execution_count": 37,
   "metadata": {},
   "outputs": [],
   "source": [
    "def first_index(arr,x):\n",
    "    low = 0\n",
    "    high = len(arr)-1\n",
    "    while (low <= high):\n",
    "        mid = int((low+high)/2)\n",
    "        if (arr[mid]==x and (x > arr[mid-1] or mid==0)):\n",
    "            return mid\n",
    "        if (arr[mid] >= x):\n",
    "            high = mid -1\n",
    "        else:\n",
    "            low = mid + 1\n",
    "\n",
    "def last_index(arr,x):\n",
    "    low = 0\n",
    "    high = len(arr)-1\n",
    "    while (low <=high):\n",
    "        mid = int((low+high)/2)\n",
    "        if (arr[mid]==x and (x < arr[mid+1] or mid==len(arr)-1)):\n",
    "            return mid\n",
    "        if (arr[mid] > x):\n",
    "            high = mid -1\n",
    "        else:\n",
    "            low = mid + 1\n",
    "def count_occurences(arr,x):\n",
    "    i = first_index(arr,x)\n",
    "    j = last_index(arr,x)\n",
    "    count = j-i+1\n",
    "    return count"
   ]
  },
  {
   "cell_type": "code",
   "execution_count": 40,
   "metadata": {},
   "outputs": [
    {
     "name": "stdout",
     "output_type": "stream",
     "text": [
      "6 <<high\n",
      "3 <<mid\n",
      "0 <<low\n",
      "\n",
      "\n",
      "\n",
      "2 <<high\n",
      "1 <<mid\n",
      "0 <<low\n",
      "\n",
      "\n",
      "\n",
      "2 <<high\n",
      "2 <<mid\n",
      "2 <<low\n",
      "\n",
      "\n",
      "\n"
     ]
    },
    {
     "data": {
      "text/plain": [
       "4"
      ]
     },
     "execution_count": 40,
     "metadata": {},
     "output_type": "execute_result"
    }
   ],
   "source": [
    "count_occurences([1, 1, 2, 2, 2, 2, 3],2)"
   ]
  },
  {
   "cell_type": "markdown",
   "metadata": {},
   "source": [
    "# Peak Elements\n"
   ]
  },
  {
   "cell_type": "markdown",
   "metadata": {},
   "source": [
    "## Naive Methos\n"
   ]
  },
  {
   "cell_type": "code",
   "execution_count": 41,
   "metadata": {},
   "outputs": [],
   "source": [
    "def peak_els_naive(arr,n):\n",
    "    if (n==1):\n",
    "        return 0\n",
    "    if (arr[0]>=arr[1]):\n",
    "        print(arr[0])\n",
    "    if (arr[n-1]>arr[n-2]):\n",
    "        print(arr[n-1])\n",
    "    for i in range(1,n-1):\n",
    "        if (arr[i]>arr[i-1] and arr[i]>arr[i+1]):\n",
    "            print(arr[i])\n",
    "    return\n",
    "        "
   ]
  },
  {
   "cell_type": "code",
   "execution_count": 43,
   "metadata": {},
   "outputs": [
    {
     "name": "stdout",
     "output_type": "stream",
     "text": [
      "20\n"
     ]
    }
   ],
   "source": [
    "peak_els_naive([5, 10, 20, 15],4)"
   ]
  },
  {
   "cell_type": "markdown",
   "metadata": {},
   "source": [
    "## Effective Method\n"
   ]
  },
  {
   "cell_type": "code",
   "execution_count": 44,
   "metadata": {},
   "outputs": [],
   "source": [
    "def find_peak(arr,n):\n",
    "    l = 0\n",
    "    r = n-1\n",
    "    while (l<=r):\n",
    "        mid = int((l+r)/2)\n",
    "        if ((mid==0 or arr[mid] >=arr[mid-1]) and (mid == n-1 or arr[mid+1] <= arr[mid])):\n",
    "            break\n",
    "        if (mid > 0 and arr[mid-1] > arr[mid]):\n",
    "            r = mid -1\n",
    "        else:\n",
    "            l = mid + 1\n",
    "    return mid"
   ]
  },
  {
   "cell_type": "code",
   "execution_count": 45,
   "metadata": {},
   "outputs": [
    {
     "data": {
      "text/plain": [
       "2"
      ]
     },
     "execution_count": 45,
     "metadata": {},
     "output_type": "execute_result"
    }
   ],
   "source": [
    "find_peak([5, 10, 20, 15],4)"
   ]
  },
  {
   "cell_type": "markdown",
   "metadata": {},
   "source": [
    "# Peak Element\n"
   ]
  },
  {
   "cell_type": "code",
   "execution_count": 16,
   "metadata": {},
   "outputs": [],
   "source": [
    "def find_peak(arr):\n",
    "    n = len(arr)\n",
    "    low = 0\n",
    "    high = n - 1\n",
    "    while (low<=high):\n",
    "        mid = int((low+high)/2)\n",
    "        if ((mid==0 or arr[mid] >= arr[mid-1]) and (mid == n-1 or arr[mid+1] <= arr[mid])):\n",
    "            break\n",
    "        if ((arr[mid] < arr[mid-1]) and mid > 0):\n",
    "            high = mid -1\n",
    "        else:\n",
    "            low = mid + 1\n",
    "    return mid\n",
    "            \n",
    "        "
   ]
  },
  {
   "cell_type": "code",
   "execution_count": 17,
   "metadata": {},
   "outputs": [
    {
     "data": {
      "text/plain": [
       "5"
      ]
     },
     "execution_count": 17,
     "metadata": {},
     "output_type": "execute_result"
    }
   ],
   "source": [
    "find_peak([1, 2, 4, 5, 7, 8, 3])"
   ]
  },
  {
   "cell_type": "markdown",
   "metadata": {},
   "source": [
    "# Index of the first occurence\n"
   ]
  },
  {
   "cell_type": "code",
   "execution_count": 56,
   "metadata": {},
   "outputs": [],
   "source": [
    "def index_first_occurence(arr,x):\n",
    "    n = len(arr)\n",
    "    low = 0\n",
    "    high = n-1\n",
    "    while (low <= high):\n",
    "        mid = int((low+high)/2)\n",
    "        if (x > arr[mid]):\n",
    "            low = mid +1\n",
    "        elif (x < arr[mid]):\n",
    "            high = mid - 1\n",
    "        else:\n",
    "            if (mid==0 or (arr[mid-1]!=arr[mid])):\n",
    "                return mid\n",
    "            else:\n",
    "                high = mid - 1\n",
    "        \n",
    "    return -1\n",
    "            "
   ]
  },
  {
   "cell_type": "code",
   "execution_count": 57,
   "metadata": {},
   "outputs": [
    {
     "data": {
      "text/plain": [
       "0"
      ]
     },
     "execution_count": 57,
     "metadata": {},
     "output_type": "execute_result"
    }
   ],
   "source": [
    "index_first_occurence([5,5,5],5)"
   ]
  },
  {
   "cell_type": "markdown",
   "metadata": {},
   "source": [
    "# Index of the last Occurence\n"
   ]
  },
  {
   "cell_type": "code",
   "execution_count": 3,
   "metadata": {},
   "outputs": [],
   "source": [
    "def last_occurence_in_array(arr,x):\n",
    "    n = len(arr)\n",
    "    low = 0\n",
    "    high = n-1\n",
    "    \n",
    "    while (low <= high):\n",
    "        mid = int((low+high)/2) \n",
    "        if (arr[mid] >x):\n",
    "            high = mid -1\n",
    "        elif (arr[mid] < x) :\n",
    "            low = mid + 1\n",
    "        else:\n",
    "            if (mid == n-1 or arr[mid]!=arr[mid+1]):\n",
    "                return mid\n",
    "            else:\n",
    "                low = mid + 1  \n",
    "    return -1"
   ]
  },
  {
   "cell_type": "code",
   "execution_count": 4,
   "metadata": {},
   "outputs": [
    {
     "data": {
      "text/plain": [
       "4"
      ]
     },
     "execution_count": 4,
     "metadata": {},
     "output_type": "execute_result"
    }
   ],
   "source": [
    "last_occurence_in_array([5,10,10,10,10,20,20],10)"
   ]
  },
  {
   "cell_type": "markdown",
   "metadata": {},
   "source": [
    "# Count Occurences of a number\n"
   ]
  },
  {
   "cell_type": "code",
   "execution_count": 14,
   "metadata": {},
   "outputs": [],
   "source": [
    "def first_index(arr,x):\n",
    "    n = len(arr)\n",
    "    low = 0\n",
    "    high = n-1\n",
    "    while (low<=high):\n",
    "        mid = int((low+high)/2)\n",
    "        if (arr[mid] > x):\n",
    "            high = mid - 1\n",
    "        elif (arr[mid] < x):\n",
    "            low = mid + 1\n",
    "        else:\n",
    "            if(mid==0 or arr[mid-1]!=arr[mid]):\n",
    "                return mid\n",
    "            else:\n",
    "                high = mid - 1\n",
    "    return -1\n",
    "def last_index(arr,x):\n",
    "    n = len(arr)\n",
    "    low = 0\n",
    "    high = n-1\n",
    "    while (low<=high):\n",
    "        mid = int((low+high)/2)\n",
    "        if (arr[mid] > x):\n",
    "            high = mid - 1\n",
    "        elif (arr[mid] < x):\n",
    "            low = mid + 1\n",
    "        else:\n",
    "            if(mid==n-1 or arr[mid+1]!=arr[mid]):\n",
    "                return mid\n",
    "            else:\n",
    "                low = mid - 1\n",
    "    return -1\n",
    "\n",
    "def count_occurence(arr,x):\n",
    "    first_idx = first_index(arr,x)\n",
    "    last_idx = last_index(arr,x)\n",
    "    return last_idx-first_idx+1"
   ]
  },
  {
   "cell_type": "code",
   "execution_count": 15,
   "metadata": {},
   "outputs": [
    {
     "data": {
      "text/plain": [
       "1"
      ]
     },
     "execution_count": 15,
     "metadata": {},
     "output_type": "execute_result"
    }
   ],
   "source": [
    "count_occurence([10,20,20,20,20,30],30)"
   ]
  },
  {
   "cell_type": "markdown",
   "metadata": {},
   "source": [
    "# Find Peak Elements\n"
   ]
  },
  {
   "cell_type": "code",
   "execution_count": 24,
   "metadata": {},
   "outputs": [],
   "source": [
    "def array_peak_elements(arr):\n",
    "    n = len(arr)\n",
    "    low = 0\n",
    "    high = n - 1\n",
    "    while (low <= high):\n",
    "        mid = int((low+high)/2)\n",
    "        if ((mid==0 or arr[mid-1]<=arr[mid]) and (mid==n-1 or arr[mid]>=arr[mid+1])):\n",
    "            return True\n",
    "        if (arr[mid+1] > arr[mid]):\n",
    "            low = mid + 1\n",
    "        else:\n",
    "            high = mid - 1\n",
    "    return False       "
   ]
  },
  {
   "cell_type": "code",
   "execution_count": 27,
   "metadata": {},
   "outputs": [
    {
     "data": {
      "text/plain": [
       "True"
      ]
     },
     "execution_count": 27,
     "metadata": {},
     "output_type": "execute_result"
    }
   ],
   "source": [
    "array_peak_elements([1, 2, 3])"
   ]
  },
  {
   "cell_type": "markdown",
   "metadata": {},
   "source": [
    "# Count 1s in a sorted Binary Array\n"
   ]
  },
  {
   "cell_type": "markdown",
   "metadata": {},
   "source": [
    "## Naive Method\n"
   ]
  },
  {
   "cell_type": "code",
   "execution_count": 1,
   "metadata": {},
   "outputs": [],
   "source": [
    "def count_ones_naive(arr,n):\n",
    "    sum_one = 0\n",
    "    for i in range(n):\n",
    "        sum_one += arr[i]\n",
    "    return sum_one"
   ]
  },
  {
   "cell_type": "code",
   "execution_count": 2,
   "metadata": {},
   "outputs": [
    {
     "data": {
      "text/plain": [
       "4"
      ]
     },
     "execution_count": 2,
     "metadata": {},
     "output_type": "execute_result"
    }
   ],
   "source": [
    "count_ones_naive([0,0,0,1,1,1,1],7)"
   ]
  },
  {
   "cell_type": "markdown",
   "metadata": {},
   "source": [
    "## Using Binary Search\n"
   ]
  },
  {
   "cell_type": "code",
   "execution_count": 61,
   "metadata": {},
   "outputs": [],
   "source": [
    "def first_index(arr,n):\n",
    "    low = 0\n",
    "    high = n-1\n",
    "    while (low<=high): \n",
    "        mid = int((low+high)/2)\n",
    "        print(low,\"<<low\")\n",
    "        print(mid,\"<<mid\")\n",
    "        print(high,\"<<high\",\"\\n\")\n",
    "        if (arr[mid]==1 and arr[mid-1] < arr[mid]):\n",
    "            return mid\n",
    "        if (arr[mid] > arr[mid-1]):\n",
    "            low = mid + 1\n",
    "        else:\n",
    "            high = mid - 1\n",
    "    return -1 \n",
    "\n",
    "def count_ones_binary_search(arr,n):\n",
    "    first_idx = first_index(arr,n)\n",
    "    print(first_idx)\n",
    "    return (n-1) - first_idx + 1"
   ]
  },
  {
   "cell_type": "code",
   "execution_count": 62,
   "metadata": {},
   "outputs": [
    {
     "name": "stdout",
     "output_type": "stream",
     "text": [
      "0 <<low\n",
      "3 <<mid\n",
      "6 <<high \n",
      "\n",
      "0 <<low\n",
      "1 <<mid\n",
      "2 <<high \n",
      "\n",
      "0 <<low\n",
      "0 <<mid\n",
      "0 <<high \n",
      "\n",
      "-1\n"
     ]
    },
    {
     "data": {
      "text/plain": [
       "8"
      ]
     },
     "execution_count": 62,
     "metadata": {},
     "output_type": "execute_result"
    }
   ],
   "source": [
    "count_ones_binary_search([0,0,0,0,1,1,1],7)"
   ]
  },
  {
   "cell_type": "markdown",
   "metadata": {},
   "source": [
    "# Square Root\n"
   ]
  },
  {
   "cell_type": "markdown",
   "metadata": {},
   "source": [
    "## Naive Solution\n"
   ]
  },
  {
   "cell_type": "code",
   "execution_count": 12,
   "metadata": {},
   "outputs": [],
   "source": [
    "def sqaure_root_naive(x):\n",
    "    for i in range(x,0,-1):\n",
    "        if (i**2<=x):\n",
    "            return i\n",
    "    "
   ]
  },
  {
   "cell_type": "code",
   "execution_count": 15,
   "metadata": {},
   "outputs": [
    {
     "data": {
      "text/plain": [
       "5"
      ]
     },
     "execution_count": 15,
     "metadata": {},
     "output_type": "execute_result"
    }
   ],
   "source": [
    "sqaure_root_naive(25)"
   ]
  },
  {
   "cell_type": "markdown",
   "metadata": {},
   "source": [
    "## Efficient Solution\n"
   ]
  },
  {
   "cell_type": "code",
   "execution_count": 25,
   "metadata": {},
   "outputs": [],
   "source": [
    "def square_rooot_binary(x):\n",
    "    low = 1\n",
    "    high = x\n",
    "    ans = -1\n",
    "    while (low<=high):\n",
    "        mid = int((low+high)/2)\n",
    "        if (mid**2 <=x and (mid+1)**2 >x ):\n",
    "            return mid\n",
    "        if (mid**2 > x):\n",
    "            high = mid-1\n",
    "        else:\n",
    "            low = mid+1\n",
    "            ans = mid\n",
    "    return ans\n",
    "            \n",
    "            "
   ]
  },
  {
   "cell_type": "code",
   "execution_count": 26,
   "metadata": {},
   "outputs": [
    {
     "data": {
      "text/plain": [
       "3"
      ]
     },
     "execution_count": 26,
     "metadata": {},
     "output_type": "execute_result"
    }
   ],
   "source": [
    "square_rooot_binary(15)"
   ]
  },
  {
   "cell_type": "markdown",
   "metadata": {},
   "source": [
    "# Search through an infinitely sized array\n"
   ]
  },
  {
   "cell_type": "code",
   "execution_count": null,
   "metadata": {},
   "outputs": [],
   "source": [
    "def search_through_infinte_array(arr,x):\n",
    "    if (arr[0]==x):\n",
    "        return 0\n",
    "    i = 1\n",
    "    while (arr[i] < x):\n",
    "        i = i**2\n",
    "        if (arr[i]==x):\n",
    "            return i\n",
    "    return binary_search(arr,x,i/2 + 1, i-1)"
   ]
  },
  {
   "cell_type": "markdown",
   "metadata": {},
   "source": [
    "# Search through a sorted and rotated array\n"
   ]
  },
  {
   "cell_type": "code",
   "execution_count": 92,
   "metadata": {},
   "outputs": [],
   "source": [
    "def search_through(arr,x):\n",
    "    low = 0\n",
    "    high = len(arr)-1\n",
    "    while (low<=high):\n",
    "        mid = int((low+high)/2)\n",
    "        if (arr[mid]==x):\n",
    "            return mid\n",
    "        if (arr[low]<=arr[mid]):\n",
    "            if (x>=arr[mid] and x<arr[mid]):\n",
    "                high = mid - 1\n",
    "            else:\n",
    "                low = mid + 1\n",
    "        else:\n",
    "            if (x>arr[mid] and x<=arr[high]):\n",
    "                low = mid + 1\n",
    "            else:\n",
    "                high = mid - 1\n",
    "    return -1\n",
    "    \n",
    "    "
   ]
  },
  {
   "cell_type": "code",
   "execution_count": 93,
   "metadata": {},
   "outputs": [
    {
     "data": {
      "text/plain": [
       "8"
      ]
     },
     "execution_count": 93,
     "metadata": {},
     "output_type": "execute_result"
    }
   ],
   "source": [
    "search_through([2,3,4,5,6,7,8,9,10,1],10)"
   ]
  },
  {
   "cell_type": "code",
   "execution_count": 28,
   "metadata": {},
   "outputs": [],
   "source": [
    "def peak_element(arr):\n",
    "    low = 0\n",
    "    high  = len(arr) - 1\n",
    "    while (low <= high):\n",
    "        mid = int((low+high)/2)\n",
    "        if ((mid==0 or arr[mid-1] <= arr[mid]) and (mid==len(arr)-1 or arr[mid+1] <= arr[mid])):\n",
    "            return True\n",
    "        if (mid>0 and arr[mid-1] >= arr[mid]):\n",
    "            high = mid - 1\n",
    "        else:\n",
    "            low = mid + 1\n",
    "    return False"
   ]
  },
  {
   "cell_type": "code",
   "execution_count": 29,
   "metadata": {},
   "outputs": [
    {
     "data": {
      "text/plain": [
       "True"
      ]
     },
     "execution_count": 29,
     "metadata": {},
     "output_type": "execute_result"
    }
   ],
   "source": [
    "peak_element([1,2,4,5,7,8,3])"
   ]
  },
  {
   "cell_type": "code",
   "execution_count": null,
   "metadata": {},
   "outputs": [],
   "source": [
    "(((mid==0) or (arr[mid-1] <= arr[mid])) and \n",
    "            ((mid==(len(arr)-1)) or (arr[mid+1] <= arr[mid]) ))"
   ]
  },
  {
   "cell_type": "code",
   "execution_count": 36,
   "metadata": {},
   "outputs": [],
   "source": [
    "def lastIndex(arr,N):\n",
    "        low = 0\n",
    "        high = N-1\n",
    "        while (low<=high):\n",
    "            \n",
    "            mid = int((low+high)/2)\n",
    "            print(low,mid,high,\"\\n\")\n",
    "            if (arr[mid]!=arr[mid+1] ):\n",
    "                return mid\n",
    "            if (arr[mid+1] >= arr[mid]):\n",
    "                low = mid + 1\n",
    "            else:\n",
    "                high = mid -1\n",
    "        return -1"
   ]
  },
  {
   "cell_type": "code",
   "execution_count": 37,
   "metadata": {},
   "outputs": [
    {
     "name": "stdout",
     "output_type": "stream",
     "text": [
      "0 3 7 \n",
      "\n",
      "4 5 7 \n",
      "\n",
      "6 6 7 \n",
      "\n",
      "7 7 7 \n",
      "\n"
     ]
    },
    {
     "ename": "IndexError",
     "evalue": "list index out of range",
     "output_type": "error",
     "traceback": [
      "\u001b[1;31m---------------------------------------------------------------------------\u001b[0m",
      "\u001b[1;31mIndexError\u001b[0m                                Traceback (most recent call last)",
      "Cell \u001b[1;32mIn[37], line 1\u001b[0m\n\u001b[1;32m----> 1\u001b[0m \u001b[43mlastIndex\u001b[49m\u001b[43m(\u001b[49m\u001b[43m[\u001b[49m\u001b[38;5;241;43m1\u001b[39;49m\u001b[43m,\u001b[49m\u001b[38;5;241;43m1\u001b[39;49m\u001b[43m,\u001b[49m\u001b[38;5;241;43m1\u001b[39;49m\u001b[43m,\u001b[49m\u001b[38;5;241;43m1\u001b[39;49m\u001b[43m,\u001b[49m\u001b[38;5;241;43m1\u001b[39;49m\u001b[43m,\u001b[49m\u001b[38;5;241;43m0\u001b[39;49m\u001b[43m,\u001b[49m\u001b[38;5;241;43m0\u001b[39;49m\u001b[43m,\u001b[49m\u001b[38;5;241;43m0\u001b[39;49m\u001b[43m]\u001b[49m\u001b[43m,\u001b[49m\u001b[38;5;241;43m8\u001b[39;49m\u001b[43m)\u001b[49m\n",
      "Cell \u001b[1;32mIn[36], line 8\u001b[0m, in \u001b[0;36mlastIndex\u001b[1;34m(arr, N)\u001b[0m\n\u001b[0;32m      6\u001b[0m mid \u001b[38;5;241m=\u001b[39m \u001b[38;5;28mint\u001b[39m((low\u001b[38;5;241m+\u001b[39mhigh)\u001b[38;5;241m/\u001b[39m\u001b[38;5;241m2\u001b[39m)\n\u001b[0;32m      7\u001b[0m \u001b[38;5;28mprint\u001b[39m(low,mid,high,\u001b[38;5;124m\"\u001b[39m\u001b[38;5;130;01m\\n\u001b[39;00m\u001b[38;5;124m\"\u001b[39m)\n\u001b[1;32m----> 8\u001b[0m \u001b[38;5;28;01mif\u001b[39;00m (arr[mid]\u001b[38;5;241m!=\u001b[39m\u001b[43marr\u001b[49m\u001b[43m[\u001b[49m\u001b[43mmid\u001b[49m\u001b[38;5;241;43m+\u001b[39;49m\u001b[38;5;241;43m1\u001b[39;49m\u001b[43m]\u001b[49m ):\n\u001b[0;32m      9\u001b[0m     \u001b[38;5;28;01mreturn\u001b[39;00m mid\n\u001b[0;32m     10\u001b[0m \u001b[38;5;28;01mif\u001b[39;00m (arr[mid\u001b[38;5;241m+\u001b[39m\u001b[38;5;241m1\u001b[39m] \u001b[38;5;241m>\u001b[39m\u001b[38;5;241m=\u001b[39m arr[mid]):\n",
      "\u001b[1;31mIndexError\u001b[0m: list index out of range"
     ]
    }
   ],
   "source": [
    "lastIndex([1,1,1,1,1,0,0,0],8)"
   ]
  },
  {
   "cell_type": "markdown",
   "metadata": {},
   "source": [
    "# Find peak element of an array\n"
   ]
  },
  {
   "cell_type": "markdown",
   "metadata": {},
   "source": [
    "## Naive Solution\n"
   ]
  },
  {
   "cell_type": "code",
   "execution_count": 1,
   "metadata": {},
   "outputs": [],
   "source": [
    "def find_peak_naive(arr,n):\n",
    "    if (arr[0] >= arr[1]):\n",
    "        return arr[0]\n",
    "    if (arr[n-1] >= arr[n-2]):\n",
    "        return arr[n-1];\n",
    "    for i in range(1,n-1):\n",
    "        if ((arr[i]>=arr[i-1]) and (arr[i]>=arr[i+1])):\n",
    "            return arr[i]\n",
    "    return -1"
   ]
  },
  {
   "cell_type": "code",
   "execution_count": 3,
   "metadata": {},
   "outputs": [
    {
     "data": {
      "text/plain": [
       "80"
      ]
     },
     "execution_count": 3,
     "metadata": {},
     "output_type": "execute_result"
    }
   ],
   "source": [
    "find_peak_naive([80,70,90],3)"
   ]
  },
  {
   "cell_type": "markdown",
   "metadata": {},
   "source": [
    "## Effective Solution\n"
   ]
  },
  {
   "cell_type": "code",
   "execution_count": 8,
   "metadata": {},
   "outputs": [],
   "source": [
    "def get_a_peak(arr,n):\n",
    "    low = 0;\n",
    "    high = n-1;\n",
    "    while (low<=high):\n",
    "        mid = int((low+high)/2)\n",
    "        if ((mid==0 or (arr[mid-1]<=arr[mid])) and (mid==n-1 or (arr[mid+1]<=arr[mid]))):\n",
    "            return arr[mid];\n",
    "        if (mid>0 and arr[mid-1]>=arr[mid]):\n",
    "            high = mid - 1;\n",
    "        else:\n",
    "            low = mid + 1\n",
    "    return -1    "
   ]
  },
  {
   "cell_type": "code",
   "execution_count": 9,
   "metadata": {},
   "outputs": [
    {
     "data": {
      "text/plain": [
       "80"
      ]
     },
     "execution_count": 9,
     "metadata": {},
     "output_type": "execute_result"
    }
   ],
   "source": [
    "get_a_peak([80,70,90],3)"
   ]
  },
  {
   "cell_type": "markdown",
   "metadata": {},
   "source": [
    "# Two pointers approach\n"
   ]
  },
  {
   "cell_type": "markdown",
   "metadata": {},
   "source": [
    "## Naive Solution\n"
   ]
  },
  {
   "cell_type": "code",
   "execution_count": 10,
   "metadata": {},
   "outputs": [],
   "source": [
    "def naive_two_pointers(arr,x):\n",
    "    for i in range(len(arr)):\n",
    "        for j in range(i+1,len(arr)):\n",
    "            if (arr[i] + arr[j]) == x:\n",
    "                return True\n",
    "    return False"
   ]
  },
  {
   "cell_type": "code",
   "execution_count": 12,
   "metadata": {},
   "outputs": [
    {
     "data": {
      "text/plain": [
       "False"
      ]
     },
     "execution_count": 12,
     "metadata": {},
     "output_type": "execute_result"
    }
   ],
   "source": [
    "naive_two_pointers([2,5,8,12,30],18)"
   ]
  },
  {
   "cell_type": "markdown",
   "metadata": {},
   "source": [
    "## Effective solution\n"
   ]
  },
  {
   "cell_type": "code",
   "execution_count": 13,
   "metadata": {},
   "outputs": [],
   "source": [
    "def two_pointers(arr,x):\n",
    "    l_point = 0;\n",
    "    r_point = len(arr)-1;\n",
    "    while (l_point < r_point):\n",
    "        if (arr[l_point] + arr[r_point]) == x:\n",
    "            return True\n",
    "        if (arr[l_point]+arr[r_point]) >x:\n",
    "            r_point -=1\n",
    "        if (arr[l_point]+arr[r_point]) <x:\n",
    "            l_point +=1\n",
    "    return False\n",
    "    "
   ]
  },
  {
   "cell_type": "code",
   "execution_count": 14,
   "metadata": {},
   "outputs": [
    {
     "data": {
      "text/plain": [
       "True"
      ]
     },
     "execution_count": 14,
     "metadata": {},
     "output_type": "execute_result"
    }
   ],
   "source": [
    "two_pointers([2,5,8,12,30],17)"
   ]
  },
  {
   "cell_type": "markdown",
   "metadata": {},
   "source": [
    "# Triplet in a sorted array\n"
   ]
  },
  {
   "cell_type": "markdown",
   "metadata": {},
   "source": [
    "## Naive Solution\n"
   ]
  },
  {
   "cell_type": "code",
   "execution_count": 15,
   "metadata": {},
   "outputs": [],
   "source": [
    "def naive_triplets_array(arr,x):\n",
    "    for i in range(len(arr)-2):\n",
    "        for j in range(i+1,len(arr)-1):\n",
    "            for k in range(j+1,len(arr)):\n",
    "                if (arr[i] + arr[j] + arr[k])==x:\n",
    "                    return True\n",
    "    return False"
   ]
  },
  {
   "cell_type": "code",
   "execution_count": 16,
   "metadata": {},
   "outputs": [
    {
     "data": {
      "text/plain": [
       "True"
      ]
     },
     "execution_count": 16,
     "metadata": {},
     "output_type": "execute_result"
    }
   ],
   "source": [
    "naive_triplets_array([2,3,5,6,15],20)"
   ]
  },
  {
   "cell_type": "markdown",
   "metadata": {},
   "source": [
    "## Effective Solution\n"
   ]
  },
  {
   "cell_type": "code",
   "execution_count": 19,
   "metadata": {},
   "outputs": [],
   "source": [
    "def two_pointers_is_pair(arr,n,x,si):\n",
    "    i = si;\n",
    "    j = n-1\n",
    "    while (i<j):\n",
    "        if (arr[i]+arr[j]==x):\n",
    "            return True\n",
    "        elif (arr[i]+arr[j])<x:\n",
    "            i+=1\n",
    "        else:\n",
    "            j-=1\n",
    "    return False\n",
    "def two_pointers_triplet(arr,n,x):\n",
    "    for i in range(n-2):\n",
    "        if (two_pointers_is_pair(arr,n,x-arr[i],i+1)):\n",
    "            return True\n",
    "    return False\n",
    "        "
   ]
  },
  {
   "cell_type": "code",
   "execution_count": 20,
   "metadata": {},
   "outputs": [
    {
     "data": {
      "text/plain": [
       "True"
      ]
     },
     "execution_count": 20,
     "metadata": {},
     "output_type": "execute_result"
    }
   ],
   "source": [
    "two_pointers_triplet([2,5,10,15,18],5,33)"
   ]
  },
  {
   "cell_type": "markdown",
   "metadata": {},
   "source": [
    "# Median of sorted array\n"
   ]
  },
  {
   "cell_type": "code",
   "execution_count": 23,
   "metadata": {},
   "outputs": [],
   "source": [
    "def median_sorted_array(arr_1,arr_2,n1,n2):\n",
    "    begin_1 = 0;\n",
    "    end_1 = n1;\n",
    "    while (begin_1<=end_1):\n",
    "        i1 = (begin_1+end_1)/2;\n",
    "        i2 = ((n1+n2+1)/2) - i1\n",
    "        min_1 = INT_MAX if i1 == n1 else arr_1[i1];\n",
    "        max_1 = INT_MIN if (i1==0) else arr_1[i1-1];\n",
    "        min_2 = INT_MAX if (i2==n2) else arr_2[i2];\n",
    "        max_2 = INT_MIN if (i2==0) else arr_2[i2-1];\n",
    "        if ((max_1 <= min_2) and (max_2<=min_1) ):\n",
    "            if ((n1+n2)/2)==0:\n",
    "                return (max(max_1,max_2) + min(min_1,min_2))/2\n",
    "            else:\n",
    "                return max(max_1,max_2)\n",
    "        elif (max_1>min_2):\n",
    "            end_1 = i1-1;\n",
    "        else:\n",
    "            begin_1 = i1+1\n",
    "        \n",
    "    "
   ]
  },
  {
   "cell_type": "markdown",
   "metadata": {},
   "source": [
    "# Repeating element ( Super Naive)"
   ]
  },
  {
   "cell_type": "code",
   "execution_count": 11,
   "metadata": {},
   "outputs": [],
   "source": [
    "def repeating_element_super_naive(arr,n):\n",
    "    for i in range(n):\n",
    "        for j in range(i+1,n):\n",
    "            if (arr[i]==arr[j]):\n",
    "                return arr[i]\n",
    "    return -1"
   ]
  },
  {
   "cell_type": "code",
   "execution_count": 12,
   "metadata": {},
   "outputs": [
    {
     "data": {
      "text/plain": [
       "2"
      ]
     },
     "execution_count": 12,
     "metadata": {},
     "output_type": "execute_result"
    }
   ],
   "source": [
    "repeating_element_super_naive([0,2,1,3,2,2],6)"
   ]
  },
  {
   "cell_type": "markdown",
   "metadata": {},
   "source": [
    "# Repeating elements (Naive Solution)"
   ]
  },
  {
   "cell_type": "code",
   "execution_count": 20,
   "metadata": {},
   "outputs": [],
   "source": [
    "def repeating_element_naive(arr,n):\n",
    "    arr.sort()\n",
    "    for i in range(n-1):\n",
    "        if (arr[i]==arr[i+1]):\n",
    "            return arr[i]\n",
    "    return -1"
   ]
  },
  {
   "cell_type": "code",
   "execution_count": 21,
   "metadata": {},
   "outputs": [
    {
     "data": {
      "text/plain": [
       "2"
      ]
     },
     "execution_count": 21,
     "metadata": {},
     "output_type": "execute_result"
    }
   ],
   "source": [
    "repeating_element_naive([0,2,1,3,2,2],6)"
   ]
  },
  {
   "cell_type": "markdown",
   "metadata": {},
   "source": [
    "# Repeatign elements (Best)"
   ]
  },
  {
   "cell_type": "code",
   "execution_count": 22,
   "metadata": {},
   "outputs": [],
   "source": [
    "def find_repeating(arr,n):\n",
    "    slow = arr[0]\n",
    "    fast = arr[0]\n",
    "    while (True):\n",
    "        slow = arr[slow]\n",
    "        fast = arr[arr[fast]]\n",
    "        if (slow!=fast):\n",
    "            continue\n",
    "        else:\n",
    "            break\n",
    "    slow = arr[0]\n",
    "    while (slow!=fast):\n",
    "        slow = arr[slow]\n",
    "        fast = arr[fast]\n",
    "    return slow"
   ]
  },
  {
   "cell_type": "markdown",
   "metadata": {},
   "source": [
    "# Allocate Pages Minimum (Naive)"
   ]
  },
  {
   "cell_type": "code",
   "execution_count": 23,
   "metadata": {},
   "outputs": [],
   "source": [
    "def min_pages_allocate_naive(arr,n,k):\n",
    "    if (k==1):\n",
    "        return sum(arr,0,n-1)\n",
    "    if (n==1):\n",
    "        return arr[0]\n",
    "    res = int('inf')\n",
    "    for i in range(1,n):\n",
    "        res = min(res,max(min_pages_allocate_naive(arr,i,k-1),sum(arr,i,n-1)))\n",
    "    return res \n",
    "def sum(arr,b,e):\n",
    "    s = 0\n",
    "    for i in range(b,e+1):\n",
    "        s+=arr[i]\n",
    "    return s"
   ]
  },
  {
   "cell_type": "markdown",
   "metadata": {},
   "source": [
    "## Best Solution "
   ]
  },
  {
   "cell_type": "code",
   "execution_count": 30,
   "metadata": {},
   "outputs": [],
   "source": [
    "def min_pages_binary_search(arr,k):\n",
    "    sum = 0\n",
    "    mx = 0\n",
    "    for i in range(len(arr)):\n",
    "        sum+=arr[i]\n",
    "        mx = max(mx,arr[i])\n",
    "    low = mx\n",
    "    high = sum\n",
    "    res = 0 \n",
    "    while (low<=high):\n",
    "        mid = int((low+high)/2)\n",
    "        if (isFeasible(arr,len(arr),k,mid)):\n",
    "            res = mid\n",
    "            high = mid - 1\n",
    "        else:\n",
    "            low = mid + 1\n",
    "    return res \n",
    "\n",
    "def isFeasible(arr,n,k,ans):\n",
    "    req = 1\n",
    "    sum = 0\n",
    "    for i in range(n):\n",
    "        if ((sum + arr[i]) > ans):\n",
    "            req+=1\n",
    "            sum = arr[i]\n",
    "        else:\n",
    "            sum +=arr[i]\n",
    "    return (req<=k)"
   ]
  },
  {
   "cell_type": "code",
   "execution_count": 31,
   "metadata": {},
   "outputs": [
    {
     "data": {
      "text/plain": [
       "20"
      ]
     },
     "execution_count": 31,
     "metadata": {},
     "output_type": "execute_result"
    }
   ],
   "source": [
    "min_pages_binary_search([10,5,20],2)"
   ]
  },
  {
   "cell_type": "markdown",
   "metadata": {},
   "source": [
    "# Problems"
   ]
  },
  {
   "cell_type": "markdown",
   "metadata": {},
   "source": [
    "## Peak ELement"
   ]
  },
  {
   "cell_type": "code",
   "execution_count": 34,
   "metadata": {},
   "outputs": [],
   "source": [
    "def peak_element(arr):\n",
    "    n = len(arr)\n",
    "    low = 0\n",
    "    high = n-1\n",
    "    while (low <= high):\n",
    "        mid = int((low+high)/2)\n",
    "        if ((mid==0) or (arr[mid-1]<=arr[mid])) or ((mid==n-1) or (arr[mid+1]<=arr[mid])):\n",
    "            return True\n",
    "        if (mid>0 and (arr[mid-1] >= arr[mid])):\n",
    "            high = mid - 1\n",
    "        else:\n",
    "            low = mid + 1\n",
    "    return False"
   ]
  },
  {
   "cell_type": "code",
   "execution_count": 35,
   "metadata": {},
   "outputs": [
    {
     "data": {
      "text/plain": [
       "True"
      ]
     },
     "execution_count": 35,
     "metadata": {},
     "output_type": "execute_result"
    }
   ],
   "source": [
    "peak_element([1, 2, 4, 5, 7, 8, 3])"
   ]
  },
  {
   "cell_type": "markdown",
   "metadata": {},
   "source": [
    "# Occurences more than n/k times"
   ]
  },
  {
   "cell_type": "code",
   "execution_count": 42,
   "metadata": {},
   "outputs": [],
   "source": [
    "def occurence_each_element(arr,k):\n",
    "    b = {}\n",
    "    count = 0\n",
    "    for c in arr:\n",
    "        if c in b:\n",
    "            b[c]+=1\n",
    "        else:\n",
    "            b[c] = 1\n",
    "    for v in b.values():\n",
    "        if (v > (len(arr)/k)):\n",
    "            count+=1\n",
    "    return count"
   ]
  },
  {
   "cell_type": "code",
   "execution_count": 43,
   "metadata": {},
   "outputs": [
    {
     "data": {
      "text/plain": [
       "2"
      ]
     },
     "execution_count": 43,
     "metadata": {},
     "output_type": "execute_result"
    }
   ],
   "source": [
    "occurence_each_element([3, 1, 2, 2, 1, 2, 3, 3],4)"
   ]
  },
  {
   "cell_type": "markdown",
   "metadata": {},
   "source": [
    "# Count 1s in a non-decreasing in a binary array"
   ]
  },
  {
   "cell_type": "code",
   "execution_count": 80,
   "metadata": {},
   "outputs": [],
   "source": [
    "def last_index(arr,n):\n",
    "    low = 0\n",
    "    high = n - 1\n",
    "    while (low <= high):\n",
    "        mid = int((low+high)/2)\n",
    "        if ((mid==0 or arr[mid]==1) and (mid==n-1 or arr[mid]>arr[mid+1])):\n",
    "            return mid\n",
    "        if (arr[mid]!=0 ):\n",
    "            low = mid + 1\n",
    "        else:\n",
    "            high = mid - 1\n",
    "    return -1\n",
    "def count_occurences_non_increasing(arr,n):\n",
    "    last_index_count = last_index(arr,n)\n",
    "    return last_index_count + 1"
   ]
  },
  {
   "cell_type": "code",
   "execution_count": 81,
   "metadata": {},
   "outputs": [
    {
     "data": {
      "text/plain": [
       "3"
      ]
     },
     "execution_count": 81,
     "metadata": {},
     "output_type": "execute_result"
    }
   ],
   "source": [
    "count_occurences_non_increasing([1,1,1],3)"
   ]
  },
  {
   "cell_type": "markdown",
   "metadata": {},
   "source": [
    "# Square Root of a number"
   ]
  },
  {
   "cell_type": "code",
   "execution_count": 89,
   "metadata": {},
   "outputs": [],
   "source": [
    "def square_root_num(x):\n",
    "    low = 1\n",
    "    high = x\n",
    "    ans = -1\n",
    "    while(low<=high):\n",
    "        mid = int((low+high)/2)\n",
    "        if (mid**2<=x and (mid+1)**2>x):\n",
    "            return mid\n",
    "        if (mid**2>x):\n",
    "            high = mid -1\n",
    "        else:\n",
    "            low = mid + 1\n",
    "            ans = mid\n",
    "    return mid"
   ]
  },
  {
   "cell_type": "code",
   "execution_count": 90,
   "metadata": {},
   "outputs": [
    {
     "data": {
      "text/plain": [
       "4"
      ]
     },
     "execution_count": 90,
     "metadata": {},
     "output_type": "execute_result"
    }
   ],
   "source": [
    "square_root_num(16)"
   ]
  },
  {
   "cell_type": "markdown",
   "metadata": {},
   "source": [
    "# Minimum number in a sorted rotated array"
   ]
  },
  {
   "cell_type": "code",
   "execution_count": 104,
   "metadata": {},
   "outputs": [],
   "source": [
    "def search_rotated_array(arr,low,high):\n",
    "    N = high \n",
    "    while (low<=high):\n",
    "        mid = int((low+high)/2)\n",
    "        print(low,\"<<low\",mid,\"<<mid\",high,\"<<high\",\"\\n\")\n",
    "        if (mid==0 or  arr[mid]<arr[mid-1]) and (mid==N or arr[mid]<arr[mid+1]):\n",
    "            return mid\n",
    "        if (arr[mid]>arr[mid-1]):\n",
    "            low = mid + 1\n",
    "        else:\n",
    "            high = mid - 1\n",
    "    return -1"
   ]
  },
  {
   "cell_type": "code",
   "execution_count": 105,
   "metadata": {},
   "outputs": [
    {
     "name": "stdout",
     "output_type": "stream",
     "text": [
      "0 <<low 4 <<mid 9 <<high \n",
      "\n",
      "5 <<low 7 <<mid 9 <<high \n",
      "\n",
      "8 <<low 8 <<mid 9 <<high \n",
      "\n",
      "9 <<low 9 <<mid 9 <<high \n",
      "\n"
     ]
    },
    {
     "data": {
      "text/plain": [
       "9"
      ]
     },
     "execution_count": 105,
     "metadata": {},
     "output_type": "execute_result"
    }
   ],
   "source": [
    "search_rotated_array([2 ,3 ,4, 5, 6, 7, 8, 9, 10, 1],0,9)"
   ]
  },
  {
   "cell_type": "markdown",
   "metadata": {},
   "source": [
    "# Roof Top"
   ]
  },
  {
   "cell_type": "code",
   "execution_count": 106,
   "metadata": {},
   "outputs": [],
   "source": [
    "def max_step(arr):\n",
    "    n = len(arr)\n",
    "    curr = 0\n",
    "    maxi = 0\n",
    "    for i in range(n-1):\n",
    "        if arr[i+1]>arr[i]:\n",
    "            curr+=1\n",
    "            maxi = max(maxi,curr)\n",
    "        else:\n",
    "            curr = 0\n",
    "    return maxi"
   ]
  },
  {
   "cell_type": "code",
   "execution_count": 107,
   "metadata": {},
   "outputs": [
    {
     "data": {
      "text/plain": [
       "1"
      ]
     },
     "execution_count": 107,
     "metadata": {},
     "output_type": "execute_result"
    }
   ],
   "source": [
    "max_step([1, 2, 2, 3, 2])"
   ]
  },
  {
   "cell_type": "markdown",
   "metadata": {},
   "source": [
    "# Smallest Positive missing"
   ]
  },
  {
   "cell_type": "markdown",
   "metadata": {},
   "source": [
    "## Brute Force Method"
   ]
  },
  {
   "cell_type": "code",
   "execution_count": null,
   "metadata": {},
   "outputs": [],
   "source": []
  }
 ],
 "metadata": {
  "kernelspec": {
   "display_name": "Python 3",
   "language": "python",
   "name": "python3"
  },
  "language_info": {
   "codemirror_mode": {
    "name": "ipython",
    "version": 3
   },
   "file_extension": ".py",
   "mimetype": "text/x-python",
   "name": "python",
   "nbconvert_exporter": "python",
   "pygments_lexer": "ipython3",
   "version": "3.11.9"
  }
 },
 "nbformat": 4,
 "nbformat_minor": 2
}
