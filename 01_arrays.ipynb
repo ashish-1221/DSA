{
 "cells": [
  {
   "cell_type": "markdown",
   "metadata": {},
   "source": [
    "## Second Largest Element of an Array"
   ]
  },
  {
   "cell_type": "code",
   "execution_count": 1,
   "metadata": {},
   "outputs": [],
   "source": [
    "def secondLargest(arr,n):\n",
    "    res = -1\n",
    "    largest = 0\n",
    "    for i in range(1,n):\n",
    "        if arr[i]>arr[largest]:\n",
    "            res = largest\n",
    "            largest = i\n",
    "        if (arr[i]!=arr[largest]):\n",
    "            if (res==-1 | arr[i] > arr[res]):\n",
    "                res = i\n",
    "    return res"
   ]
  },
  {
   "cell_type": "code",
   "execution_count": 2,
   "metadata": {},
   "outputs": [
    {
     "data": {
      "text/plain": [
       "3"
      ]
     },
     "execution_count": 2,
     "metadata": {},
     "output_type": "execute_result"
    }
   ],
   "source": [
    "secondLargest([1,2,3,4,5],5)"
   ]
  },
  {
   "cell_type": "markdown",
   "metadata": {},
   "source": [
    "## Max and Second Max"
   ]
  },
  {
   "cell_type": "code",
   "execution_count": 5,
   "metadata": {},
   "outputs": [],
   "source": [
    "def maxAndSecondMax(arr,n):\n",
    "    res = -1\n",
    "    largest = 0\n",
    "    for i in range(1,n):\n",
    "        print(i)\n",
    "        if (arr[i]>arr[largest]):\n",
    "            res = largest\n",
    "            largest = i\n",
    "        if (arr[i]!=arr[largest]):\n",
    "            if (res == -1 or arr[i]>arr[res]):\n",
    "                res = i\n",
    "    return largest , res"
   ]
  },
  {
   "cell_type": "code",
   "execution_count": 6,
   "metadata": {},
   "outputs": [
    {
     "name": "stdout",
     "output_type": "stream",
     "text": [
      "1\n",
      "2\n"
     ]
    },
    {
     "data": {
      "text/plain": [
       "(0, 1)"
      ]
     },
     "execution_count": 6,
     "metadata": {},
     "output_type": "execute_result"
    }
   ],
   "source": [
    "maxAndSecondMax([2,1,2],3)"
   ]
  },
  {
   "cell_type": "markdown",
   "metadata": {},
   "source": [
    "## Mean and Median of an Array"
   ]
  },
  {
   "cell_type": "code",
   "execution_count": 11,
   "metadata": {},
   "outputs": [],
   "source": [
    "import math\n",
    "def mean(arr,n):\n",
    "    sum_arr = 0\n",
    "    for i in range(n):\n",
    "        sum_arr = sum_arr + arr[i]\n",
    "    return math.floor(sum_arr/n)"
   ]
  },
  {
   "cell_type": "code",
   "execution_count": 46,
   "metadata": {},
   "outputs": [],
   "source": [
    "def median(arr,n):\n",
    "    arr.sort()\n",
    "    print(arr)\n",
    "    if n%2==0:\n",
    "        return arr[int((int(n/2) + int(n/2 + 1))/2)-1]\n",
    "    else:\n",
    "        return arr[int((n+1)/2)-1]"
   ]
  },
  {
   "cell_type": "code",
   "execution_count": 47,
   "metadata": {},
   "outputs": [
    {
     "name": "stdout",
     "output_type": "stream",
     "text": [
      "[1, 2, 5, 19, 28]\n"
     ]
    },
    {
     "data": {
      "text/plain": [
       "5"
      ]
     },
     "execution_count": 47,
     "metadata": {},
     "output_type": "execute_result"
    }
   ],
   "source": [
    "median([1,2,19,28,5],5) "
   ]
  },
  {
   "cell_type": "markdown",
   "metadata": {},
   "source": [
    "## Check Array sorted or not"
   ]
  },
  {
   "cell_type": "code",
   "execution_count": 51,
   "metadata": {},
   "outputs": [],
   "source": [
    "def arraySortedOrNot(arr,n):\n",
    "    for i in range(1,n):\n",
    "        if arr[i] > arr[i-1]:\n",
    "            pass\n",
    "        else:\n",
    "            return False\n",
    "    return True"
   ]
  },
  {
   "cell_type": "code",
   "execution_count": 52,
   "metadata": {},
   "outputs": [
    {
     "data": {
      "text/plain": [
       "False"
      ]
     },
     "execution_count": 52,
     "metadata": {},
     "output_type": "execute_result"
    }
   ],
   "source": [
    "arraySortedOrNot([1,2,3,6,5],5)"
   ]
  },
  {
   "cell_type": "markdown",
   "metadata": {},
   "source": [
    "## Check if Array is sorted and Rotated"
   ]
  },
  {
   "cell_type": "code",
   "execution_count": 1,
   "metadata": {},
   "outputs": [],
   "source": [
    "# Function to rotate an array clockwise\n",
    "def rotateClockWise(arr,n):\n",
    "    for i in range(n-1):\n",
    "        temp = arr[i]\n",
    "        arr[i] = arr[i+1]\n",
    "        arr[i+1] = temp\n",
    "    return arr"
   ]
  },
  {
   "cell_type": "code",
   "execution_count": 17,
   "metadata": {},
   "outputs": [],
   "source": [
    "def arraySortedOrNotIncreasing(arr,n):\n",
    "    for i in range(1,n):\n",
    "        if arr[i] >= arr[i-1]:\n",
    "            pass\n",
    "        else:\n",
    "            return False\n",
    "    return True\n",
    "\n",
    "def arraySortedOrNotDecreasing(arr,n):\n",
    "    for i in range(1,n):\n",
    "        if arr[i] <= arr[i-1]:\n",
    "            pass\n",
    "        else:\n",
    "            return False\n",
    "    return True"
   ]
  },
  {
   "cell_type": "code",
   "execution_count": 18,
   "metadata": {},
   "outputs": [
    {
     "data": {
      "text/plain": [
       "True"
      ]
     },
     "execution_count": 18,
     "metadata": {},
     "output_type": "execute_result"
    }
   ],
   "source": [
    "arraySortedOrNotDecreasing([5,4,3,1,1],5)"
   ]
  },
  {
   "cell_type": "code",
   "execution_count": 21,
   "metadata": {},
   "outputs": [],
   "source": [
    "def arraySortedRotated(arr,n):\n",
    "    # Check if the array is sorted in increasing order\n",
    "    arr_1 = arr\n",
    "    for i in range(n):\n",
    "        if not arraySortedOrNotIncreasing(arr_1,n):\n",
    "            arr_1 = rotateClockWise(arr_1,n)\n",
    "            if arraySortedOrNotIncreasing(arr_1,n):\n",
    "                return True\n",
    "    arr_2 = arr    \n",
    "    # Check if the array is sorted in decreasing order\n",
    "    for i in range(n):\n",
    "        if not arraySortedOrNotDecreasing(arr_2,n):\n",
    "            arr_2 = rotateClockWise(arr_2,n)\n",
    "            if arraySortedOrNotDecreasing(arr_2,n):\n",
    "                return True"
   ]
  },
  {
   "cell_type": "code",
   "execution_count": 23,
   "metadata": {},
   "outputs": [
    {
     "ename": "IndexError",
     "evalue": "list index out of range",
     "output_type": "error",
     "traceback": [
      "\u001b[1;31m---------------------------------------------------------------------------\u001b[0m",
      "\u001b[1;31mIndexError\u001b[0m                                Traceback (most recent call last)",
      "Cell \u001b[1;32mIn[23], line 1\u001b[0m\n\u001b[1;32m----> 1\u001b[0m \u001b[43marraySortedRotated\u001b[49m\u001b[43m(\u001b[49m\u001b[43m[\u001b[49m\u001b[38;5;241;43m1\u001b[39;49m\u001b[43m,\u001b[49m\u001b[38;5;241;43m2\u001b[39;49m\u001b[43m,\u001b[49m\u001b[38;5;241;43m3\u001b[39;49m\u001b[43m]\u001b[49m\u001b[43m,\u001b[49m\u001b[38;5;241;43m4\u001b[39;49m\u001b[43m)\u001b[49m\n",
      "Cell \u001b[1;32mIn[21], line 5\u001b[0m, in \u001b[0;36marraySortedRotated\u001b[1;34m(arr, n)\u001b[0m\n\u001b[0;32m      3\u001b[0m arr_1 \u001b[38;5;241m=\u001b[39m arr\n\u001b[0;32m      4\u001b[0m \u001b[38;5;28;01mfor\u001b[39;00m i \u001b[38;5;129;01min\u001b[39;00m \u001b[38;5;28mrange\u001b[39m(n):\n\u001b[1;32m----> 5\u001b[0m     \u001b[38;5;28;01mif\u001b[39;00m \u001b[38;5;129;01mnot\u001b[39;00m \u001b[43marraySortedOrNotIncreasing\u001b[49m\u001b[43m(\u001b[49m\u001b[43marr_1\u001b[49m\u001b[43m,\u001b[49m\u001b[43mn\u001b[49m\u001b[43m)\u001b[49m:\n\u001b[0;32m      6\u001b[0m         arr_1 \u001b[38;5;241m=\u001b[39m rotateClockWise(arr_1,n)\n\u001b[0;32m      7\u001b[0m         \u001b[38;5;28;01mif\u001b[39;00m arraySortedOrNotIncreasing(arr_1,n):\n",
      "Cell \u001b[1;32mIn[17], line 3\u001b[0m, in \u001b[0;36marraySortedOrNotIncreasing\u001b[1;34m(arr, n)\u001b[0m\n\u001b[0;32m      1\u001b[0m \u001b[38;5;28;01mdef\u001b[39;00m \u001b[38;5;21marraySortedOrNotIncreasing\u001b[39m(arr,n):\n\u001b[0;32m      2\u001b[0m     \u001b[38;5;28;01mfor\u001b[39;00m i \u001b[38;5;129;01min\u001b[39;00m \u001b[38;5;28mrange\u001b[39m(\u001b[38;5;241m1\u001b[39m,n):\n\u001b[1;32m----> 3\u001b[0m         \u001b[38;5;28;01mif\u001b[39;00m \u001b[43marr\u001b[49m\u001b[43m[\u001b[49m\u001b[43mi\u001b[49m\u001b[43m]\u001b[49m \u001b[38;5;241m>\u001b[39m\u001b[38;5;241m=\u001b[39m arr[i\u001b[38;5;241m-\u001b[39m\u001b[38;5;241m1\u001b[39m]:\n\u001b[0;32m      4\u001b[0m             \u001b[38;5;28;01mpass\u001b[39;00m\n\u001b[0;32m      5\u001b[0m         \u001b[38;5;28;01melse\u001b[39;00m:\n",
      "\u001b[1;31mIndexError\u001b[0m: list index out of range"
     ]
    }
   ],
   "source": [
    "arraySortedRotated([1,2,3],4)"
   ]
  },
  {
   "cell_type": "markdown",
   "metadata": {},
   "source": [
    "## REversing an Array"
   ]
  },
  {
   "cell_type": "code",
   "execution_count": 29,
   "metadata": {},
   "outputs": [],
   "source": [
    "def reverseArray(arr,n):\n",
    "    for i in range(int(n/2)):\n",
    "        temp = arr[i]\n",
    "        arr[i] = arr[n-1-i]\n",
    "        arr[n-1-i] = temp\n",
    "    return arr"
   ]
  },
  {
   "cell_type": "code",
   "execution_count": 36,
   "metadata": {},
   "outputs": [],
   "source": [
    "def reverseArrayNaive(arr,n):\n",
    "    low = 0\n",
    "    high = n-1\n",
    "    while (low<high):\n",
    "        temp = arr[low]\n",
    "        arr[low] = arr[high]\n",
    "        arr[high] = temp\n",
    "        low+=1\n",
    "        high-=1\n",
    "    return arr"
   ]
  },
  {
   "cell_type": "code",
   "execution_count": 37,
   "metadata": {},
   "outputs": [
    {
     "data": {
      "text/plain": [
       "[5, 2, 30]"
      ]
     },
     "execution_count": 37,
     "metadata": {},
     "output_type": "execute_result"
    }
   ],
   "source": [
    "reverseArrayNaive([30,2,5],3)"
   ]
  },
  {
   "cell_type": "markdown",
   "metadata": {},
   "source": [
    "## Reverse Array in Groups"
   ]
  },
  {
   "cell_type": "code",
   "execution_count": 9,
   "metadata": {},
   "outputs": [],
   "source": [
    "def reverseInSubGroups(arr,k):\n",
    "    def reverse(arr,low,high):\n",
    "        while(low<high):\n",
    "            temp = arr[low]\n",
    "            arr[low] = arr[high]\n",
    "            arr[high] = temp\n",
    "            low = low+1\n",
    "            high = high-1\n",
    "        return arr \n",
    "    low = 0\n",
    "    n = len(arr)-1\n",
    "    high = min(n,k-1)\n",
    "    while (low<=n):\n",
    "        reverse(arr,low,high)\n",
    "        low = low + k\n",
    "        high = min(n,high+k)\n",
    "    return arr"
   ]
  },
  {
   "cell_type": "code",
   "execution_count": 10,
   "metadata": {},
   "outputs": [
    {
     "data": {
      "text/plain": [
       "[3, 2, 1, 5, 4]"
      ]
     },
     "execution_count": 10,
     "metadata": {},
     "output_type": "execute_result"
    }
   ],
   "source": [
    "reverseInSubGroups([1,2,3,4,5],3)"
   ]
  },
  {
   "cell_type": "markdown",
   "metadata": {},
   "source": [
    "## Remove Duplicates from a Sorted Array"
   ]
  },
  {
   "cell_type": "markdown",
   "metadata": {},
   "source": [
    "### Naive Solutioon"
   ]
  },
  {
   "cell_type": "code",
   "execution_count": 24,
   "metadata": {},
   "outputs": [],
   "source": [
    "def removeDuplicatesNaive(arr,n):\n",
    "    arr_1 = [None] * (n-1)\n",
    "    arr_1[0] = arr[0]\n",
    "    res = 1\n",
    "    for i in range(1,n):\n",
    "        if arr[i] !=arr[res]:\n",
    "            arr_1[res] = arr[i]\n",
    "            res+=1\n",
    "    for i in range(res):\n",
    "        arr[i] = arr[res]\n",
    "    return arr"
   ]
  },
  {
   "cell_type": "code",
   "execution_count": 25,
   "metadata": {},
   "outputs": [
    {
     "data": {
      "text/plain": [
       "[30, 30, 30, 30, 30, 30, 30]"
      ]
     },
     "execution_count": 25,
     "metadata": {},
     "output_type": "execute_result"
    }
   ],
   "source": [
    "removeDuplicatesNaive([10,20,20,30,30,30,30],7)"
   ]
  },
  {
   "cell_type": "markdown",
   "metadata": {},
   "source": [
    "### Correct Solution"
   ]
  },
  {
   "cell_type": "code",
   "execution_count": 28,
   "metadata": {},
   "outputs": [],
   "source": [
    "def removeDuplicatesSorted(arr,n):\n",
    "    res = 1\n",
    "    for i in range(1,n):\n",
    "        if arr[i] != arr[res-1]:\n",
    "            arr[res] = arr[i]\n",
    "            res+=1\n",
    "    return res"
   ]
  },
  {
   "cell_type": "code",
   "execution_count": 29,
   "metadata": {},
   "outputs": [
    {
     "data": {
      "text/plain": [
       "3"
      ]
     },
     "execution_count": 29,
     "metadata": {},
     "output_type": "execute_result"
    }
   ],
   "source": [
    "removeDuplicatesSorted([10,20,20,30,30,30,30],7)"
   ]
  },
  {
   "cell_type": "markdown",
   "metadata": {},
   "source": [
    "## Move Zeros to end"
   ]
  },
  {
   "cell_type": "markdown",
   "metadata": {},
   "source": [
    "### Naive Solution"
   ]
  },
  {
   "cell_type": "code",
   "execution_count": 30,
   "metadata": {},
   "outputs": [],
   "source": [
    "def moveZerosNaive(arr,n):\n",
    "    for i in range(n):\n",
    "        if arr[i]==0:\n",
    "            for j in range(i+1,n):\n",
    "                if arr[j]!=0:\n",
    "                    temp = arr[i]\n",
    "                    arr[i] = arr[j]\n",
    "                    arr[j] = temp \n",
    "    return arr"
   ]
  },
  {
   "cell_type": "code",
   "execution_count": 31,
   "metadata": {},
   "outputs": [
    {
     "data": {
      "text/plain": [
       "[8, 5, 20, 10, 0, 0]"
      ]
     },
     "execution_count": 31,
     "metadata": {},
     "output_type": "execute_result"
    }
   ],
   "source": [
    "moveZerosNaive([8,5,0,10,0,20],6)"
   ]
  },
  {
   "cell_type": "markdown",
   "metadata": {},
   "source": [
    "### Efficient Solution"
   ]
  },
  {
   "cell_type": "code",
   "execution_count": 44,
   "metadata": {},
   "outputs": [],
   "source": [
    "def moveZeros(arr,n):\n",
    "    count = 0\n",
    "    for i in range(n):\n",
    "        if arr[i]!=0:\n",
    "            temp = arr[count]\n",
    "            arr[count] = arr[i]\n",
    "            arr[i] = temp\n",
    "            count+=1\n",
    "\n",
    "    return arr"
   ]
  },
  {
   "cell_type": "code",
   "execution_count": 45,
   "metadata": {},
   "outputs": [
    {
     "data": {
      "text/plain": [
       "[8, 5, 10, 20, 0, 0]"
      ]
     },
     "execution_count": 45,
     "metadata": {},
     "output_type": "execute_result"
    },
    {
     "ename": "",
     "evalue": "",
     "output_type": "error",
     "traceback": [
      "\u001b[1;31mThe Kernel crashed while executing code in the current cell or a previous cell. \n",
      "\u001b[1;31mPlease review the code in the cell(s) to identify a possible cause of the failure. \n",
      "\u001b[1;31mClick <a href='https://aka.ms/vscodeJupyterKernelCrash'>here</a> for more info. \n",
      "\u001b[1;31mView Jupyter <a href='command:jupyter.viewOutput'>log</a> for further details."
     ]
    }
   ],
   "source": [
    "moveZeros([8,5,0,10,0,20],6)"
   ]
  },
  {
   "cell_type": "markdown",
   "metadata": {},
   "source": [
    "## Rearrange an array with O(1) extra space"
   ]
  },
  {
   "cell_type": "code",
   "execution_count": null,
   "metadata": {},
   "outputs": [],
   "source": [
    "def rearrangeArray(arr,n):\n",
    "    for i in range(n):\n",
    "        res = arr[arr[i]]\n",
    "        "
   ]
  },
  {
   "cell_type": "markdown",
   "metadata": {},
   "source": [
    "## Left Rotate an Array by one"
   ]
  },
  {
   "cell_type": "markdown",
   "metadata": {},
   "source": [
    "### naive Method"
   ]
  },
  {
   "cell_type": "code",
   "execution_count": 17,
   "metadata": {},
   "outputs": [],
   "source": [
    "def leftRotateNaive(arr,n):\n",
    "    for i in range(1,n):\n",
    "        temp = arr[i]\n",
    "        arr[i] = arr[i-1]\n",
    "        arr[i-1] = temp\n",
    "    return arr  "
   ]
  },
  {
   "cell_type": "code",
   "execution_count": 18,
   "metadata": {},
   "outputs": [
    {
     "data": {
      "text/plain": [
       "[2, 3, 4, 5, 1]"
      ]
     },
     "execution_count": 18,
     "metadata": {},
     "output_type": "execute_result"
    }
   ],
   "source": [
    "leftRotateNaive([1,2,3,4,5],5)"
   ]
  },
  {
   "cell_type": "markdown",
   "metadata": {},
   "source": [
    "## Left rotate d places"
   ]
  },
  {
   "cell_type": "markdown",
   "metadata": {},
   "source": [
    "### Personal Solution"
   ]
  },
  {
   "cell_type": "code",
   "execution_count": 19,
   "metadata": {},
   "outputs": [],
   "source": [
    "## Naive Solution\n",
    "def leftRotateDPlaces(arr,d,n):\n",
    "    for i in range(d):\n",
    "        for j in range(1,n):\n",
    "            temp = arr[j]\n",
    "            arr[j] = arr[j-1]\n",
    "            arr[j-1] = temp\n",
    "    return arr"
   ]
  },
  {
   "cell_type": "code",
   "execution_count": 20,
   "metadata": {},
   "outputs": [
    {
     "data": {
      "text/plain": [
       "[4, 5, 1, 2, 3]"
      ]
     },
     "execution_count": 20,
     "metadata": {},
     "output_type": "execute_result"
    }
   ],
   "source": [
    "leftRotateDPlaces([1,2,3,4,5],3,5)"
   ]
  },
  {
   "cell_type": "markdown",
   "metadata": {},
   "source": [
    "### Efficient Solution\n"
   ]
  },
  {
   "cell_type": "code",
   "execution_count": 21,
   "metadata": {},
   "outputs": [],
   "source": [
    "def reverse(arr,low,high):\n",
    "    while (low<high):\n",
    "        temp = arr[low]\n",
    "        arr[low] = arr[high]\n",
    "        arr[high] = temp\n",
    "        low+=1\n",
    "        high-=1\n",
    "    return arr\n",
    "def leftRotateDPlacesEfficient(arr,d,n):\n",
    "    reverse(arr,0,d-1)\n",
    "    reverse(arr,d,n-1)\n",
    "    reverse(arr,0,n-1)\n",
    "    return arr\n"
   ]
  },
  {
   "cell_type": "code",
   "execution_count": 22,
   "metadata": {},
   "outputs": [
    {
     "data": {
      "text/plain": [
       "[3, 4, 5, 1, 2]"
      ]
     },
     "execution_count": 22,
     "metadata": {},
     "output_type": "execute_result"
    }
   ],
   "source": [
    "leftRotateDPlacesEfficient([1,2,3,4,5],2,5)"
   ]
  },
  {
   "cell_type": "markdown",
   "metadata": {},
   "source": [
    "## Leader of an Array"
   ]
  },
  {
   "cell_type": "markdown",
   "metadata": {},
   "source": [
    "### Naive Solution"
   ]
  },
  {
   "cell_type": "code",
   "execution_count": 34,
   "metadata": {},
   "outputs": [],
   "source": [
    "def leadersOfArray1(arr,n):\n",
    "    for i in range(n):\n",
    "        flag = False\n",
    "        for j in range(i+1,n):\n",
    "            if arr[j]>=arr[i]:\n",
    "                flag = True\n",
    "                break\n",
    "        if flag==False:\n",
    "            print(arr[i])\n",
    "    \n"
   ]
  },
  {
   "cell_type": "code",
   "execution_count": 35,
   "metadata": {},
   "outputs": [
    {
     "name": "stdout",
     "output_type": "stream",
     "text": [
      "10\n",
      "6\n",
      "5\n",
      "2\n"
     ]
    }
   ],
   "source": [
    "leadersOfArray1([7,10,4,10,6,5,2],7)"
   ]
  },
  {
   "cell_type": "markdown",
   "metadata": {},
   "source": [
    "### Efficient Solution"
   ]
  },
  {
   "cell_type": "code",
   "execution_count": 40,
   "metadata": {},
   "outputs": [],
   "source": [
    "def leadersOfArray(arr,n):\n",
    "    curr_ldr = arr[n-1]\n",
    "    print(curr_ldr)\n",
    "    for i in range(n-2,-1,-1):\n",
    "        if arr[i] >curr_ldr:\n",
    "            curr_ldr = arr[i]\n",
    "            print(curr_ldr)"
   ]
  },
  {
   "cell_type": "code",
   "execution_count": 41,
   "metadata": {},
   "outputs": [
    {
     "name": "stdout",
     "output_type": "stream",
     "text": [
      "2\n",
      "5\n",
      "6\n",
      "10\n"
     ]
    }
   ],
   "source": [
    "leadersOfArray([7,10,4,10,6,5,2],7)"
   ]
  },
  {
   "cell_type": "markdown",
   "metadata": {},
   "source": [
    "## Array Leaders"
   ]
  },
  {
   "cell_type": "code",
   "execution_count": 1,
   "metadata": {},
   "outputs": [],
   "source": [
    "def leaders(arr,n):\n",
    "    curr_ldr = arr[n-1]\n",
    "    print(curr_ldr)\n",
    "    for i in range(n-2,-1,-1):\n",
    "        if arr[i]>=curr_ldr:\n",
    "            curr_ldr = arr[i]\n",
    "            print(curr_ldr)\n",
    "            "
   ]
  },
  {
   "cell_type": "code",
   "execution_count": 4,
   "metadata": {},
   "outputs": [
    {
     "name": "stdout",
     "output_type": "stream",
     "text": [
      "40\n"
     ]
    }
   ],
   "source": [
    "leaders([5,10,20,40],4)"
   ]
  },
  {
   "cell_type": "markdown",
   "metadata": {},
   "source": [
    "def leadersOfArray1()"
   ]
  },
  {
   "cell_type": "markdown",
   "metadata": {},
   "source": [
    "# Maximum Difference Problem"
   ]
  },
  {
   "cell_type": "code",
   "execution_count": 4,
   "metadata": {},
   "outputs": [],
   "source": [
    "## Maximum value of arr[j] - arr[i] such that, j>i\n",
    "def maxDiff(arr,n):\n",
    "    small = arr[1]-arr[0]\n",
    "    for i in range(0,n):\n",
    "        for j in range(i+1,n):\n",
    "            if arr[j]-arr[i] > small:\n",
    "                small = arr[j]=arr[i]\n",
    "    return small"
   ]
  },
  {
   "cell_type": "code",
   "execution_count": 5,
   "metadata": {},
   "outputs": [
    {
     "data": {
      "text/plain": [
       "2"
      ]
     },
     "execution_count": 5,
     "metadata": {},
     "output_type": "execute_result"
    }
   ],
   "source": [
    "maxDiff([7,9,5,6,3,2],6)"
   ]
  },
  {
   "cell_type": "code",
   "execution_count": 8,
   "metadata": {},
   "outputs": [],
   "source": [
    "def maxDiffEf(arr,n):\n",
    "    res = arr[1] - arr[0]\n",
    "    min_val = arr[0]\n",
    "    for i in range(1,n):\n",
    "        res = max(res,arr[i]-min_val)\n",
    "        min_val = min(min_val,arr[i])\n",
    "    return res"
   ]
  },
  {
   "cell_type": "code",
   "execution_count": 10,
   "metadata": {},
   "outputs": [
    {
     "data": {
      "text/plain": [
       "2"
      ]
     },
     "execution_count": 10,
     "metadata": {},
     "output_type": "execute_result"
    }
   ],
   "source": [
    "maxDiffEf([7,9,5,6,3,2],6)"
   ]
  },
  {
   "cell_type": "markdown",
   "metadata": {},
   "source": [
    "# Frequencies in a sorted Array"
   ]
  },
  {
   "cell_type": "code",
   "execution_count": 13,
   "metadata": {},
   "outputs": [],
   "source": [
    "def freqNo(arr,n):\n",
    "    arr_el = arr[0]\n",
    "    cnt = 1\n",
    "    for i in range(1,n):\n",
    "        if arr_el == arr[i]:\n",
    "            cnt = cnt + 1\n",
    "        else:\n",
    "            print(arr_el,cnt)\n",
    "            arr_el = arr[i]\n",
    "            cnt = 1\n",
    "    print(arr_el,cnt)\n"
   ]
  },
  {
   "cell_type": "code",
   "execution_count": 16,
   "metadata": {},
   "outputs": [
    {
     "name": "stdout",
     "output_type": "stream",
     "text": [
      "10 1\n",
      "20 1\n",
      "30 1\n"
     ]
    }
   ],
   "source": [
    "freqNo([10,20,30],3)"
   ]
  },
  {
   "cell_type": "markdown",
   "metadata": {},
   "source": [
    "# Stock Buy and Sell Problem "
   ]
  },
  {
   "cell_type": "code",
   "execution_count": 17,
   "metadata": {},
   "outputs": [],
   "source": [
    "def stockBuySell(price,start,end):\n",
    "    if (end<=start):\n",
    "        return 0\n",
    "    profit = 0\n",
    "    for i in range(start,end):\n",
    "        for j in range(i+1,end+1):\n",
    "            if (price[j] > price[i]):\n",
    "                curr_profit = price[j] - price[i] + stockBuySell(price,start,i-1) + stockBuySell(price,j+1,end)\n",
    "                profit = max(profit,curr_profit)\n",
    "\n",
    "    return profit \n"
   ]
  },
  {
   "cell_type": "code",
   "execution_count": 20,
   "metadata": {},
   "outputs": [],
   "source": [
    "def maxProfit(price,n) -> int:\n",
    "    profit = 0 \n",
    "    for i in range(1,n):\n",
    "        if (price[i]>price[i-1]):\n",
    "            profit = profit + (price[i]-price[i-1])\n",
    "    return profit"
   ]
  },
  {
   "cell_type": "code",
   "execution_count": 21,
   "metadata": {},
   "outputs": [
    {
     "data": {
      "text/plain": [
       "13"
      ]
     },
     "execution_count": 21,
     "metadata": {},
     "output_type": "execute_result"
    }
   ],
   "source": [
    "maxProfit([1,5,3,8,12],5)"
   ]
  },
  {
   "cell_type": "markdown",
   "metadata": {},
   "source": [
    "# Trapping Rain Water"
   ]
  },
  {
   "cell_type": "code",
   "execution_count": 10,
   "metadata": {},
   "outputs": [],
   "source": [
    "def trapRainWater(arr,n):\n",
    "    res = 0\n",
    "    for i in range(1,n-1):\n",
    "        lmax = arr[i]\n",
    "        for j in range(0,i):\n",
    "            lmax = max(lmax,arr[j])\n",
    "        rmax = arr[i]\n",
    "        for j in range(i+1,n):\n",
    "            rmax = max(rmax,arr[j])\n",
    "        res = res + (min(lmax,rmax) -arr[i])\n",
    "    return res"
   ]
  },
  {
   "cell_type": "code",
   "execution_count": 12,
   "metadata": {},
   "outputs": [
    {
     "data": {
      "text/plain": [
       "2"
      ]
     },
     "execution_count": 12,
     "metadata": {},
     "output_type": "execute_result"
    }
   ],
   "source": [
    "trapRainWater([2,0,2],3)"
   ]
  },
  {
   "cell_type": "code",
   "execution_count": null,
   "metadata": {},
   "outputs": [],
   "source": []
  },
  {
   "cell_type": "markdown",
   "metadata": {},
   "source": [
    "# Largest element in an array"
   ]
  },
  {
   "cell_type": "code",
   "execution_count": null,
   "metadata": {},
   "outputs": [],
   "source": [
    "def largestElement(arr,n):\n",
    "    pass"
   ]
  },
  {
   "cell_type": "markdown",
   "metadata": {},
   "source": []
  },
  {
   "cell_type": "markdown",
   "metadata": {},
   "source": [
    "# Longest Even Odd Subarray"
   ]
  },
  {
   "cell_type": "code",
   "execution_count": 15,
   "metadata": {},
   "outputs": [],
   "source": [
    "def longOddEvenSubarrayNaive(arr,n):\n",
    "    res = 1\n",
    "    for i in range(n):\n",
    "        curr = 1\n",
    "        for j in range(i+1,n):\n",
    "            if ((arr[j]%2==0 & arr[j-1]%2!=0) | (arr[j]%2!=0 & arr[j-1]%2==0)):\n",
    "                curr+=1\n",
    "            else:\n",
    "                break\n",
    "        res = max(res,curr)\n",
    "    return res\n"
   ]
  },
  {
   "cell_type": "code",
   "execution_count": 16,
   "metadata": {},
   "outputs": [
    {
     "data": {
      "text/plain": [
       "2"
      ]
     },
     "execution_count": 16,
     "metadata": {},
     "output_type": "execute_result"
    }
   ],
   "source": [
    "longOddEvenSubarrayNaive([5,10,20,6,3,8],6)"
   ]
  },
  {
   "cell_type": "code",
   "execution_count": 17,
   "metadata": {},
   "outputs": [],
   "source": [
    "def longEvenOddSubarrayEff(arr,n):\n",
    "    res = 1\n",
    "    curr = 1\n",
    "    for i in range(1,n):\n",
    "        if ((arr[i]%2==0 & arr[i-1]%2!=0) | (arr[i]%2!=0 & arr[i-1]%2==0)):\n",
    "            curr+=1\n",
    "            res = max(res,curr)\n",
    "        else:\n",
    "            curr = 1\n",
    "    return res"
   ]
  },
  {
   "cell_type": "code",
   "execution_count": null,
   "metadata": {},
   "outputs": [],
   "source": [
    "longEvenOddSubarrayEff()"
   ]
  },
  {
   "cell_type": "markdown",
   "metadata": {},
   "source": [
    "# Maximum sum Sub array"
   ]
  },
  {
   "cell_type": "code",
   "execution_count": 18,
   "metadata": {},
   "outputs": [],
   "source": [
    "def maxSumSubArrayNaive(arr,n):\n",
    "    res = arr[0]\n",
    "    for i in range(1,n):\n",
    "        curr_max = arr[i]\n",
    "        curr_sum = arr[i]\n",
    "        for j in range(1,n):\n",
    "            index = int((i%j)/n)\n",
    "            curr_sum+=arr[index]\n",
    "            curr_max = max(curr_max,curr_sum)\n",
    "        res = max(curr_max,res)\n",
    "    return res"
   ]
  },
  {
   "cell_type": "code",
   "execution_count": 19,
   "metadata": {},
   "outputs": [
    {
     "name": "stdout",
     "output_type": "stream",
     "text": [
      "10\n",
      "5\n",
      "7\n",
      "4\n"
     ]
    }
   ],
   "source": [
    "maxSumSubArrayNaive([5,-2,3,4],4)"
   ]
  },
  {
   "cell_type": "code",
   "execution_count": 22,
   "metadata": {},
   "outputs": [],
   "source": [
    "def normalMaxSum(arr,n):\n",
    "    ## Implementing the normal kadane's algorithn\n",
    "    res = arr[0]\n",
    "    max_ending = arr[0]\n",
    "    for i in range(n):\n",
    "        max_ending = max(arr[i],max_ending)\n",
    "        res = max(res,max_ending)\n",
    "    return res\n",
    "\n",
    "\n",
    "def maxSumSubArrayEff(arr,n):\n",
    "    max_normal = normalMaxSum(arr,n)\n",
    "    if (max_normal<0):\n",
    "        return max_normal\n",
    "    arr_sum = 0\n",
    "    for i in range(n):\n",
    "        arr_sum+=arr[i]\n",
    "        arr[i] = -arr[i]\n",
    "    max_circular = arr_sum + normalMaxSum(arr,n)\n",
    "    return max(max_normal,max_circular)\n",
    "    \n"
   ]
  },
  {
   "cell_type": "code",
   "execution_count": 23,
   "metadata": {},
   "outputs": [
    {
     "data": {
      "text/plain": [
       "20"
      ]
     },
     "execution_count": 23,
     "metadata": {},
     "output_type": "execute_result"
    }
   ],
   "source": [
    "maxSumSubArrayEff([5,-2,3,4],4)"
   ]
  },
  {
   "cell_type": "markdown",
   "metadata": {},
   "source": [
    "## Minimum number of flips to make same"
   ]
  },
  {
   "cell_type": "code",
   "execution_count": null,
   "metadata": {},
   "outputs": [],
   "source": [
    "def minFlips(arr,n):\n",
    "    for i in range(n):\n",
    "        if arr[i]!=arr[i-1]:\n",
    "            if arr[i]!=arr[0]:\n",
    "                print(f\"From {i} to \")\n",
    "            else:\n",
    "                print(i-1)\n",
    "    if (arr[n-1]!=arr[0]):\n",
    "        print(n-1)"
   ]
  },
  {
   "cell_type": "markdown",
   "metadata": {},
   "source": [
    "# Sliding window technique"
   ]
  },
  {
   "cell_type": "code",
   "execution_count": 2,
   "metadata": {},
   "outputs": [],
   "source": [
    "def slidingWindowTechniqueNaive(arr,n,k):\n",
    "    res = 0\n",
    "    i=0\n",
    "    while (i+k-1<n):\n",
    "        curr = 0\n",
    "        for j in range(0,k):\n",
    "            curr = curr + arr[i+j]\n",
    "        res = max(curr,res)\n",
    "        i = i+1\n",
    "    return res"
   ]
  },
  {
   "cell_type": "code",
   "execution_count": 3,
   "metadata": {},
   "outputs": [
    {
     "data": {
      "text/plain": [
       "23"
      ]
     },
     "execution_count": 3,
     "metadata": {},
     "output_type": "execute_result"
    }
   ],
   "source": [
    "slidingWindowTechniqueNaive([10,5,-2,20,1],5,3)"
   ]
  },
  {
   "cell_type": "code",
   "execution_count": 4,
   "metadata": {},
   "outputs": [],
   "source": [
    "def slidingWindowTechniqueEff(arr,n,k):\n",
    "    curr = 0\n",
    "    for i in range(k):\n",
    "        curr+=arr[i]\n",
    "    res = curr\n",
    "    for i in range(k,n):\n",
    "        curr = curr+arr[i]-arr[i-k]\n",
    "        res = max(res,curr)\n",
    "    return res\n"
   ]
  },
  {
   "cell_type": "code",
   "execution_count": 5,
   "metadata": {},
   "outputs": [
    {
     "data": {
      "text/plain": [
       "23"
      ]
     },
     "execution_count": 5,
     "metadata": {},
     "output_type": "execute_result"
    }
   ],
   "source": [
    "slidingWindowTechniqueEff([10,5,-2,20,1],5,3)"
   ]
  },
  {
   "cell_type": "markdown",
   "metadata": {},
   "source": [
    "# Sub array with given sum"
   ]
  },
  {
   "cell_type": "code",
   "execution_count": 10,
   "metadata": {},
   "outputs": [],
   "source": [
    "def subArraySum(arr,n,given_sum):\n",
    "    for i in range(n):\n",
    "        curr_sum = 0\n",
    "        for j in range(i,n):\n",
    "            curr_sum+=arr[j]\n",
    "            if curr_sum == given_sum:\n",
    "                return True\n",
    "    return False\n",
    "    "
   ]
  },
  {
   "cell_type": "code",
   "execution_count": 11,
   "metadata": {},
   "outputs": [
    {
     "data": {
      "text/plain": [
       "True"
      ]
     },
     "execution_count": 11,
     "metadata": {},
     "output_type": "execute_result"
    }
   ],
   "source": [
    "subArraySum([1,4,0,0,3,10,5],7,7)"
   ]
  },
  {
   "cell_type": "code",
   "execution_count": 13,
   "metadata": {},
   "outputs": [],
   "source": [
    "def isSubSum(arr,n,given_sum):\n",
    "    s= 0\n",
    "    curr=0\n",
    "    for e in range(n):\n",
    "        curr+=arr[e]\n",
    "        while (given_sum<curr):\n",
    "            curr-=arr[s]\n",
    "            s+=1\n",
    "        if given_sum==curr:\n",
    "            return True\n",
    "    return False"
   ]
  },
  {
   "cell_type": "code",
   "execution_count": 14,
   "metadata": {},
   "outputs": [
    {
     "data": {
      "text/plain": [
       "True"
      ]
     },
     "execution_count": 14,
     "metadata": {},
     "output_type": "execute_result"
    }
   ],
   "source": [
    "isSubSum([1,4,0,0,3,10,5],7,7)"
   ]
  },
  {
   "cell_type": "markdown",
   "metadata": {},
   "source": [
    "# Prefix Sum"
   ]
  },
  {
   "cell_type": "code",
   "execution_count": 22,
   "metadata": {},
   "outputs": [],
   "source": [
    "def preSum(arr,n,l,r):\n",
    "    pre = [0]*n\n",
    "    pre[0] = arr[0]\n",
    "    arr_sum = 0\n",
    "    for i in range(1,n):\n",
    "        pre[i] = pre[i-1] + arr[i]\n",
    "    if l==0:\n",
    "        return pre[r]\n",
    "    else:\n",
    "        return pre[r] - pre[l-1]"
   ]
  },
  {
   "cell_type": "code",
   "execution_count": 23,
   "metadata": {},
   "outputs": [
    {
     "data": {
      "text/plain": [
       "-20"
      ]
     },
     "execution_count": 23,
     "metadata": {},
     "output_type": "execute_result"
    }
   ],
   "source": [
    "preSum([2,8,3,9,6,5,4],7,6,2)"
   ]
  },
  {
   "cell_type": "markdown",
   "metadata": {},
   "source": [
    "# Equilibrium Point"
   ]
  },
  {
   "cell_type": "code",
   "execution_count": 29,
   "metadata": {},
   "outputs": [],
   "source": [
    "def equiNaive(arr,n):\n",
    "    for i in range(n):\n",
    "        ls=0\n",
    "        rs=0\n",
    "        for j in range(0,i):\n",
    "            ls+=arr[j]\n",
    "        for k in range(i+1,n):\n",
    "            rs+=arr[k]\n",
    "        if ls==rs:\n",
    "            return True\n",
    "    return False"
   ]
  },
  {
   "cell_type": "code",
   "execution_count": 30,
   "metadata": {},
   "outputs": [
    {
     "data": {
      "text/plain": [
       "True"
      ]
     },
     "execution_count": 30,
     "metadata": {},
     "output_type": "execute_result"
    }
   ],
   "source": [
    "equiNaive([3,4,8,-9,9,7],6)"
   ]
  },
  {
   "cell_type": "code",
   "execution_count": 31,
   "metadata": {},
   "outputs": [],
   "source": [
    "def equiEff(arr,n):\n",
    "    rs = 0\n",
    "    for i in range(n):\n",
    "        rs+=arr[i]\n",
    "    ls=0\n",
    "    for i in range(n):\n",
    "        rs-=arr[i]\n",
    "        if ls==rs:\n",
    "            return True\n",
    "        ls+=arr[i]\n",
    "    return False\n"
   ]
  },
  {
   "cell_type": "markdown",
   "metadata": {},
   "source": [
    "# Largest Element in an array"
   ]
  },
  {
   "cell_type": "code",
   "execution_count": 1,
   "metadata": {},
   "outputs": [],
   "source": [
    "def largest_element_array(arr,n):\n",
    "    max_el = arr[0]\n",
    "    for i in range(1,n):\n",
    "        if (arr[i]>max_el):\n",
    "            max_el = arr[i]\n",
    "    return max_el"
   ]
  },
  {
   "cell_type": "code",
   "execution_count": 2,
   "metadata": {},
   "outputs": [
    {
     "data": {
      "text/plain": [
       "20"
      ]
     },
     "execution_count": 2,
     "metadata": {},
     "output_type": "execute_result"
    }
   ],
   "source": [
    "largest_element_array([5, 8, 20, 15 ],4)"
   ]
  },
  {
   "cell_type": "markdown",
   "metadata": {},
   "source": [
    "# MaxIndex Difference"
   ]
  },
  {
   "cell_type": "code",
   "execution_count": 3,
   "metadata": {},
   "outputs": [],
   "source": [
    "def max_index_diff_1(arr):\n",
    "    n = len(arr)\n",
    "    max_diff = 1\n",
    "    for i in range(n):\n",
    "        for j in range(i,n):\n",
    "            if arr[j] >=arr[i]:\n",
    "                max_diff = max(j-i,max_diff)\n",
    "    return max_diff"
   ]
  },
  {
   "cell_type": "code",
   "execution_count": 5,
   "metadata": {},
   "outputs": [
    {
     "data": {
      "text/plain": [
       "6"
      ]
     },
     "execution_count": 5,
     "metadata": {},
     "output_type": "execute_result"
    }
   ],
   "source": [
    "max_index_diff_1([34, 8, 10, 3, 2, 80, 30, 33, 1])"
   ]
  },
  {
   "cell_type": "code",
   "execution_count": 8,
   "metadata": {},
   "outputs": [
    {
     "name": "stdout",
     "output_type": "stream",
     "text": [
      "[1, 0, 0, 0, 0, 0, 0]\n"
     ]
    }
   ],
   "source": [
    "l_min = [0] * 7\n",
    "l_min[0] = 1\n",
    "print(l_min)"
   ]
  },
  {
   "cell_type": "code",
   "execution_count": 95,
   "metadata": {},
   "outputs": [],
   "source": [
    "def max_index_diff_2(arr):\n",
    "    n = len(arr)\n",
    "    print(arr)\n",
    "    l_min = arr.copy()\n",
    "    r_max = arr.copy()\n",
    "    l_min[0] = arr[0]\n",
    "    r_max[n-1] = arr[n-1]\n",
    "    # print(l_min,\"<<l_min before\")\n",
    "    for i in range(1,n-1):\n",
    "        if (l_min[i+1] >=l_min[i]):\n",
    "            l_min[i+1] = l_min[i]\n",
    "    if (l_min[n-1] >= l_min[n-2]):\n",
    "        l_min[n-1] = l_min[n-2]\n",
    "    \n",
    "    # print(r_max,\"<<before\")\n",
    "    for i in range(n-1,1,-1):\n",
    "        if (r_max[i-1] <= r_max[i]):\n",
    "            r_max[i-1] = r_max[i]\n",
    "    if (r_max[n-1] <= r_max[n-2]):\n",
    "        r_max[n-1] = r_max[n-2]        \n",
    "    # print(l_min,\"l_min after\")\n",
    "    # print(r_max,\"<<r_max after\")\n",
    "    # max_diff = 0\n",
    "    # for i in range(n-1,0,-1):\n",
    "    #     print(r_max[i],\"<<<<\",l_min[n-(i+1)])\n",
    "    #     if (r_max[i] >= l_min[n-(i+1)]):\n",
    "    #         max_diff = max(max_diff,i-(n-(i+1)))\n",
    "    #     print(max_diff,\"<<max_diff\")\n",
    "    print(l_min,\"<<l_min\")\n",
    "    print(r_max,\"<<r_max\")\n",
    "    j = n-1\n",
    "    max_diff = 0\n",
    "    for i in range(n):\n",
    "        if (r_max[n-1] >= l_min[i]):\n",
    "            max_diff = max(max_diff,n-1-i)\n",
    "        print(max_diff)\n",
    "    # while (j>0):\n",
    "    #     i=0\n",
    "    #     while (i<n-1):\n",
    "    #         print(r_max[j],\"----\",l_min[i])\n",
    "    #         if (r_max[j] >= l_min[i]):\n",
    "    #             max_diff = max(max_diff,j-i)\n",
    "    #         i+=1\n",
    "    #         print(max_diff)\n",
    "    #     j = j-1\n",
    "            \n",
    "            \n",
    "            \n",
    "    return max_diff            \n",
    "        "
   ]
  },
  {
   "cell_type": "code",
   "execution_count": 96,
   "metadata": {},
   "outputs": [
    {
     "name": "stdout",
     "output_type": "stream",
     "text": [
      "[34, 8, 10, 3, 2, 80, 30, 33, 1]\n",
      "[34, 8, 8, 3, 2, 2, 2, 2, 1] <<l_min\n",
      "[34, 80, 80, 80, 80, 80, 33, 33, 33] <<r_max\n",
      "0\n",
      "7\n",
      "7\n",
      "7\n",
      "7\n",
      "7\n",
      "7\n",
      "7\n",
      "7\n"
     ]
    },
    {
     "data": {
      "text/plain": [
       "7"
      ]
     },
     "execution_count": 96,
     "metadata": {},
     "output_type": "execute_result"
    }
   ],
   "source": [
    "max_index_diff_2([34, 8, 10, 3, 2, 80, 30, 33, 1])"
   ]
  },
  {
   "cell_type": "markdown",
   "metadata": {},
   "source": [
    "## Approach 3 (Efficient Approach)"
   ]
  },
  {
   "cell_type": "code",
   "execution_count": 43,
   "metadata": {},
   "outputs": [],
   "source": [
    "def max_index_diff(arr):\n",
    "    \"\"\"\n",
    "    1. Keep the track of the maximum element of the array from the right hand side\n",
    "    and store it in an array \n",
    "    2. Iterate over both the array from the index 0,\n",
    "    3. if the current ith element is greater than the current jth element, and the (j+1)th \n",
    "    element is equal to the jth element, increase j\n",
    "    4. Keep on the increasing the jth value, until we hit the condition that, current (j+1)th \n",
    "    element is lesser than the current jth value element. The difference between (j-i) gives us \n",
    "    the maximum difference between them.\n",
    "    \n",
    "\n",
    "    Args:\n",
    "        arr (): _description_\n",
    "        \n",
    "    \"\"\"\n",
    "    r_max = arr.copy();\n",
    "    n = len(arr);\n",
    "    for j in range(n-2,-1,-1):\n",
    "        r_max[j] = max(r_max[j+1],arr[j])\n",
    "    print(r_max,\"<<r_max\")\n",
    "    print(arr,\"<<arr\")\n",
    "    i,j = 0,0\n",
    "    max_val = 0\n",
    "    while (j<n and i<n):\n",
    "        print(max_val,\"<<max_val\")\n",
    "        if (arr[i] <= r_max[j]):\n",
    "            max_val = max(max_val,j-i)\n",
    "            j = j+1\n",
    "        else:\n",
    "            i = i+1\n",
    "    return max_val"
   ]
  },
  {
   "cell_type": "code",
   "execution_count": 7,
   "metadata": {},
   "outputs": [],
   "source": [
    "def max_diff_index(arr,n):\n",
    "    r_max = arr.copy()\n",
    "    for j in range(n-2,-1,-1):\n",
    "        r_max[j] = max(r_max[j],r_max[j+1])\n",
    "    print(r_max,\"<<r_max\")\n",
    "    i,j=0,0\n",
    "    max_val = 0\n",
    "    while (i<n and j<n):\n",
    "        if (arr[i] <= r_max[j]):\n",
    "            max_val = max(max_val,j-i)\n",
    "            j+=1\n",
    "        else:\n",
    "            i+=1\n",
    "    return max_val"
   ]
  },
  {
   "cell_type": "code",
   "execution_count": 8,
   "metadata": {},
   "outputs": [
    {
     "name": "stdout",
     "output_type": "stream",
     "text": [
      "[80, 80, 80, 80, 80, 80, 33, 33, 1] <<r_max\n"
     ]
    },
    {
     "data": {
      "text/plain": [
       "6"
      ]
     },
     "execution_count": 8,
     "metadata": {},
     "output_type": "execute_result"
    }
   ],
   "source": [
    "max_diff_index([34, 8, 10, 3, 2, 80, 30, 33, 1],9)"
   ]
  },
  {
   "cell_type": "code",
   "execution_count": 44,
   "metadata": {},
   "outputs": [
    {
     "name": "stdout",
     "output_type": "stream",
     "text": [
      "[80, 80, 80, 80, 80, 80, 33, 33, 1] <<r_max\n",
      "[34, 8, 10, 3, 2, 80, 30, 33, 1] <<arr\n",
      "0 <<max_val\n",
      "0 <<max_val\n",
      "1 <<max_val\n",
      "2 <<max_val\n",
      "3 <<max_val\n",
      "4 <<max_val\n",
      "5 <<max_val\n",
      "5 <<max_val\n",
      "5 <<max_val\n",
      "6 <<max_val\n",
      "6 <<max_val\n",
      "6 <<max_val\n",
      "6 <<max_val\n",
      "6 <<max_val\n",
      "6 <<max_val\n",
      "6 <<max_val\n",
      "6 <<max_val\n"
     ]
    },
    {
     "data": {
      "text/plain": [
       "6"
      ]
     },
     "execution_count": 44,
     "metadata": {},
     "output_type": "execute_result"
    }
   ],
   "source": [
    "max_index_diff([34, 8, 10, 3, 2, 80, 30, 33, 1])"
   ]
  },
  {
   "cell_type": "markdown",
   "metadata": {},
   "source": [
    "# Mean and Median of An Array"
   ]
  },
  {
   "cell_type": "code",
   "execution_count": 1,
   "metadata": {},
   "outputs": [],
   "source": [
    "def mean(A,N):\n",
    "    sum_array = 0\n",
    "    for i in range(N):\n",
    "        sum_array += A[i]\n",
    "    return int(sum_array/N)"
   ]
  },
  {
   "cell_type": "code",
   "execution_count": 2,
   "metadata": {},
   "outputs": [
    {
     "data": {
      "text/plain": [
       "11"
      ]
     },
     "execution_count": 2,
     "metadata": {},
     "output_type": "execute_result"
    }
   ],
   "source": [
    "mean([1 ,2 ,19 ,28 ,5],5)"
   ]
  },
  {
   "cell_type": "code",
   "execution_count": 12,
   "metadata": {},
   "outputs": [],
   "source": [
    "def median(A,N):\n",
    "    A.sort()\n",
    "    print(A,\"<<sorted Array\")\n",
    "    if (N%2==0):\n",
    "        print(int(N/2))\n",
    "        return A[int(N/2)]\n",
    "    else:\n",
    "        print(int(((N+1)/2)-1))\n",
    "        return A[int(((N+1)/2)-1)]"
   ]
  },
  {
   "cell_type": "code",
   "execution_count": 13,
   "metadata": {},
   "outputs": [
    {
     "name": "stdout",
     "output_type": "stream",
     "text": [
      "[2, 3, 4, 8] <<sorted Array\n",
      "2\n"
     ]
    },
    {
     "data": {
      "text/plain": [
       "4"
      ]
     },
     "execution_count": 13,
     "metadata": {},
     "output_type": "execute_result"
    }
   ],
   "source": [
    "median([2,8,3,4],4)"
   ]
  },
  {
   "cell_type": "markdown",
   "metadata": {},
   "source": [
    "# Check if the array is sorted or not"
   ]
  },
  {
   "cell_type": "code",
   "execution_count": 15,
   "metadata": {},
   "outputs": [],
   "source": [
    "def check_sorted_arr(arr,n):\n",
    "    for i in range(n-1,0,-1):\n",
    "        if (arr[i]>=arr[i-1]):\n",
    "            continue\n",
    "        return \"No\"\n",
    "    return \"Yes\""
   ]
  },
  {
   "cell_type": "code",
   "execution_count": 17,
   "metadata": {},
   "outputs": [
    {
     "data": {
      "text/plain": [
       "'No'"
      ]
     },
     "execution_count": 17,
     "metadata": {},
     "output_type": "execute_result"
    }
   ],
   "source": [
    "check_sorted_arr([20 ,20 ,78 ,98 ,99 ,97],6)"
   ]
  },
  {
   "cell_type": "markdown",
   "metadata": {},
   "source": [
    "# check array sorted and rotated."
   ]
  },
  {
   "cell_type": "code",
   "execution_count": 5,
   "metadata": {},
   "outputs": [],
   "source": [
    "def check_sorted_rotated_arr(arr,n):\n",
    "    # Rotate the array clockwise by one element\n",
    "    # Check if it is increasing or decreasing\n",
    "    i =0\n",
    "    count = 0\n",
    "    while (i<n):\n",
    "        # rotate the elements in the array by one element \n",
    "        # in the clock wise direction\n",
    "        temp = arr[0]\n",
    "        \n",
    "        for j in range(n-1):\n",
    "            arr[j] = arr[j+1]\n",
    "        arr[n-1] = temp\n",
    "        print(arr,\"<<rotated\")\n",
    "        # check if the array is sorted in increasing order\n",
    "        # if it is increasing order return \"Yes\" if not then continue\n",
    "        for k in range(n-1):\n",
    "            if (arr[k] < arr[k+1]):\n",
    "                break\n",
    "            else:\n",
    "                count+=1\n",
    "        i+=1\n",
    "    if count !=0:\n",
    "        return \"Yes\"\n",
    "    else:\n",
    "        return \"No\"\n",
    "    "
   ]
  },
  {
   "cell_type": "code",
   "execution_count": 6,
   "metadata": {},
   "outputs": [
    {
     "name": "stdout",
     "output_type": "stream",
     "text": [
      "[4, 1, 2, 3] <<rotated\n",
      "[1, 2, 3, 4] <<rotated\n",
      "[2, 3, 4, 1] <<rotated\n",
      "[3, 4, 1, 2] <<rotated\n"
     ]
    },
    {
     "data": {
      "text/plain": [
       "'Yes'"
      ]
     },
     "execution_count": 6,
     "metadata": {},
     "output_type": "execute_result"
    }
   ],
   "source": [
    "check_sorted_rotated_arr([3,4,1,2],4)"
   ]
  },
  {
   "cell_type": "code",
   "execution_count": 7,
   "metadata": {},
   "outputs": [],
   "source": [
    "\n",
    "class Solution:\n",
    "    #Function to check if array is sorted in increasing order and rotated.\n",
    "    def II (self,arr, n):\n",
    "        i = 0\n",
    "        #We use a loop to check whether elements are in increasing order and \n",
    "    \t#stop at position where we find a smaller number than previous one.\n",
    "        while (i < n-1 and arr[i] <= arr[i+1]):\n",
    "            i += 1\n",
    "        #If we reach the end of the array, we return false.\n",
    "        if i == n-1:\n",
    "            return False\n",
    "            \n",
    "        i += 1\n",
    "        #Now we check whether all remaining elements are in increasing order.\n",
    "        while (i < n-1 and arr[i] <= arr[i+1]):\n",
    "            i += 1\n",
    "            \n",
    "        #If we reach the end and the last element is smaller than or equal to\n",
    "        #first element we return true else we return false.\n",
    "        if (i == n-1 and arr[n-1] <= arr[0]):\n",
    "            return True\n",
    "        else:\n",
    "            return False\n",
    "            \n",
    "    #Function to check if array is sorted in decreasing order and rotated.\n",
    "    def DD (self,arr, n):\n",
    "        i = 0 \n",
    "        #We use a loop to check whether elements are in decreasing order and \n",
    "        #stop at position where we find a smaller number than next one.\n",
    "        while (i < n-1 and arr[i] >= arr[i+1]):\n",
    "            i += 1\n",
    "        #If we reach the end of the array, we return false.\n",
    "        if i == n-1:\n",
    "            return False\n",
    "            \n",
    "        i += 1\n",
    "        #Now we check whether all remaining elements are in decreasing order.\n",
    "        while (i < n-1 and arr[i] >= arr[i+1]):\n",
    "            i += 1\n",
    "        \n",
    "        #If we reach the end and the last element is larger than or equal to \n",
    "        #first element we return true else we return false.\n",
    "        if (i == n-1 and arr[n-1] >= arr[0]):\n",
    "            return True\n",
    "        else:\n",
    "            return False\n",
    "            \n",
    "    #Function to check if array is sorted and rotated.\n",
    "    def checkRotatedAndSorted (self,arr, n):\n",
    "        \n",
    "        #returning true if any of the two function gives true.\n",
    "        if self.II (arr,n) == True:\n",
    "            return True\n",
    "            \n",
    "        if self.DD (arr,n) == True:\n",
    "            return True\n",
    "            \n",
    "        return False\n",
    "nds"
   ]
  },
  {
   "cell_type": "code",
   "execution_count": 8,
   "metadata": {},
   "outputs": [
    {
     "data": {
      "text/plain": [
       "'Yes'"
      ]
     },
     "execution_count": 8,
     "metadata": {},
     "output_type": "execute_result"
    }
   ],
   "source": [
    "check_sorted_rotated_arr([3,4,1,2],4)"
   ]
  },
  {
   "cell_type": "markdown",
   "metadata": {},
   "source": [
    "# Reverse an array"
   ]
  },
  {
   "cell_type": "code",
   "execution_count": 9,
   "metadata": {},
   "outputs": [],
   "source": [
    "def reverse_array(arr,n):\n",
    "    start = 0\n",
    "    end = n-1\n",
    "    while (start < end):\n",
    "        temp = arr[start]\n",
    "        arr[start] = arr[end]\n",
    "        arr[end] = temp\n",
    "        start+=1\n",
    "        end-=1\n",
    "    return arr\n",
    "        "
   ]
  },
  {
   "cell_type": "code",
   "execution_count": 10,
   "metadata": {},
   "outputs": [
    {
     "data": {
      "text/plain": [
       "[3, 2, 1]"
      ]
     },
     "execution_count": 10,
     "metadata": {},
     "output_type": "execute_result"
    }
   ],
   "source": [
    "reverse_array([1,2,3],3)"
   ]
  },
  {
   "cell_type": "markdown",
   "metadata": {},
   "source": [
    "# Reverse array in groups"
   ]
  },
  {
   "cell_type": "code",
   "execution_count": 25,
   "metadata": {},
   "outputs": [],
   "source": [
    "def reverse_array_k_groups(arr,k):\n",
    "    # Store the length of the array in n\n",
    "    # iterate a loop whose start_point in 0 and end_point is min(n,k-1), where start_point increases by k and \n",
    "    # end_point descreases by k after every iteration\n",
    "    # The loop will stop working when the start_point > end_point\n",
    "    # reverse the elements by swapping the equidistant elements from the \n",
    "    # start_point and the end_point.\n",
    "    # When the start_point > end_point , \n",
    "    # Instatiate a new start_point with value k+prev start_point and \n",
    "    # end_point by k+ prev end_point. if the k + prev end_point > n, then\n",
    "    # take n as the end_point\n",
    "    \n",
    "    def reverse_array(arr,start_point,end_point):\n",
    "        while (start_point < end_point):\n",
    "            temp = arr[start_point]\n",
    "            arr[start_point] = arr[end_point]\n",
    "            arr[end_point] = temp\n",
    "            start_point += 1\n",
    "            end_point -= 1\n",
    "        return arr\n",
    "    n = len(arr) - 1\n",
    "    start_point = 0\n",
    "    end_point = min(n,k-1)\n",
    "    while (start_point < end_point):\n",
    "        reverse_array(arr,start_point,end_point)\n",
    "        start_point = start_point + k\n",
    "        end_point = min(n,end_point+k)\n",
    "        \n",
    "    return arr\n",
    "     "
   ]
  },
  {
   "cell_type": "code",
   "execution_count": 26,
   "metadata": {},
   "outputs": [
    {
     "data": {
      "text/plain": [
       "[3, 2, 1, 5, 4]"
      ]
     },
     "execution_count": 26,
     "metadata": {},
     "output_type": "execute_result"
    }
   ],
   "source": [
    "reverse_array_k_groups([1,2,3,4,5],3)"
   ]
  },
  {
   "cell_type": "code",
   "execution_count": 35,
   "metadata": {},
   "outputs": [],
   "source": [
    "def remove_duplicates_array(arr,n):\n",
    "    res = 1\n",
    "    for i in range(1,n):\n",
    "        if (arr[i] != arr[res-1]):\n",
    "            arr[res] = arr[i]\n",
    "            res = res + 1\n",
    "    for i in range(res):\n",
    "        print(arr[i],\"\\t\")"
   ]
  },
  {
   "cell_type": "code",
   "execution_count": 36,
   "metadata": {},
   "outputs": [
    {
     "name": "stdout",
     "output_type": "stream",
     "text": [
      "10 \t\n",
      "20 \t\n",
      "30 \t\n"
     ]
    }
   ],
   "source": [
    "remove_duplicates_array([10,20,30,30,30],5)"
   ]
  },
  {
   "cell_type": "markdown",
   "metadata": {},
   "source": [
    "# Move zeros to the end"
   ]
  },
  {
   "cell_type": "code",
   "execution_count": 39,
   "metadata": {},
   "outputs": [],
   "source": [
    "def move_zeros_to_end(arr,n):\n",
    "    count = 0\n",
    "    for i in range(0,n):\n",
    "        if (arr[i]!=0):\n",
    "            temp = arr[count]\n",
    "            arr[count] = arr[i]\n",
    "            arr[i] = temp\n",
    "            count += 1\n",
    "    return arr"
   ]
  },
  {
   "cell_type": "code",
   "execution_count": 40,
   "metadata": {},
   "outputs": [
    {
     "data": {
      "text/plain": [
       "[8, 5, 10, 3, 0, 0, 0]"
      ]
     },
     "execution_count": 40,
     "metadata": {},
     "output_type": "execute_result"
    }
   ],
   "source": [
    "move_zeros_to_end([8,0,5,10,0,3,0],7)"
   ]
  },
  {
   "cell_type": "markdown",
   "metadata": {},
   "source": [
    "# Rearrange an array with O(1) extra space"
   ]
  },
  {
   "cell_type": "code",
   "execution_count": 54,
   "metadata": {},
   "outputs": [],
   "source": [
    "def rearrange_with_extra_space(arr,n):\n",
    "    for i in range(n):\n",
    "        arr[i] += (arr[arr[i]] %n) * n \n",
    "    print(arr,\"<<modified array\")\n",
    "    for i in range(n):\n",
    "        arr[i] = int(arr[i] /n)\n",
    "    return arr\n",
    "    "
   ]
  },
  {
   "cell_type": "code",
   "execution_count": 56,
   "metadata": {},
   "outputs": [
    {
     "name": "stdout",
     "output_type": "stream",
     "text": [
      "[1, 2] <<modified array\n"
     ]
    },
    {
     "data": {
      "text/plain": [
       "[0, 1]"
      ]
     },
     "execution_count": 56,
     "metadata": {},
     "output_type": "execute_result"
    }
   ],
   "source": [
    "rearrange_with_extra_space([],2)"
   ]
  },
  {
   "cell_type": "markdown",
   "metadata": {},
   "source": [
    "# Rotate an array by D elements"
   ]
  },
  {
   "cell_type": "code",
   "execution_count": 72,
   "metadata": {},
   "outputs": [],
   "source": [
    "def rotate_array_by_d(arr,k):\n",
    "    if (k > len(arr)):\n",
    "        k = int(k%len(arr))\n",
    "    print(arr,\"<<array\")\n",
    "    start_point = 0\n",
    "    end_point = k-1\n",
    "    while(start_point < end_point):\n",
    "        temp = arr[start_point]\n",
    "        arr[start_point] = arr[end_point]\n",
    "        arr[end_point] = temp\n",
    "        start_point += 1\n",
    "        end_point -= 1\n",
    "    print(arr,\"<<modified array\")\n",
    "    start_point = k\n",
    "    end_point = len(arr)-1\n",
    "    while (start_point < end_point):\n",
    "        temp = arr[start_point]\n",
    "        arr[start_point] = arr[end_point]\n",
    "        arr[end_point] = temp\n",
    "        start_point += 1\n",
    "        end_point -=1\n",
    "    print(arr,\"<<Modified Array\")\n",
    "    start_point = 0\n",
    "    end_point = len(arr) - 1\n",
    "    while (start_point < end_point):\n",
    "        temp = arr[start_point]\n",
    "        arr[start_point] = arr[end_point]\n",
    "        arr[end_point] = temp\n",
    "        start_point += 1\n",
    "        end_point -=1\n",
    "    print(arr,\"<<Modified array\")"
   ]
  },
  {
   "cell_type": "code",
   "execution_count": 73,
   "metadata": {},
   "outputs": [
    {
     "data": {
      "text/plain": [
       "2"
      ]
     },
     "execution_count": 73,
     "metadata": {},
     "output_type": "execute_result"
    }
   ],
   "source": [
    "int(7%5)"
   ]
  },
  {
   "cell_type": "code",
   "execution_count": 74,
   "metadata": {},
   "outputs": [
    {
     "name": "stdout",
     "output_type": "stream",
     "text": [
      "[1, 0] <<array\n",
      "[1, 0] <<modified array\n",
      "[1, 0] <<Modified Array\n",
      "[0, 1] <<Modified array\n"
     ]
    }
   ],
   "source": [
    "rotate_array_by_d([1,0],101)"
   ]
  },
  {
   "cell_type": "markdown",
   "metadata": {},
   "source": [
    "# Leaders in an Array"
   ]
  },
  {
   "cell_type": "code",
   "execution_count": 79,
   "metadata": {},
   "outputs": [],
   "source": [
    "def leaders_in_an_array(arr,n):\n",
    "    curr_leader = arr[n-1]\n",
    "    for i in range(n-2,-1,-1):\n",
    "        if(curr_leader <= arr[i]):\n",
    "            curr_leader = arr[i]\n",
    "            print(curr_leader)\n",
    "    print(arr[n-1])"
   ]
  },
  {
   "cell_type": "code",
   "execution_count": 80,
   "metadata": {},
   "outputs": [
    {
     "name": "stdout",
     "output_type": "stream",
     "text": [
      "5\n",
      "17\n",
      "2\n"
     ]
    }
   ],
   "source": [
    "leaders_in_an_array([16,17,4,3,5,2],6)"
   ]
  },
  {
   "cell_type": "markdown",
   "metadata": {},
   "source": [
    "# Array Leaders"
   ]
  },
  {
   "cell_type": "code",
   "execution_count": 87,
   "metadata": {},
   "outputs": [],
   "source": [
    "def leaders_array(arr,n):\n",
    "    curr_leader = arr[n-1]\n",
    "    leaders_array = []\n",
    "    leaders_array.append(curr_leader)\n",
    "    for i in range(n-2,-1,-1):\n",
    "        if (curr_leader <= arr[i]):\n",
    "            curr_leader = arr[i]\n",
    "            leaders_array.append(curr_leader)\n",
    "    return leaders_array"
   ]
  },
  {
   "cell_type": "code",
   "execution_count": 88,
   "metadata": {},
   "outputs": [
    {
     "data": {
      "text/plain": [
       "[2, 5, 17]"
      ]
     },
     "execution_count": 88,
     "metadata": {},
     "output_type": "execute_result"
    }
   ],
   "source": [
    "leaders_array([16,17,4,3,5,2],6)"
   ]
  },
  {
   "cell_type": "markdown",
   "metadata": {},
   "source": [
    "# Maximum difference problem with order"
   ]
  },
  {
   "cell_type": "code",
   "execution_count": 89,
   "metadata": {},
   "outputs": [],
   "source": [
    "def maximum_difference_1(arr,n):\n",
    "    max_diff = 0\n",
    "    for i in range(n):\n",
    "        for j in range(i+1,n):\n",
    "            max_diff = max(max_diff,arr[j]-arr[i])\n",
    "    return max_diff"
   ]
  },
  {
   "cell_type": "code",
   "execution_count": 91,
   "metadata": {},
   "outputs": [
    {
     "data": {
      "text/plain": [
       "2"
      ]
     },
     "execution_count": 91,
     "metadata": {},
     "output_type": "execute_result"
    }
   ],
   "source": [
    "maximum_difference_1([7, 9, 5, 6, 3, 2],6)"
   ]
  },
  {
   "cell_type": "code",
   "execution_count": 92,
   "metadata": {},
   "outputs": [],
   "source": [
    "def maximum_difference_2(arr,n):\n",
    "    max_diff = arr[1] - arr[0]\n",
    "    min_element = arr[0]\n",
    "    for i in range(1,n):\n",
    "        if(arr[i] - min_element > max_diff):\n",
    "            max_diff = arr[i] - min_element\n",
    "        if (arr[i] < min_element):\n",
    "            min_element = arr[i]\n",
    "    return max_diff"
   ]
  },
  {
   "cell_type": "code",
   "execution_count": 93,
   "metadata": {},
   "outputs": [
    {
     "data": {
      "text/plain": [
       "2"
      ]
     },
     "execution_count": 93,
     "metadata": {},
     "output_type": "execute_result"
    }
   ],
   "source": [
    "maximum_difference_2([7, 9, 5, 6, 3, 2],6)"
   ]
  },
  {
   "cell_type": "markdown",
   "metadata": {},
   "source": [
    "# Re arrange array alternately"
   ]
  },
  {
   "cell_type": "code",
   "execution_count": null,
   "metadata": {},
   "outputs": [],
   "source": [
    "def sort(arr,n):\n",
    "    "
   ]
  },
  {
   "cell_type": "code",
   "execution_count": 63,
   "metadata": {},
   "outputs": [],
   "source": [
    "def rearrange_array(arr,n):\n",
    "    # Initizlizing the pointers\n",
    "    j = n-1\n",
    "    i =0 \n",
    "    # Sorting the array\n",
    "    \n",
    "    \n",
    "    # Storing the maximum element f the array\n",
    "    print(arr,\"<<array\")\n",
    "    greaterMax = arr[n-1] + 1\n",
    "    for index in range(n):\n",
    "        # if current index is even\n",
    "        if (index % 2 == 0):\n",
    "            arr[index] += (arr[j] % greaterMax) * greaterMax\n",
    "            \n",
    "            # decrease j by 1\n",
    "            j-=1\n",
    "        else:\n",
    "            arr[index] += (arr[i] % greaterMax) * greaterMax\n",
    "            \n",
    "            # increse i by 1\n",
    "            i+=1\n",
    "        \n",
    "            \n",
    "    for i in range(n):\n",
    "        print(arr[i]//greaterMax,end=\" \")\n",
    "        \n",
    "    "
   ]
  },
  {
   "cell_type": "code",
   "execution_count": 64,
   "metadata": {},
   "outputs": [
    {
     "name": "stdout",
     "output_type": "stream",
     "text": [
      "[890, 289, 483, 519, 550, 447, 946, 957, 92, 783] <<array\n",
      "783 890 92 289 0 483 946 520 447 550 "
     ]
    }
   ],
   "source": [
    "rearrange_array([890 ,289, 483 ,519 ,550, 447, 946, 957 ,92, 783],10)"
   ]
  },
  {
   "cell_type": "markdown",
   "metadata": {},
   "source": [
    "# Re arrange array alternately\n"
   ]
  },
  {
   "cell_type": "markdown",
   "metadata": {},
   "source": [
    "## Auxiliary Space Approach"
   ]
  },
  {
   "cell_type": "code",
   "execution_count": 16,
   "metadata": {},
   "outputs": [],
   "source": [
    "def rearrange_array_naive(arr):\n",
    "    count = [0] * len(arr)\n",
    "    arr.sort()\n",
    "    i = 0\n",
    "    j = len(arr)-1\n",
    "    k = 0\n",
    "    while (i<=j):\n",
    "        count[k] = arr[j]\n",
    "        count[k+1] = arr[i]\n",
    "        k+=2\n",
    "        j-=1\n",
    "        i+=1\n",
    "    return count"
   ]
  },
  {
   "cell_type": "code",
   "execution_count": 17,
   "metadata": {},
   "outputs": [
    {
     "data": {
      "text/plain": [
       "[9, 3, 8, 4, 7, 6]"
      ]
     },
     "execution_count": 17,
     "metadata": {},
     "output_type": "execute_result"
    }
   ],
   "source": [
    "rearrange_array_naive([7,8,9,3,4,6])"
   ]
  },
  {
   "cell_type": "markdown",
   "metadata": {},
   "source": [
    "## No Auxiliary space approach"
   ]
  },
  {
   "cell_type": "code",
   "execution_count": 45,
   "metadata": {},
   "outputs": [],
   "source": [
    "def rearrange_array_optimized(arr):\n",
    "    arr.sort()\n",
    "    maxElement = arr[-1] + 1\n",
    "    maxIdx = len(arr)-1\n",
    "    minIdx = 0\n",
    "    for i in range(len(arr)):\n",
    "        if (i%2==0):\n",
    "            arr[i] = (arr[maxIdx] % maxElement) * maxElement + arr[i]\n",
    "            maxIdx-=1\n",
    "        else:\n",
    "            arr[i] = (arr[minIdx] % maxElement) * maxElement + arr[i]\n",
    "            minIdx+=1\n",
    "    for i in range(len(arr)):\n",
    "        arr[i] = int(arr[i]/maxElement)\n",
    "    return arr"
   ]
  },
  {
   "cell_type": "code",
   "execution_count": 46,
   "metadata": {},
   "outputs": [
    {
     "name": "stdout",
     "output_type": "stream",
     "text": [
      "[3, 4, 6, 7, 8, 9]\n",
      "10\n",
      "[93, 34, 86, 47, 78, 69]\n"
     ]
    },
    {
     "data": {
      "text/plain": [
       "[9, 3, 8, 4, 7, 6]"
      ]
     },
     "execution_count": 46,
     "metadata": {},
     "output_type": "execute_result"
    }
   ],
   "source": [
    "rearrange_array_optimized([7,8,9,3,4,6])"
   ]
  },
  {
   "cell_type": "code",
   "execution_count": null,
   "metadata": {},
   "outputs": [],
   "source": []
  }
 ],
 "metadata": {
  "kernelspec": {
   "display_name": "Python 3",
   "language": "python",
   "name": "python3"
  },
  "language_info": {
   "codemirror_mode": {
    "name": "ipython",
    "version": 3
   },
   "file_extension": ".py",
   "mimetype": "text/x-python",
   "name": "python",
   "nbconvert_exporter": "python",
   "pygments_lexer": "ipython3",
   "version": "3.11.9"
  }
 },
 "nbformat": 4,
 "nbformat_minor": 2
}
